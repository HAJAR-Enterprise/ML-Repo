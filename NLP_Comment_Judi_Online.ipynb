{
  "cells": [
    {
      "cell_type": "markdown",
      "metadata": {
        "id": "oPquiwbKSJg6"
      },
      "source": [
        "# Proyek NLP - [Klasifikasi Komentar Judi Online]\n",
        "\n",
        "**Judul Proyek :** HAJAR (Hapus Judi Online Anti Ribet)\n",
        "\n",
        "**ID Team :** CC25-CF230\n",
        "\n",
        "**Anggota Team :**\n",
        "\n",
        "1. (ML) MC009D5Y0493 - Ahmad Zaky Humami – Universitas Gunadarma - Aktif\n",
        "2. (ML) MC009D5Y0506 - Fahru Rahman – Universitas Gunadarma - Aktif\n",
        "3. (ML) MC314D5X1177 - Shofi Shulhiyana – Universitas Singaperbangsa Karawang - Aktif\n",
        "4. (FEBE) FC009D5Y0885 - Muhammad Faris Rasyid Raharjo - Universitas Gunadarma  Aktif\n",
        "5. (FEBE) FC314D5Y1568 - Fahry Firdaus Marpaung - Universitas Singaperbangsa Karawang - Aktif\n",
        "6. (FEBE) FC009D5Y1828 - Linggar Riza Hamretta - Universitas Gunadarma - Aktif\n"
      ]
    },
    {
      "cell_type": "markdown",
      "metadata": {
        "id": "Ohw73dMwbCBq"
      },
      "source": [
        "## Proyek Overview\n",
        "YouTube merupakan salah satu platform media sosial berbasis video terbesar di dunia yang memungkinkan penggunanya untuk dapat saling berinteraksi melalui kolom komentar. Namun, akhir-akhir ini kolom komentar pada konten video YouTube sering disalahgunakan oleh pihak yang tidak bertanggungjawab untuk menyebarkan konten spam dan promosi seputar judi online. Komentar tersebut mengganggu kenyamanan pengguna ketika ingin berdiskusi di kolom komentar dan berpotensi membahayakan jika terdapat tautan ke situs judi online tersebut. Pelaku spam juga kerap menggunakan kata-kata tersamar, dan simbol.\n",
        "\n",
        "Mengapa Masalah Ini Harus Diselesaikan :\n",
        "1.  **Mengganggu Kenyamanan Pengguna**: Kolom komentar yang disalahgunakan dapat mengganggu kenyamanan pengguna ketika ingin berdiskusi di kolom komentar. Hal ini dapat mengurangi pengalaman pengguna dan membuat mereka tidak ingin kembali ke platform tersebut.\n",
        "2.  **Bahaya Konten Judi Online**: Konten judi online dapat membahayakan pengguna, terutama anak-anak dan remaja yang masih belum dewasa. Mereka mungkin tidak memiliki pengetahuan yang cukup untuk mengenali bahaya konten tersebut dan dapat terjebak dalam situasi yang tidak diinginkan. Selain itu, konten judi online juga dapat membahayakan pengguna yang sudah dewasa karena dapat menyebabkan kecanduan dan masalah keuangan. \n"
      ]
    },
    {
      "cell_type": "markdown",
      "metadata": {
        "id": "90P19MERbNBV"
      },
      "source": [
        "## Business Understanding\n",
        "\n",
        "### Problem Statements\n",
        "1. \n",
        "2. \n",
        "3. \n",
        "\n",
        "### Goals\n",
        "1. \n",
        "2. \n",
        "3. "
      ]
    },
    {
      "cell_type": "markdown",
      "metadata": {
        "id": "HCkr3Fxca5TN"
      },
      "source": [
        "## Data Understanding"
      ]
    },
    {
      "cell_type": "markdown",
      "metadata": {
        "id": "px-4J_4E4eZW"
      },
      "source": [
        "### Import Library\n"
      ]
    },
    {
      "cell_type": "code",
      "execution_count": 461,
      "metadata": {
        "colab": {
          "base_uri": "https://localhost:8080/",
          "height": 408
        },
        "id": "DAr2qaJ8kjSe",
        "outputId": "4cb5d67a-6050-4b62-c34b-20237f067c22"
      },
      "outputs": [],
      "source": [
        "import random\n",
        "import pandas as pd\n",
        "import numpy as np\n",
        "import matplotlib.pyplot as plt\n",
        "\n",
        "# Text preprocessing\n",
        "import unicodedata\n",
        "import emoji\n",
        "import string\n",
        "import re\n",
        "import nltk\n",
        "from nltk.tokenize import word_tokenize\n",
        "from nltk.corpus import stopwords\n",
        "from Sastrawi.Stemmer.StemmerFactory import StemmerFactory\n",
        "from ftfy import fix_text\n",
        "\n",
        "\n",
        "# Vectorizers\n",
        "from sklearn.feature_extraction.text import TfidfVectorizer\n",
        "\n",
        "# Train/test split & metrics\n",
        "from sklearn.model_selection import train_test_split\n",
        "from sklearn.metrics import accuracy_score, precision_recall_fscore_support, classification_report\n",
        "\n",
        "# Classical ML models\n",
        "from sklearn.svm import SVC\n",
        "from sklearn.naive_bayes import MultinomialNB\n",
        "from sklearn.linear_model import LogisticRegression\n",
        "\n",
        "# Word2Vec embeddings\n",
        "import gensim\n",
        "from gensim.models import Word2Vec\n",
        "\n",
        "# Deep learning with TensorFlow/Keras\n",
        "import tensorflow as tf\n",
        "from tensorflow.keras import Sequential\n",
        "from tensorflow.keras.preprocessing.text import Tokenizer\n",
        "from tensorflow.keras.preprocessing.sequence import pad_sequences\n",
        "from tensorflow.keras.layers import TextVectorization, Embedding, Bidirectional, LSTM, Dense, Dropout\n",
        "from tensorflow.keras.callbacks import EarlyStopping, ModelCheckpoint"
      ]
    },
    {
      "cell_type": "code",
      "execution_count": 462,
      "metadata": {
        "id": "Ytf64WS7aNZe"
      },
      "outputs": [
        {
          "name": "stderr",
          "output_type": "stream",
          "text": [
            "[nltk_data] Downloading package punkt_tab to C:/nltk_data...\n",
            "[nltk_data]   Package punkt_tab is already up-to-date!\n",
            "[nltk_data] Downloading package punkt to C:/nltk_data...\n",
            "[nltk_data]   Package punkt is already up-to-date!\n",
            "[nltk_data] Downloading package stopwords to C:/nltk_data...\n",
            "[nltk_data]   Package stopwords is already up-to-date!\n"
          ]
        }
      ],
      "source": [
        "nltk.download('punkt_tab', download_dir='C:/nltk_data')\n",
        "nltk.download('punkt', download_dir='C:/nltk_data')\n",
        "nltk.download('stopwords', download_dir='C:/nltk_data')\n",
        "nltk.data.path.append('C:/nltk_data')"
      ]
    },
    {
      "cell_type": "markdown",
      "metadata": {
        "id": "kBvPl_VJ4heA"
      },
      "source": [
        "### Load Dataset"
      ]
    },
    {
      "cell_type": "markdown",
      "metadata": {
        "id": "_OCxTv2ta0QG"
      },
      "source": [
        "Dataset For Training"
      ]
    },
    {
      "cell_type": "code",
      "execution_count": 463,
      "metadata": {
        "id": "Oojz6uAakvk7"
      },
      "outputs": [],
      "source": [
        "df1 = pd.read_csv('Datasets/youtube_comments.csv')\n",
        "df2 = pd.read_csv('Datasets/komentar_judi.csv')\n",
        "df3 = pd.read_csv('Datasets/komentar_judi2.csv')"
      ]
    },
    {
      "cell_type": "markdown",
      "metadata": {
        "id": "rErnbTMGcH9E"
      },
      "source": [
        "### Deskripsi Variables"
      ]
    },
    {
      "cell_type": "markdown",
      "metadata": {
        "id": "1q9vtWVCcObY"
      },
      "source": [
        "Variabel | Keterangan\n",
        "----------|----------\n",
        "Author | Unique username.\n",
        "Comment  | user comments from YouTube videos."
      ]
    },
    {
      "cell_type": "code",
      "execution_count": 464,
      "metadata": {
        "id": "JydxSH9TidWA"
      },
      "outputs": [
        {
          "name": "stdout",
          "output_type": "stream",
          "text": [
            "<class 'pandas.core.frame.DataFrame'>\n",
            "RangeIndex: 8033 entries, 0 to 8032\n",
            "Data columns (total 2 columns):\n",
            " #   Column   Non-Null Count  Dtype \n",
            "---  ------   --------------  ----- \n",
            " 0   author   8032 non-null   object\n",
            " 1   comment  8033 non-null   object\n",
            "dtypes: object(2)\n",
            "memory usage: 125.6+ KB\n"
          ]
        }
      ],
      "source": [
        "df1.info()"
      ]
    },
    {
      "cell_type": "code",
      "execution_count": 465,
      "metadata": {
        "id": "zXw7uJ7VEDUH"
      },
      "outputs": [
        {
          "data": {
            "text/plain": [
              "author     1\n",
              "comment    0\n",
              "dtype: int64"
            ]
          },
          "execution_count": 465,
          "metadata": {},
          "output_type": "execute_result"
        }
      ],
      "source": [
        "df1.isnull().sum()"
      ]
    },
    {
      "cell_type": "code",
      "execution_count": 466,
      "metadata": {
        "id": "3pGYFDNnEIeO"
      },
      "outputs": [
        {
          "name": "stdout",
          "output_type": "stream",
          "text": [
            "Duplicated :  27\n"
          ]
        }
      ],
      "source": [
        "print(\"Duplicated : \", df1.duplicated().sum())"
      ]
    },
    {
      "cell_type": "code",
      "execution_count": 467,
      "metadata": {
        "id": "H-ZQYWD7ijDT"
      },
      "outputs": [
        {
          "name": "stdout",
          "output_type": "stream",
          "text": [
            "<class 'pandas.core.frame.DataFrame'>\n",
            "RangeIndex: 3802 entries, 0 to 3801\n",
            "Data columns (total 2 columns):\n",
            " #   Column   Non-Null Count  Dtype \n",
            "---  ------   --------------  ----- \n",
            " 0   author   3802 non-null   object\n",
            " 1   comment  3802 non-null   object\n",
            "dtypes: object(2)\n",
            "memory usage: 59.5+ KB\n"
          ]
        }
      ],
      "source": [
        "df2.info()"
      ]
    },
    {
      "cell_type": "code",
      "execution_count": 468,
      "metadata": {
        "id": "tFKaUEHEEAJC"
      },
      "outputs": [
        {
          "data": {
            "text/plain": [
              "author     0\n",
              "comment    0\n",
              "dtype: int64"
            ]
          },
          "execution_count": 468,
          "metadata": {},
          "output_type": "execute_result"
        }
      ],
      "source": [
        "df2.isnull().sum()"
      ]
    },
    {
      "cell_type": "code",
      "execution_count": 469,
      "metadata": {
        "id": "a8nUHriiEM9k"
      },
      "outputs": [
        {
          "name": "stdout",
          "output_type": "stream",
          "text": [
            "Duplicated :  0\n"
          ]
        }
      ],
      "source": [
        "print(\"Duplicated : \", df2.duplicated().sum())"
      ]
    },
    {
      "cell_type": "code",
      "execution_count": 470,
      "metadata": {
        "id": "oZymWnyOihpy"
      },
      "outputs": [
        {
          "name": "stdout",
          "output_type": "stream",
          "text": [
            "<class 'pandas.core.frame.DataFrame'>\n",
            "RangeIndex: 4312 entries, 0 to 4311\n",
            "Data columns (total 2 columns):\n",
            " #   Column   Non-Null Count  Dtype \n",
            "---  ------   --------------  ----- \n",
            " 0   author   4312 non-null   object\n",
            " 1   comment  4311 non-null   object\n",
            "dtypes: object(2)\n",
            "memory usage: 67.5+ KB\n"
          ]
        }
      ],
      "source": [
        "df3.info()"
      ]
    },
    {
      "cell_type": "code",
      "execution_count": 471,
      "metadata": {
        "id": "5uQGkPl_D8Om"
      },
      "outputs": [
        {
          "data": {
            "text/plain": [
              "author     0\n",
              "comment    1\n",
              "dtype: int64"
            ]
          },
          "execution_count": 471,
          "metadata": {},
          "output_type": "execute_result"
        }
      ],
      "source": [
        "df3.isnull().sum()"
      ]
    },
    {
      "cell_type": "code",
      "execution_count": 472,
      "metadata": {
        "id": "7PeYzgD-EfOD"
      },
      "outputs": [
        {
          "name": "stdout",
          "output_type": "stream",
          "text": [
            "Duplicated :  321\n"
          ]
        }
      ],
      "source": [
        "print(\"Duplicated : \", df3.duplicated().sum())"
      ]
    },
    {
      "cell_type": "markdown",
      "metadata": {
        "id": "7VYFDdAuDcex"
      },
      "source": [
        "#### Handling Missing Values\n"
      ]
    },
    {
      "cell_type": "code",
      "execution_count": 473,
      "metadata": {
        "id": "imiRQMv9Dgcc"
      },
      "outputs": [
        {
          "name": "stdout",
          "output_type": "stream",
          "text": [
            "Missing values after dropping NaNs:\n",
            "Dataset 1 missing values:\n",
            " author     0\n",
            "comment    0\n",
            "dtype: int64\n"
          ]
        }
      ],
      "source": [
        "df1 = df1.dropna()\n",
        "\n",
        "print(\"Missing values after dropping NaNs:\")\n",
        "print(\"Dataset 1 missing values:\\n\", df1.isnull().sum())"
      ]
    },
    {
      "cell_type": "code",
      "execution_count": 474,
      "metadata": {
        "id": "GiohYZW6Dpbw"
      },
      "outputs": [
        {
          "name": "stdout",
          "output_type": "stream",
          "text": [
            "Missing values after dropping NaNs:\n",
            "Dataset 2 missing values:\n",
            " author     0\n",
            "comment    0\n",
            "dtype: int64\n"
          ]
        }
      ],
      "source": [
        "df2 = df2.dropna()\n",
        "\n",
        "print(\"Missing values after dropping NaNs:\")\n",
        "print(\"Dataset 2 missing values:\\n\", df2.isnull().sum())"
      ]
    },
    {
      "cell_type": "code",
      "execution_count": 475,
      "metadata": {
        "id": "AEEY1g82DseX"
      },
      "outputs": [
        {
          "name": "stdout",
          "output_type": "stream",
          "text": [
            "Missing values after dropping NaNs:\n",
            "Dataset 3 missing values:\n",
            " author     0\n",
            "comment    0\n",
            "dtype: int64\n"
          ]
        }
      ],
      "source": [
        "df3 = df3.dropna()\n",
        "\n",
        "print(\"Missing values after dropping NaNs:\")\n",
        "print(\"Dataset 3 missing values:\\n\", df3.isnull().sum())"
      ]
    },
    {
      "cell_type": "markdown",
      "metadata": {
        "id": "JHObJGPW4o_A"
      },
      "source": [
        "### Merge Dataset"
      ]
    },
    {
      "cell_type": "code",
      "execution_count": 476,
      "metadata": {
        "id": "H6lkkHZIzCj5"
      },
      "outputs": [],
      "source": [
        "df_combined = pd.concat([df1, df2, df3], ignore_index=True)"
      ]
    },
    {
      "cell_type": "code",
      "execution_count": 477,
      "metadata": {
        "id": "V2yrhnWRiYd-"
      },
      "outputs": [
        {
          "name": "stdout",
          "output_type": "stream",
          "text": [
            "<class 'pandas.core.frame.DataFrame'>\n",
            "RangeIndex: 16145 entries, 0 to 16144\n",
            "Data columns (total 2 columns):\n",
            " #   Column   Non-Null Count  Dtype \n",
            "---  ------   --------------  ----- \n",
            " 0   author   16145 non-null  object\n",
            " 1   comment  16145 non-null  object\n",
            "dtypes: object(2)\n",
            "memory usage: 252.4+ KB\n"
          ]
        }
      ],
      "source": [
        "df_combined.info()"
      ]
    },
    {
      "cell_type": "code",
      "execution_count": 478,
      "metadata": {
        "id": "-rzm8i73iS3_"
      },
      "outputs": [
        {
          "data": {
            "text/html": [
              "<div>\n",
              "<style scoped>\n",
              "    .dataframe tbody tr th:only-of-type {\n",
              "        vertical-align: middle;\n",
              "    }\n",
              "\n",
              "    .dataframe tbody tr th {\n",
              "        vertical-align: top;\n",
              "    }\n",
              "\n",
              "    .dataframe thead th {\n",
              "        text-align: right;\n",
              "    }\n",
              "</style>\n",
              "<table border=\"1\" class=\"dataframe\">\n",
              "  <thead>\n",
              "    <tr style=\"text-align: right;\">\n",
              "      <th></th>\n",
              "      <th>author</th>\n",
              "      <th>comment</th>\n",
              "    </tr>\n",
              "  </thead>\n",
              "  <tbody>\n",
              "    <tr>\n",
              "      <th>0</th>\n",
              "      <td>@HenhenDrodro</td>\n",
              "      <td>Yg belain org stres pasti g jauh klo g ODGJ  y...</td>\n",
              "    </tr>\n",
              "    <tr>\n",
              "      <th>1</th>\n",
              "      <td>@merahkhatulistiwa9603</td>\n",
              "      <td>ijazah jokowi itu asli ...penelaah ilmiah itu ...</td>\n",
              "    </tr>\n",
              "    <tr>\n",
              "      <th>2</th>\n",
              "      <td>@RinaManroe</td>\n",
              "      <td>Senyum2 Bae</td>\n",
              "    </tr>\n",
              "    <tr>\n",
              "      <th>3</th>\n",
              "      <td>@DWPSCHANEL</td>\n",
              "      <td>Tangkap lah males dengernya …ribet</td>\n",
              "    </tr>\n",
              "    <tr>\n",
              "      <th>4</th>\n",
              "      <td>@dediharyanto9746</td>\n",
              "      <td>Ga peduli sama ROY dan JOKOWI, dari sini udah ...</td>\n",
              "    </tr>\n",
              "    <tr>\n",
              "      <th>...</th>\n",
              "      <td>...</td>\n",
              "      <td>...</td>\n",
              "    </tr>\n",
              "    <tr>\n",
              "      <th>95</th>\n",
              "      <td>@franqm5625</td>\n",
              "      <td>Asli roy ni kayak perempuan....</td>\n",
              "    </tr>\n",
              "    <tr>\n",
              "      <th>96</th>\n",
              "      <td>@kepobangetlu25</td>\n",
              "      <td>Muka nya fimanto dgn Jokowi aja beda jauh gmn ...</td>\n",
              "    </tr>\n",
              "    <tr>\n",
              "      <th>97</th>\n",
              "      <td>@DwiNugroho-x9h</td>\n",
              "      <td>Tertawa lah kau roy.... Sebentar lagi kau nang...</td>\n",
              "    </tr>\n",
              "    <tr>\n",
              "      <th>98</th>\n",
              "      <td>@STORIEKIWARAS</td>\n",
              "      <td>RS cs . .akan terus memburu hadiah 6m..\\nYg di...</td>\n",
              "    </tr>\n",
              "    <tr>\n",
              "      <th>99</th>\n",
              "      <td>@jennymore3845</td>\n",
              "      <td>roy dan rismon ini produk UGM yg gagal.. sampa...</td>\n",
              "    </tr>\n",
              "  </tbody>\n",
              "</table>\n",
              "<p>100 rows × 2 columns</p>\n",
              "</div>"
            ],
            "text/plain": [
              "                    author                                            comment\n",
              "0            @HenhenDrodro  Yg belain org stres pasti g jauh klo g ODGJ  y...\n",
              "1   @merahkhatulistiwa9603  ijazah jokowi itu asli ...penelaah ilmiah itu ...\n",
              "2              @RinaManroe                                        Senyum2 Bae\n",
              "3              @DWPSCHANEL                 Tangkap lah males dengernya …ribet\n",
              "4        @dediharyanto9746  Ga peduli sama ROY dan JOKOWI, dari sini udah ...\n",
              "..                     ...                                                ...\n",
              "95             @franqm5625                    Asli roy ni kayak perempuan....\n",
              "96         @kepobangetlu25  Muka nya fimanto dgn Jokowi aja beda jauh gmn ...\n",
              "97         @DwiNugroho-x9h  Tertawa lah kau roy.... Sebentar lagi kau nang...\n",
              "98          @STORIEKIWARAS  RS cs . .akan terus memburu hadiah 6m..\\nYg di...\n",
              "99          @jennymore3845  roy dan rismon ini produk UGM yg gagal.. sampa...\n",
              "\n",
              "[100 rows x 2 columns]"
            ]
          },
          "execution_count": 478,
          "metadata": {},
          "output_type": "execute_result"
        }
      ],
      "source": [
        "df_combined.head(100)"
      ]
    },
    {
      "cell_type": "markdown",
      "metadata": {
        "id": "tvSTIedMjqYt"
      },
      "source": [
        "Missing Values"
      ]
    },
    {
      "cell_type": "code",
      "execution_count": 479,
      "metadata": {
        "id": "jbX8La60jsO1"
      },
      "outputs": [
        {
          "data": {
            "text/plain": [
              "author     0\n",
              "comment    0\n",
              "dtype: int64"
            ]
          },
          "execution_count": 479,
          "metadata": {},
          "output_type": "execute_result"
        }
      ],
      "source": [
        "df_combined.isnull().sum()"
      ]
    },
    {
      "cell_type": "markdown",
      "metadata": {
        "id": "P6pRfmVT4z6w"
      },
      "source": [
        "## Data Preprocessing"
      ]
    },
    {
      "cell_type": "code",
      "execution_count": 480,
      "metadata": {
        "id": "-SPIWMceux33"
      },
      "outputs": [],
      "source": [
        "# Drop a one word comment\n",
        "df_combined = df_combined[df_combined['comment'].str.split().str.len() > 1]"
      ]
    },
    {
      "cell_type": "markdown",
      "metadata": {
        "id": "Ft6SdzzHi_tb"
      },
      "source": [
        "Hapus missing values"
      ]
    },
    {
      "cell_type": "code",
      "execution_count": 481,
      "metadata": {
        "id": "t4dxSYsyvBWG"
      },
      "outputs": [
        {
          "name": "stdout",
          "output_type": "stream",
          "text": [
            "Missing values per column: \n",
            "\n",
            "author     0\n",
            "comment    0\n",
            "dtype: int64\n"
          ]
        }
      ],
      "source": [
        "# Remove rows with any missing values\n",
        "df_combined.dropna(inplace=True)\n",
        "\n",
        "print(\"Missing values per column: \\n\")\n",
        "print(df_combined.isnull().sum())"
      ]
    },
    {
      "cell_type": "markdown",
      "metadata": {
        "id": "rlS9pi5O45lS"
      },
      "source": [
        "### Cleaning text"
      ]
    },
    {
      "cell_type": "code",
      "execution_count": 482,
      "metadata": {},
      "outputs": [],
      "source": [
        "# Converting all the characters in a text into lower case\n",
        "def casefoldingText(text):\n",
        "      return text.lower()"
      ]
    },
    {
      "cell_type": "code",
      "execution_count": 483,
      "metadata": {},
      "outputs": [
        {
          "name": "stdout",
          "output_type": "stream",
          "text": [
            "gacho  mulu  i DO R A 7 7 !\n",
            "Pngguna bru  KUSUMAT0T0 ,pm aja\n",
            "Gaji numpang lewat? Biarin, ada  ASIAGENTING \n",
            " : Betul Bro  SUPERMONEY88  SUPERMONEY88 \n"
          ]
        }
      ],
      "source": [
        "def normalize_unicode_to_ascii(text):\n",
        "      \"\"\"Normalize text to ASCII, preserving spaces\"\"\"\n",
        "      text = fix_text(text)\n",
        "\n",
        "      if isinstance(text, str):\n",
        "            # Normalize Unicode to decomposed form\n",
        "            text = unicodedata.normalize('NFKD', text)\n",
        "            # Ganti karakter non-ASCII dengan spasi daripada menghapusnya\n",
        "            text = ''.join(ch if ord(ch) < 128 else ' ' for ch in text)\n",
        "\n",
        "      return text\n",
        "\n",
        "print(normalize_unicode_to_ascii(\"gachoг m𝘶lu ԁi 𝘿𝙊 𝙍 𝘼 𝟳 𝟳🙍!\"))\n",
        "print(normalize_unicode_to_ascii(\"Pngguna bru 🛑𝐊𝗨𝐒𝗨𝐌𝗔𝐓𝟬𝐓𝟬🚦,pm aja\"))\n",
        "print(normalize_unicode_to_ascii(\"Gaji numpang lewat? Biarin, ada ♛𝗔𝗦𝗜𝗔𝗚𝗘𝗡𝗧𝗜𝗡𝗚♛\"))\n",
        "print(normalize_unicode_to_ascii(\"😎: Betul Bro ⚡𝗦𝗨𝗣𝗘𝗥𝗠𝗢𝗡𝗘𝗬𝟴𝟴⚡⚡𝗦𝗨𝗣𝗘𝗥𝗠𝗢𝗡𝗘𝗬𝟴𝟴⚡\"))"
      ]
    },
    {
      "cell_type": "code",
      "execution_count": 484,
      "metadata": {
        "id": "Bdt-ZQl4Cnjp"
      },
      "outputs": [
        {
          "name": "stdout",
          "output_type": "stream",
          "text": [
            "gacho mulu i DO R A 7 7\n",
            "Pngguna bru KUSUMAT0T0 pm aja\n",
            "Gaji numpang lewat Biarin ada ASIAGENTING\n",
            "Betul Bro SUPERMONEY88 SUPERMONEY88\n"
          ]
        }
      ],
      "source": [
        "# Function untuk Cleaning Text\n",
        "def cleaningText(text):\n",
        "    # Remove URLs\n",
        "    text = re.sub(r'http\\S+', '', text)\n",
        "    # Remove mentions (@username)\n",
        "    text = re.sub(r'@\\w+', '', text)\n",
        "    # Remove hashtags (#hashtag)\n",
        "    text = re.sub(r'#\\w+', '', text)\n",
        "\n",
        "    # Remove the numbers, but keep the numbers attached to the word\n",
        "    # text = re.sub(r'\\b\\d+\\b', '', text)\n",
        "    \n",
        "    # Remove non-alphanumeric characters at the beginning or end of the string\n",
        "    # text = re.sub(r'^[^a-zA-Z0-9]+|[^a-zA-Z0-9]+$', ' ', text)\n",
        "\n",
        "    text = text.translate(str.maketrans(' ', ' ', string.punctuation)) # remove all punctuations\n",
        "    \n",
        "    text = text.replace('\\n', ' ')\n",
        "    text = re.sub(r'[^\\w\\s]', ' ', text)# replace new line into space\n",
        "    text = re.sub(r'\\s+', ' ', text).strip() # remove characters space from both left and right text\n",
        "    \n",
        "    text = re.sub(r'(\\b[a-z]+) (\\d+\\b)', r'\\1\\2', text)\n",
        "\n",
        "    return text\n",
        "\n",
        "print(cleaningText(normalize_unicode_to_ascii(\"gachoг m𝘶lu ԁi 𝘿𝙊 𝙍 𝘼 𝟳 𝟳🙍!\")))\n",
        "print(cleaningText(normalize_unicode_to_ascii(\"Pngguna bru 🛑𝐊𝗨𝐒𝗨𝐌𝗔𝐓𝟬𝐓𝟬🚦,pm aja\")))\n",
        "print(cleaningText(normalize_unicode_to_ascii(\"Gaji numpang lewat? Biarin, ada ♛𝗔𝗦𝗜𝗔𝗚𝗘𝗡𝗧𝗜𝗡𝗚♛\")))\n",
        "print(cleaningText(normalize_unicode_to_ascii(\"😎: Betul Bro ⚡𝗦𝗨𝗣𝗘𝗥𝗠𝗢𝗡𝗘𝗬𝟴𝟴⚡⚡𝗦𝗨𝗣𝗘𝗥𝗠𝗢𝗡𝗘𝗬𝟴𝟴⚡\")))"
      ]
    },
    {
      "cell_type": "markdown",
      "metadata": {
        "id": "8rZM9mTyOz7u"
      },
      "source": [
        "### Tokenizing text"
      ]
    },
    {
      "cell_type": "code",
      "execution_count": 485,
      "metadata": {
        "id": "CECJRQEZOzkX"
      },
      "outputs": [],
      "source": [
        "def tokenizingText(text): # Tokenizing or splitting a string, text into a list of tokens\n",
        "    text = word_tokenize(text)\n",
        "    return text"
      ]
    },
    {
      "cell_type": "markdown",
      "metadata": {
        "id": "myWDkISMTvrM"
      },
      "source": [
        "### Removing Stopwords"
      ]
    },
    {
      "cell_type": "code",
      "execution_count": 486,
      "metadata": {
        "id": "rIaZYD3wT1fM"
      },
      "outputs": [],
      "source": [
        "def filteringText(text): # Remove stopwors in a text\n",
        "    listStopwords = set(stopwords.words('indonesian'))\n",
        "    listStopwords1 = set(stopwords.words('english'))\n",
        "    listStopwords.update(listStopwords1)\n",
        "    listStopwords.update(['iya','yaa','gak','nya','na','sih','ku',\"di\",\"ga\",\"ya\",\"gaa\",\"loh\",\"kah\",\"woi\",\"woii\",\"woy\"])\n",
        "    filtered = []\n",
        "    for txt in text:\n",
        "        if txt not in listStopwords:\n",
        "            filtered.append(txt)\n",
        "    text = filtered\n",
        "    return text"
      ]
    },
    {
      "cell_type": "markdown",
      "metadata": {
        "id": "Xn_G7kmvUFeZ"
      },
      "source": [
        "### Stemming text"
      ]
    },
    {
      "cell_type": "code",
      "execution_count": 487,
      "metadata": {
        "id": "5Ed5q1TQUHxc"
      },
      "outputs": [],
      "source": [
        "def stemmingText(text): # Reducing a word to its word stem that affixes to suffixes and prefixes or to the roots of words\n",
        "    # Membuat objek stemmer\n",
        "    factory = StemmerFactory()\n",
        "    stemmer = factory.create_stemmer()\n",
        "\n",
        "    # Memecah teks menjadi daftar kata\n",
        "    words = text.split()\n",
        "\n",
        "    # Menerapkan stemming pada setiap kata dalam daftar\n",
        "    stemmed_words = [stemmer.stem(word) for word in words]\n",
        "\n",
        "    # Menggabungkan kata-kata yang telah distem\n",
        "    stemmed_text = ' '.join(stemmed_words)\n",
        "\n",
        "    return stemmed_text"
      ]
    },
    {
      "cell_type": "markdown",
      "metadata": {
        "id": "7QJalx7dUaP6"
      },
      "source": [
        "### Convert to sentence"
      ]
    },
    {
      "cell_type": "code",
      "execution_count": 488,
      "metadata": {
        "id": "P1LxpbJlUd8p"
      },
      "outputs": [],
      "source": [
        "def toSentence(list_words): # Convert list of words into sentence\n",
        "    sentence = ' '.join(word for word in list_words)\n",
        "    return sentence"
      ]
    },
    {
      "cell_type": "markdown",
      "metadata": {
        "id": "2__RdU8uVJFR"
      },
      "source": [
        "### Correcting the slang words"
      ]
    },
    {
      "cell_type": "code",
      "execution_count": 489,
      "metadata": {
        "id": "Bdo1wn3i7o93"
      },
      "outputs": [],
      "source": [
        "def fix_slangwords(text):\n",
        "    if not isinstance(text, str):\n",
        "        return \"\"\n",
        "\n",
        "    slang_dict = {\n",
        "        # Negasi & Penyangkalan\n",
        "        \"gk\": \"tidak\", \"gak\": \"tidak\", \"ga\": \"tidak\", \"g\": \"tidak\", \"nggak\": \"tidak\", \"enggak\": \"tidak\",\n",
        "        \"gpp\": \"tidak apa-apa\", \"gakpapa\": \"tidak apa-apa\", \"gabut\": \"tidak ada kerjaan\",\n",
        "\n",
        "        # Penghubung & Penjelas\n",
        "        \"tp\": \"tetapi\", \"tapi\": \"tetapi\", \"kl\": \"kalau\", \"klw\": \"kalau\", \"kalo\": \"kalau\", \"krn\": \"karena\",\n",
        "        \"karena\": \"karena\", \"jd\": \"jadi\", \"jg\": \"juga\", \"aja\": \"saja\", \"sih\": \"\", \"kok\": \"mengapa\",\n",
        "        \"dl\": \"dulu\", \"pdhl\": \"padahal\", \"btw\": \"ngomong-ngomong\", \"spt\": \"seperti\",\n",
        "\n",
        "        # Kata ganti orang\n",
        "        \"sy\": \"saya\", \"gw\": \"saya\", \"gue\": \"saya\", \"gua\": \"saya\", \"w\": \"saya\", \"gwe\": \"saya\",\n",
        "        \"q\": \"aku\", \"ak\": \"aku\", \"aq\": \"aku\", \"km\": \"kamu\", \"lu\": \"kamu\", \"lo\": \"kamu\", \"elo\": \"kamu\",\n",
        "        \"elu\": \"kamu\", \"loe\": \"kamu\", \"u\": \"kamu\", \"i\": \"saya\", \"tmn\": \"teman\", \"tmn2\": \"teman-teman\",\n",
        "\n",
        "        # Kata kerja / tindakan\n",
        "        \"udh\": \"sudah\", \"udah\": \"sudah\", \"sdh\": \"sudah\", \"lg\": \"lagi\", \"bikin\": \"membuat\",\n",
        "        \"ksih\": \"kasih\", \"ksh\": \"kasih\", \"jgn\": \"jangan\", \"jangan\": \"jangan\", \"biar\": \"agar\",\n",
        "        \"supaya\": \"agar\", \"bisa\": \"bisa\", \"bs\": \"bisa\", \"bsa\": \"bisa\", \"sabi\": \"bisa\", \"dlm\": \"dalam\",\n",
        "\n",
        "        # Kata benda / objek\n",
        "        \"org\": \"orang\", \"modal\": \"uang\", \"cuan\": \"untung\", \"bonus\": \"hadiah\", \"jp\": \"jackpot\",\n",
        "        \"jepe\": \"jackpot\", \"jepey\": \"jackpot\", \"slot\": \"permainan judi\", \"betting\": \"taruhan\",\n",
        "        \"promo\": \"promosi\", \"event\": \"acara\", \"depo\": \"deposit\", \"wd\": \"withdraw\",\n",
        "\n",
        "        # Emosi dan ekspresi informal\n",
        "        \"anjay\": \"astaga\", \"anjir\": \"astaga\", \"anjrit\": \"astaga\", \"wkwk\": \"haha\", \"wkwkwk\": \"haha\",\n",
        "        \"wk\": \"haha\", \"lol\": \"haha\", \"ngakak\": \"tertawa\", \"baper\": \"terbawa perasaan\",\n",
        "        \"kepo\": \"penasaran\", \"julid\": \"iri\", \"gibah\": \"bergosip\", \"santuy\": \"santai\", \"woles\": \"santai\",\n",
        "        \"mager\": \"malas\", \"lebay\": \"berlebihan\", \"pecah\": \"seru\", \"ngablu\": \"mengigau\", \"cape\": \"capek\",\n",
        "        \"capekkk\": \"capek\", \"pusinggg\": \"pusing\", \"ngeri\": \"hebat\", \"goks\": \"hebat\", \"receh\": \"tidak penting\",\n",
        "        \"mantul\": \"bagus\", \"mantab\": \"mantap\", \"uhuy\": \"mantap\", \"skuy\": \"ayo\", \"gas\": \"ayo\",\n",
        "        \"gaskeun\": \"ayo\", \"panik\": \"takut\", \"bgt\": \"banget\", \"banget\": \"sekali\", \"auto\": \"langsung\",\n",
        "        \"halu\": \"berkhayal\", \"sabi\": \"bisa\",\n",
        "\n",
        "        # Kata rujukan/julukan\n",
        "        \"min\": \"admin\", \"bang\": \"kakak\", \"bg\": \"kakak\", \"bng\": \"kakak\", \"kak\": \"kakak\", \"bro\": \"saudara\",\n",
        "        \"sis\": \"kakak\", \"ngab\": \"teman\", \"cuy\": \"teman\", \"ngabers\": \"remaja pria\", \"mrk\": \"mereka\",\n",
        "        \"sm\": \"sama\", \"sama\": \"dengan\", \"dg\": \"dengan\", \"dr\": \"dari\", \"utk\": \"untuk\", \"yg\": \"yang\",\n",
        "        \"dll\": \"dan lain-lain\", \"dst\": \"dan seterusnya\", \"ttp\": \"tetap\", \"tsb\": \"tersebut\",\n",
        "        \"mnrt\": \"menurut\", \"jdwal\": \"jadwal\", \"bener\": \"benar\", \"d\": \"di\", \"emg\": \"memang\", \"emng\": \"memang\",\n",
        "        \"bocil\": \"anak kecil\", \"gacr\": \"gacor\", \"gacir\": \"gacor\", \"gcr\": \"gacor\", \"mekswin\": \"maxwin\",\n",
        "        \"win\": \"menang\", \"gmpng\": \"mudah\", \"gampang\": \"mudah\", \"bet\": \"banget\", \"nasib\": \"keberuntungan\"\n",
        "    }\n",
        "\n",
        "    words = text.split()\n",
        "    new_words = [slang_dict.get(word.lower(), word) for word in words]\n",
        "    return ' '.join(new_words)"
      ]
    },
    {
      "cell_type": "code",
      "execution_count": 490,
      "metadata": {
        "id": "cXYodPuFXQ4Y"
      },
      "outputs": [],
      "source": [
        "# Applies a series of text preprocessing functions to the 'comment' column of the DataFrame.\n",
        "df_combined['normalizeText'] = df_combined['comment'].apply(normalize_unicode_to_ascii)\n",
        "df_combined['casefoldingText'] = df_combined['normalizeText'].apply(casefoldingText)\n",
        "df_combined['cleanText'] = df_combined['casefoldingText'].apply(cleaningText)\n",
        "df_combined['fixSlangWords'] = df_combined['cleanText'].apply(fix_slangwords)\n",
        "df_combined['tokenizingText'] = df_combined['fixSlangWords'].apply(tokenizingText)\n",
        "df_combined['stopWordText'] = df_combined['tokenizingText'].apply(filteringText)\n",
        "df_combined['finalText'] = df_combined['stopWordText'].apply(toSentence)"
      ]
    },
    {
      "cell_type": "code",
      "execution_count": 491,
      "metadata": {
        "id": "sukVvtjiTbAy"
      },
      "outputs": [
        {
          "data": {
            "text/html": [
              "<div>\n",
              "<style scoped>\n",
              "    .dataframe tbody tr th:only-of-type {\n",
              "        vertical-align: middle;\n",
              "    }\n",
              "\n",
              "    .dataframe tbody tr th {\n",
              "        vertical-align: top;\n",
              "    }\n",
              "\n",
              "    .dataframe thead th {\n",
              "        text-align: right;\n",
              "    }\n",
              "</style>\n",
              "<table border=\"1\" class=\"dataframe\">\n",
              "  <thead>\n",
              "    <tr style=\"text-align: right;\">\n",
              "      <th></th>\n",
              "      <th>author</th>\n",
              "      <th>comment</th>\n",
              "      <th>normalizeText</th>\n",
              "      <th>casefoldingText</th>\n",
              "      <th>cleanText</th>\n",
              "      <th>fixSlangWords</th>\n",
              "      <th>tokenizingText</th>\n",
              "      <th>stopWordText</th>\n",
              "      <th>finalText</th>\n",
              "    </tr>\n",
              "  </thead>\n",
              "  <tbody>\n",
              "    <tr>\n",
              "      <th>0</th>\n",
              "      <td>@HenhenDrodro</td>\n",
              "      <td>Yg belain org stres pasti g jauh klo g ODGJ  y...</td>\n",
              "      <td>Yg belain org stres pasti g jauh klo g ODGJ  y...</td>\n",
              "      <td>yg belain org stres pasti g jauh klo g odgj  y...</td>\n",
              "      <td>yg belain org stres pasti g jauh klo g odgj y ...</td>\n",
              "      <td>yang belain orang stres pasti tidak jauh klo t...</td>\n",
              "      <td>[yang, belain, orang, stres, pasti, tidak, jau...</td>\n",
              "      <td>[belain, orang, stres, klo, odgj, pskopat]</td>\n",
              "      <td>belain orang stres klo odgj pskopat</td>\n",
              "    </tr>\n",
              "    <tr>\n",
              "      <th>1</th>\n",
              "      <td>@merahkhatulistiwa9603</td>\n",
              "      <td>ijazah jokowi itu asli ...penelaah ilmiah itu ...</td>\n",
              "      <td>ijazah jokowi itu asli ...penelaah ilmiah itu ...</td>\n",
              "      <td>ijazah jokowi itu asli ...penelaah ilmiah itu ...</td>\n",
              "      <td>ijazah jokowi itu asli penelaah ilmiah itu han...</td>\n",
              "      <td>ijazah jokowi itu asli penelaah ilmiah itu han...</td>\n",
              "      <td>[ijazah, jokowi, itu, asli, penelaah, ilmiah, ...</td>\n",
              "      <td>[ijazah, jokowi, asli, penelaah, ilmiah, meneb...</td>\n",
              "      <td>ijazah jokowi asli penelaah ilmiah menebak men...</td>\n",
              "    </tr>\n",
              "    <tr>\n",
              "      <th>2</th>\n",
              "      <td>@RinaManroe</td>\n",
              "      <td>Senyum2 Bae</td>\n",
              "      <td>Senyum2 Bae</td>\n",
              "      <td>senyum2 bae</td>\n",
              "      <td>senyum2 bae</td>\n",
              "      <td>senyum2 bae</td>\n",
              "      <td>[senyum2, bae]</td>\n",
              "      <td>[senyum2, bae]</td>\n",
              "      <td>senyum2 bae</td>\n",
              "    </tr>\n",
              "    <tr>\n",
              "      <th>3</th>\n",
              "      <td>@DWPSCHANEL</td>\n",
              "      <td>Tangkap lah males dengernya …ribet</td>\n",
              "      <td>Tangkap lah males dengernya ...ribet</td>\n",
              "      <td>tangkap lah males dengernya ...ribet</td>\n",
              "      <td>tangkap lah males dengernya ribet</td>\n",
              "      <td>tangkap lah males dengernya ribet</td>\n",
              "      <td>[tangkap, lah, males, dengernya, ribet]</td>\n",
              "      <td>[tangkap, males, dengernya, ribet]</td>\n",
              "      <td>tangkap males dengernya ribet</td>\n",
              "    </tr>\n",
              "    <tr>\n",
              "      <th>4</th>\n",
              "      <td>@dediharyanto9746</td>\n",
              "      <td>Ga peduli sama ROY dan JOKOWI, dari sini udah ...</td>\n",
              "      <td>Ga peduli sama ROY dan JOKOWI, dari sini udah ...</td>\n",
              "      <td>ga peduli sama roy dan jokowi, dari sini udah ...</td>\n",
              "      <td>ga peduli sama roy dan jokowi dari sini udah k...</td>\n",
              "      <td>tidak peduli dengan roy dan jokowi dari sini s...</td>\n",
              "      <td>[tidak, peduli, dengan, roy, dan, jokowi, dari...</td>\n",
              "      <td>[peduli, roy, jokowi, ketauan, hukum, indonesi...</td>\n",
              "      <td>peduli roy jokowi ketauan hukum indonesia raky...</td>\n",
              "    </tr>\n",
              "    <tr>\n",
              "      <th>...</th>\n",
              "      <td>...</td>\n",
              "      <td>...</td>\n",
              "      <td>...</td>\n",
              "      <td>...</td>\n",
              "      <td>...</td>\n",
              "      <td>...</td>\n",
              "      <td>...</td>\n",
              "      <td>...</td>\n",
              "      <td>...</td>\n",
              "    </tr>\n",
              "    <tr>\n",
              "      <th>97</th>\n",
              "      <td>@DwiNugroho-x9h</td>\n",
              "      <td>Tertawa lah kau roy.... Sebentar lagi kau nang...</td>\n",
              "      <td>Tertawa lah kau roy.... Sebentar lagi kau nang...</td>\n",
              "      <td>tertawa lah kau roy.... sebentar lagi kau nang...</td>\n",
              "      <td>tertawa lah kau roy sebentar lagi kau nangis2 ...</td>\n",
              "      <td>tertawa lah kau roy sebentar lagi kau nangis2 ...</td>\n",
              "      <td>[tertawa, lah, kau, roy, sebentar, lagi, kau, ...</td>\n",
              "      <td>[tertawa, kau, roy, sebentar, kau, nangis2, hh...</td>\n",
              "      <td>tertawa kau roy sebentar kau nangis2 hhhhhhh s...</td>\n",
              "    </tr>\n",
              "    <tr>\n",
              "      <th>98</th>\n",
              "      <td>@STORIEKIWARAS</td>\n",
              "      <td>RS cs . .akan terus memburu hadiah 6m..\\nYg di...</td>\n",
              "      <td>RS cs . .akan terus memburu hadiah 6m..\\nYg di...</td>\n",
              "      <td>rs cs . .akan terus memburu hadiah 6m..\\nyg di...</td>\n",
              "      <td>rs cs akan terus memburu hadiah 6m yg disaemba...</td>\n",
              "      <td>rs cs akan terus memburu hadiah 6m yang disaem...</td>\n",
              "      <td>[rs, cs, akan, terus, memburu, hadiah, 6m, yan...</td>\n",
              "      <td>[rs, cs, memburu, hadiah, 6m, disaembarakan, l...</td>\n",
              "      <td>rs cs memburu hadiah 6m disaembarakan lupa men...</td>\n",
              "    </tr>\n",
              "    <tr>\n",
              "      <th>99</th>\n",
              "      <td>@jennymore3845</td>\n",
              "      <td>roy dan rismon ini produk UGM yg gagal.. sampa...</td>\n",
              "      <td>roy dan rismon ini produk UGM yg gagal.. sampa...</td>\n",
              "      <td>roy dan rismon ini produk ugm yg gagal.. sampa...</td>\n",
              "      <td>roy dan rismon ini produk ugm yg gagal sampah2...</td>\n",
              "      <td>roy dan rismon ini produk ugm yang gagal sampa...</td>\n",
              "      <td>[roy, dan, rismon, ini, produk, ugm, yang, gag...</td>\n",
              "      <td>[roy, rismon, produk, ugm, gagal, sampah2, ben...</td>\n",
              "      <td>roy rismon produk ugm gagal sampah2 benci jokowi</td>\n",
              "    </tr>\n",
              "    <tr>\n",
              "      <th>100</th>\n",
              "      <td>@asepts-PsPanglipur</td>\n",
              "      <td>Udah lah... Tindak Hukum aja itu pembuat kegad...</td>\n",
              "      <td>Udah lah... Tindak Hukum aja itu pembuat kegad...</td>\n",
              "      <td>udah lah... tindak hukum aja itu pembuat kegad...</td>\n",
              "      <td>udah lah tindak hukum aja itu pembuat kegaduha...</td>\n",
              "      <td>sudah lah tindak hukum saja itu pembuat kegadu...</td>\n",
              "      <td>[sudah, lah, tindak, hukum, saja, itu, pembuat...</td>\n",
              "      <td>[tindak, hukum, pembuat, kegaduhan, salah, pa,...</td>\n",
              "      <td>tindak hukum pembuat kegaduhan salah pa jokowi...</td>\n",
              "    </tr>\n",
              "    <tr>\n",
              "      <th>101</th>\n",
              "      <td>@NanaHendriana-qi6up</td>\n",
              "      <td>Jokowi nya kaya tai,masih aja di ecek2 orang2 ...</td>\n",
              "      <td>Jokowi nya kaya tai,masih aja di ecek2 orang2 ...</td>\n",
              "      <td>jokowi nya kaya tai,masih aja di ecek2 orang2 ...</td>\n",
              "      <td>jokowi nya kaya taimasih aja di ecek2 orang2 k...</td>\n",
              "      <td>jokowi nya kaya taimasih saja di ecek2 orang2 ...</td>\n",
              "      <td>[jokowi, nya, kaya, taimasih, saja, di, ecek2,...</td>\n",
              "      <td>[jokowi, kaya, taimasih, ecek2, orang2, kaya, ...</td>\n",
              "      <td>jokowi kaya taimasih ecek2 orang2 kaya begitum...</td>\n",
              "    </tr>\n",
              "  </tbody>\n",
              "</table>\n",
              "<p>100 rows × 9 columns</p>\n",
              "</div>"
            ],
            "text/plain": [
              "                     author  \\\n",
              "0             @HenhenDrodro   \n",
              "1    @merahkhatulistiwa9603   \n",
              "2               @RinaManroe   \n",
              "3               @DWPSCHANEL   \n",
              "4         @dediharyanto9746   \n",
              "..                      ...   \n",
              "97          @DwiNugroho-x9h   \n",
              "98           @STORIEKIWARAS   \n",
              "99           @jennymore3845   \n",
              "100     @asepts-PsPanglipur   \n",
              "101    @NanaHendriana-qi6up   \n",
              "\n",
              "                                               comment  \\\n",
              "0    Yg belain org stres pasti g jauh klo g ODGJ  y...   \n",
              "1    ijazah jokowi itu asli ...penelaah ilmiah itu ...   \n",
              "2                                          Senyum2 Bae   \n",
              "3                   Tangkap lah males dengernya …ribet   \n",
              "4    Ga peduli sama ROY dan JOKOWI, dari sini udah ...   \n",
              "..                                                 ...   \n",
              "97   Tertawa lah kau roy.... Sebentar lagi kau nang...   \n",
              "98   RS cs . .akan terus memburu hadiah 6m..\\nYg di...   \n",
              "99   roy dan rismon ini produk UGM yg gagal.. sampa...   \n",
              "100  Udah lah... Tindak Hukum aja itu pembuat kegad...   \n",
              "101  Jokowi nya kaya tai,masih aja di ecek2 orang2 ...   \n",
              "\n",
              "                                         normalizeText  \\\n",
              "0    Yg belain org stres pasti g jauh klo g ODGJ  y...   \n",
              "1    ijazah jokowi itu asli ...penelaah ilmiah itu ...   \n",
              "2                                          Senyum2 Bae   \n",
              "3                 Tangkap lah males dengernya ...ribet   \n",
              "4    Ga peduli sama ROY dan JOKOWI, dari sini udah ...   \n",
              "..                                                 ...   \n",
              "97   Tertawa lah kau roy.... Sebentar lagi kau nang...   \n",
              "98   RS cs . .akan terus memburu hadiah 6m..\\nYg di...   \n",
              "99   roy dan rismon ini produk UGM yg gagal.. sampa...   \n",
              "100  Udah lah... Tindak Hukum aja itu pembuat kegad...   \n",
              "101  Jokowi nya kaya tai,masih aja di ecek2 orang2 ...   \n",
              "\n",
              "                                       casefoldingText  \\\n",
              "0    yg belain org stres pasti g jauh klo g odgj  y...   \n",
              "1    ijazah jokowi itu asli ...penelaah ilmiah itu ...   \n",
              "2                                          senyum2 bae   \n",
              "3                 tangkap lah males dengernya ...ribet   \n",
              "4    ga peduli sama roy dan jokowi, dari sini udah ...   \n",
              "..                                                 ...   \n",
              "97   tertawa lah kau roy.... sebentar lagi kau nang...   \n",
              "98   rs cs . .akan terus memburu hadiah 6m..\\nyg di...   \n",
              "99   roy dan rismon ini produk ugm yg gagal.. sampa...   \n",
              "100  udah lah... tindak hukum aja itu pembuat kegad...   \n",
              "101  jokowi nya kaya tai,masih aja di ecek2 orang2 ...   \n",
              "\n",
              "                                             cleanText  \\\n",
              "0    yg belain org stres pasti g jauh klo g odgj y ...   \n",
              "1    ijazah jokowi itu asli penelaah ilmiah itu han...   \n",
              "2                                          senyum2 bae   \n",
              "3                    tangkap lah males dengernya ribet   \n",
              "4    ga peduli sama roy dan jokowi dari sini udah k...   \n",
              "..                                                 ...   \n",
              "97   tertawa lah kau roy sebentar lagi kau nangis2 ...   \n",
              "98   rs cs akan terus memburu hadiah 6m yg disaemba...   \n",
              "99   roy dan rismon ini produk ugm yg gagal sampah2...   \n",
              "100  udah lah tindak hukum aja itu pembuat kegaduha...   \n",
              "101  jokowi nya kaya taimasih aja di ecek2 orang2 k...   \n",
              "\n",
              "                                         fixSlangWords  \\\n",
              "0    yang belain orang stres pasti tidak jauh klo t...   \n",
              "1    ijazah jokowi itu asli penelaah ilmiah itu han...   \n",
              "2                                          senyum2 bae   \n",
              "3                    tangkap lah males dengernya ribet   \n",
              "4    tidak peduli dengan roy dan jokowi dari sini s...   \n",
              "..                                                 ...   \n",
              "97   tertawa lah kau roy sebentar lagi kau nangis2 ...   \n",
              "98   rs cs akan terus memburu hadiah 6m yang disaem...   \n",
              "99   roy dan rismon ini produk ugm yang gagal sampa...   \n",
              "100  sudah lah tindak hukum saja itu pembuat kegadu...   \n",
              "101  jokowi nya kaya taimasih saja di ecek2 orang2 ...   \n",
              "\n",
              "                                        tokenizingText  \\\n",
              "0    [yang, belain, orang, stres, pasti, tidak, jau...   \n",
              "1    [ijazah, jokowi, itu, asli, penelaah, ilmiah, ...   \n",
              "2                                       [senyum2, bae]   \n",
              "3              [tangkap, lah, males, dengernya, ribet]   \n",
              "4    [tidak, peduli, dengan, roy, dan, jokowi, dari...   \n",
              "..                                                 ...   \n",
              "97   [tertawa, lah, kau, roy, sebentar, lagi, kau, ...   \n",
              "98   [rs, cs, akan, terus, memburu, hadiah, 6m, yan...   \n",
              "99   [roy, dan, rismon, ini, produk, ugm, yang, gag...   \n",
              "100  [sudah, lah, tindak, hukum, saja, itu, pembuat...   \n",
              "101  [jokowi, nya, kaya, taimasih, saja, di, ecek2,...   \n",
              "\n",
              "                                          stopWordText  \\\n",
              "0           [belain, orang, stres, klo, odgj, pskopat]   \n",
              "1    [ijazah, jokowi, asli, penelaah, ilmiah, meneb...   \n",
              "2                                       [senyum2, bae]   \n",
              "3                   [tangkap, males, dengernya, ribet]   \n",
              "4    [peduli, roy, jokowi, ketauan, hukum, indonesi...   \n",
              "..                                                 ...   \n",
              "97   [tertawa, kau, roy, sebentar, kau, nangis2, hh...   \n",
              "98   [rs, cs, memburu, hadiah, 6m, disaembarakan, l...   \n",
              "99   [roy, rismon, produk, ugm, gagal, sampah2, ben...   \n",
              "100  [tindak, hukum, pembuat, kegaduhan, salah, pa,...   \n",
              "101  [jokowi, kaya, taimasih, ecek2, orang2, kaya, ...   \n",
              "\n",
              "                                             finalText  \n",
              "0                  belain orang stres klo odgj pskopat  \n",
              "1    ijazah jokowi asli penelaah ilmiah menebak men...  \n",
              "2                                          senyum2 bae  \n",
              "3                        tangkap males dengernya ribet  \n",
              "4    peduli roy jokowi ketauan hukum indonesia raky...  \n",
              "..                                                 ...  \n",
              "97   tertawa kau roy sebentar kau nangis2 hhhhhhh s...  \n",
              "98   rs cs memburu hadiah 6m disaembarakan lupa men...  \n",
              "99    roy rismon produk ugm gagal sampah2 benci jokowi  \n",
              "100  tindak hukum pembuat kegaduhan salah pa jokowi...  \n",
              "101  jokowi kaya taimasih ecek2 orang2 kaya begitum...  \n",
              "\n",
              "[100 rows x 9 columns]"
            ]
          },
          "execution_count": 491,
          "metadata": {},
          "output_type": "execute_result"
        }
      ],
      "source": [
        "df_combined.head(100)"
      ]
    },
    {
      "cell_type": "markdown",
      "metadata": {
        "id": "81tWMfSLW3DP"
      },
      "source": [
        "### Labeling"
      ]
    },
    {
      "cell_type": "code",
      "execution_count": 492,
      "metadata": {
        "id": "jl8jNXitwUo5"
      },
      "outputs": [],
      "source": [
        "# Define keywords for gambling comments\n",
        "gambling_keywords = [\n",
        "    'gacor', 'gacor mulu', 'g4cor', 'g4cor mulu', 'g4c0r', 'g4c0r mulu', 'gac0r', 'gac0r mulu', 'gachor', 'gachor mulu', 'gachog', 'gachog mulu', 'gacho', 'gacho mulu',\n",
        "    'jepe', 'jepe terus', 'j3pe', 'j3pe terus', 'jep3', 'jep3 terus', 'j3p3', 'j3p3 terus', 'jp', 'jp terus', 'jackpot', 'jackpot terus', 'jekpot', 'jekpot terus', 'j3kpot', 'j3kpot terus', 'j3kp0t', 'j3kp0t terus', 'jekp0t', 'jekp0t terus', 'j4ckp0t', 'j4ckp0t terus', 'j4ckpot', 'j4ckpot terus',\n",
        "    'jackpot mulu', 'jackpot terus', 'jackpot hari ini', 'jackpot mudah menang', 'jackpot gampang menang',\n",
        "    'jackpot maxwin', 'jackpot gacor', 'jackpot gacor hari ini', 'jackpot gacor terbaru', 'jackpot gacor maxwin',\n",
        "    'jackpot gacor mudah menang', 'jackpot slot', 'jackpot judi', 'jackpot online', 'jackpot slot online',\n",
        "    'bonus', 'b0nus', 'klaim', 'hoki', 'h0k1', 'hok1', 'h0ki', 'cuan', 'cu4n', 'menang', 'm3nang', 'menang terus', 'm3ang terus',\n",
        "    'main', 'main slot', 'main judi', 'judi online', 'judi slot', 'judi slot online', 'judi slot gacor',\n",
        "    'judi slot terbaru', 'judi slot hari ini', 'judi slot gampang menang', 'judi slot mudah menang', 'judi slot maxwin',\n",
        "    'judi slot gacor hari ini', 'judi slot gacor terbaru', 'judi slot gacor maxwin', 'judi slot gacor mudah menang',\n",
        "    'spin', 'free spin', 'auto win', 'pola', 'wd', 'withdraw', 'depo', 'deposit', 'withdrawal', 'saldo',\n",
        "    'deposit pulsa', 'deposit ovo', 'deposit dana', 'deposit gopay', 'deposit via pulsa', 'deposit via ovo',\n",
        "    'deposit via dana', 'deposit via gopay', 'withdraw pulsa', 'withdraw ovo', 'withdraw dana', 'withdraw gopay',\n",
        "    'withdraw via pulsa', 'withdraw via ovo', 'withdraw via dana', 'withdraw via gopay', 'deposit bank',\n",
        "    'withdraw bank', 'deposit bank lokal', 'withdraw bank lokal', 'deposit bank online', 'withdraw bank online',\n",
        "    'bandar', 'situs', 'toto', 'togel', 'sl0t', 'slot', 'slot online', 'game slot', 'link slot', 'link gacor',\n",
        "    'link alternatif', 'link judi', 'link slot gacor', 'link slot terbaru', 'link slot hari ini', 'link slot mudah menang',\n",
        "    'pr0be855', 'weton88', 'pulauwin', '25kbet', 'alexis17', 'alexis', 'berkah99', 'aero88', 'sgi88', 'pluto88',\n",
        "    'sultan88', 'sultanbet', 'sultanbet88', 'sultanbet99', 'sultanbet77', 'sultanbet88', 'sultanbet99', 'sultanbet77',\n",
        "    'garudahoki', 'mona4d', 'berlian', 'btv', 'xuxu4d', 'pstoto99', 'daftar sekarang', 'join sekarang', 'link alternatif',\n",
        "    'login disini', 'klik disini', 'event harian', 'event mingguan', 'turnover', 'rollingan', 'komisi', 'claim sekarang',\n",
        "    'claim bonus', 'claim hadiah', 'claim jackpot', 'claim jepe', 'claim jp', 'claim bonus harian', 'claim bonus mingguan',\n",
        "    'claim bonus bulanan', 'claim bonus tahunan', 'claim bonus slot', 'claim bonus judi', 'claim bonus gacor',\n",
        "    'live casino', 'judi', 'casino', 'tembus', 'untung terus', 'deposit via dana', 'via gopay', 'via ovo', 'via pulsa',\n",
        "    'slot terpercaya', 'slot terbaru', 'promo deposit', 'promosi slot', 'event slot', 'winrate tinggi', 'maxwin', 'm4xw1n',\n",
        "    'maxwin mulu', 'maxwin terus', 'maxwin hari ini', 'maxwin slot', 'maxwin judi', 'maxwin gacor', 'maxwin mudah menang',\n",
        "    'pr0m0', 'promo', 'link alternatif', 'slot maxwin', 'slot pragmatic', 'slot demo', 'slot terbaru hari ini', 'asiagenting',\n",
        "    'slot tergacor', 'slot terbaik', 'bet', 'betting', 'big win', 'winrate', 'modal receh', 'main disini', 'langsung gas',\n",
        "    'langsung menang', 'langsung jackpot', 'langsung jepe', 'langsung jp', 'langsung gacor', 'langsung auto win',\n",
        "    'spin gratis', 'rtp tinggi', 'rtp slot', 'slot mudah menang', 'slot hari ini', 'jp terus', 'win terus', 'situs terpercaya',\n",
        "    'situs judi', 'situs slot', 'situs slot online', 'situs judi online', 'situs slot gacor', 'situs slot terbaru',\n",
        "    'situs slot hari ini', 'situs slot mudah menang', 'situs slot maxwin', 'situs judi terpercaya', 'situs judi online terpercaya',\n",
        "    'slot online terpercaya', 'gunungwin', 'ayamwin', 'pulau777', 'pulau7', 'zeus', 'kusumat0t0', 'pecahan', 'maxwin', 'supermoney88',\n",
        "    'supermoney', 'supermoney88supermoney88', 'supermoney77', 'supermoney99',\n",
        "    'dora', 'd ora', 'do ra', 'dor a', 'd o ra', 'd or a', 'do r a', 'd o r a', 'dora77', 'ora77', 'a77', ' 77',' 7 7 ',\n",
        "    'probe855', 'probe 855', 'pro be 855', 'pro be855', 'pro be 8 5 5', 'pr0be855', 'pr0be 855', 'pr0 be 855', 'pr0 be855', 'pr0 be 8 5 5', 'probe', 'pr0be',\n",
        "]\n",
        "\n",
        "# Function to check if a comment contains any gambling keyword\n",
        "def is_gambling_comment(comment):\n",
        "    if isinstance(comment, str):\n",
        "        # Ensure the comment is lowercase and split into words for accurate matching\n",
        "        words = comment.lower().split()\n",
        "        for keyword in gambling_keywords:\n",
        "            # Check if the keyword exists as a whole word in the comment\n",
        "            if keyword in words:\n",
        "                return 1 # Label 1 for gambling\n",
        "        return 0 # Label 0 for not gambling\n",
        "    return 0 # Default to 0 if comment is not a string\n",
        "\n",
        "# Apply the labeling function to the 'cleaned_comment' column\n",
        "df_combined['label'] = df_combined['finalText'].apply(is_gambling_comment)"
      ]
    },
    {
      "cell_type": "code",
      "execution_count": 493,
      "metadata": {
        "id": "xm3kqQrebxxO"
      },
      "outputs": [
        {
          "data": {
            "text/html": [
              "<div>\n",
              "<style scoped>\n",
              "    .dataframe tbody tr th:only-of-type {\n",
              "        vertical-align: middle;\n",
              "    }\n",
              "\n",
              "    .dataframe tbody tr th {\n",
              "        vertical-align: top;\n",
              "    }\n",
              "\n",
              "    .dataframe thead th {\n",
              "        text-align: right;\n",
              "    }\n",
              "</style>\n",
              "<table border=\"1\" class=\"dataframe\">\n",
              "  <thead>\n",
              "    <tr style=\"text-align: right;\">\n",
              "      <th></th>\n",
              "      <th>author</th>\n",
              "      <th>comment</th>\n",
              "      <th>normalizeText</th>\n",
              "      <th>casefoldingText</th>\n",
              "      <th>cleanText</th>\n",
              "      <th>fixSlangWords</th>\n",
              "      <th>tokenizingText</th>\n",
              "      <th>stopWordText</th>\n",
              "      <th>finalText</th>\n",
              "      <th>label</th>\n",
              "    </tr>\n",
              "  </thead>\n",
              "  <tbody>\n",
              "    <tr>\n",
              "      <th>0</th>\n",
              "      <td>@HenhenDrodro</td>\n",
              "      <td>Yg belain org stres pasti g jauh klo g ODGJ  y...</td>\n",
              "      <td>Yg belain org stres pasti g jauh klo g ODGJ  y...</td>\n",
              "      <td>yg belain org stres pasti g jauh klo g odgj  y...</td>\n",
              "      <td>yg belain org stres pasti g jauh klo g odgj y ...</td>\n",
              "      <td>yang belain orang stres pasti tidak jauh klo t...</td>\n",
              "      <td>[yang, belain, orang, stres, pasti, tidak, jau...</td>\n",
              "      <td>[belain, orang, stres, klo, odgj, pskopat]</td>\n",
              "      <td>belain orang stres klo odgj pskopat</td>\n",
              "      <td>0</td>\n",
              "    </tr>\n",
              "    <tr>\n",
              "      <th>1</th>\n",
              "      <td>@merahkhatulistiwa9603</td>\n",
              "      <td>ijazah jokowi itu asli ...penelaah ilmiah itu ...</td>\n",
              "      <td>ijazah jokowi itu asli ...penelaah ilmiah itu ...</td>\n",
              "      <td>ijazah jokowi itu asli ...penelaah ilmiah itu ...</td>\n",
              "      <td>ijazah jokowi itu asli penelaah ilmiah itu han...</td>\n",
              "      <td>ijazah jokowi itu asli penelaah ilmiah itu han...</td>\n",
              "      <td>[ijazah, jokowi, itu, asli, penelaah, ilmiah, ...</td>\n",
              "      <td>[ijazah, jokowi, asli, penelaah, ilmiah, meneb...</td>\n",
              "      <td>ijazah jokowi asli penelaah ilmiah menebak men...</td>\n",
              "      <td>0</td>\n",
              "    </tr>\n",
              "    <tr>\n",
              "      <th>2</th>\n",
              "      <td>@RinaManroe</td>\n",
              "      <td>Senyum2 Bae</td>\n",
              "      <td>Senyum2 Bae</td>\n",
              "      <td>senyum2 bae</td>\n",
              "      <td>senyum2 bae</td>\n",
              "      <td>senyum2 bae</td>\n",
              "      <td>[senyum2, bae]</td>\n",
              "      <td>[senyum2, bae]</td>\n",
              "      <td>senyum2 bae</td>\n",
              "      <td>0</td>\n",
              "    </tr>\n",
              "    <tr>\n",
              "      <th>3</th>\n",
              "      <td>@DWPSCHANEL</td>\n",
              "      <td>Tangkap lah males dengernya …ribet</td>\n",
              "      <td>Tangkap lah males dengernya ...ribet</td>\n",
              "      <td>tangkap lah males dengernya ...ribet</td>\n",
              "      <td>tangkap lah males dengernya ribet</td>\n",
              "      <td>tangkap lah males dengernya ribet</td>\n",
              "      <td>[tangkap, lah, males, dengernya, ribet]</td>\n",
              "      <td>[tangkap, males, dengernya, ribet]</td>\n",
              "      <td>tangkap males dengernya ribet</td>\n",
              "      <td>0</td>\n",
              "    </tr>\n",
              "    <tr>\n",
              "      <th>4</th>\n",
              "      <td>@dediharyanto9746</td>\n",
              "      <td>Ga peduli sama ROY dan JOKOWI, dari sini udah ...</td>\n",
              "      <td>Ga peduli sama ROY dan JOKOWI, dari sini udah ...</td>\n",
              "      <td>ga peduli sama roy dan jokowi, dari sini udah ...</td>\n",
              "      <td>ga peduli sama roy dan jokowi dari sini udah k...</td>\n",
              "      <td>tidak peduli dengan roy dan jokowi dari sini s...</td>\n",
              "      <td>[tidak, peduli, dengan, roy, dan, jokowi, dari...</td>\n",
              "      <td>[peduli, roy, jokowi, ketauan, hukum, indonesi...</td>\n",
              "      <td>peduli roy jokowi ketauan hukum indonesia raky...</td>\n",
              "      <td>0</td>\n",
              "    </tr>\n",
              "    <tr>\n",
              "      <th>...</th>\n",
              "      <td>...</td>\n",
              "      <td>...</td>\n",
              "      <td>...</td>\n",
              "      <td>...</td>\n",
              "      <td>...</td>\n",
              "      <td>...</td>\n",
              "      <td>...</td>\n",
              "      <td>...</td>\n",
              "      <td>...</td>\n",
              "      <td>...</td>\n",
              "    </tr>\n",
              "    <tr>\n",
              "      <th>16014</th>\n",
              "      <td>@Darkmozarella</td>\n",
              "      <td>Kalau punya sekolah, ibu Sukatani saya minta m...</td>\n",
              "      <td>Kalau punya sekolah, ibu Sukatani saya minta m...</td>\n",
              "      <td>kalau punya sekolah, ibu sukatani saya minta m...</td>\n",
              "      <td>kalau punya sekolah ibu sukatani saya minta me...</td>\n",
              "      <td>kalau punya sekolah ibu sukatani saya minta me...</td>\n",
              "      <td>[kalau, punya, sekolah, ibu, sukatani, saya, m...</td>\n",
              "      <td>[sekolah, sukatani, mengajar]</td>\n",
              "      <td>sekolah sukatani mengajar</td>\n",
              "      <td>0</td>\n",
              "    </tr>\n",
              "    <tr>\n",
              "      <th>16043</th>\n",
              "      <td>@enventuretime01</td>\n",
              "      <td>58:58 dark web reference</td>\n",
              "      <td>58:58 dark web reference</td>\n",
              "      <td>58:58 dark web reference</td>\n",
              "      <td>5858 dark web reference</td>\n",
              "      <td>5858 dark web reference</td>\n",
              "      <td>[5858, dark, web, reference]</td>\n",
              "      <td>[5858, dark, web, reference]</td>\n",
              "      <td>5858 dark web reference</td>\n",
              "      <td>0</td>\n",
              "    </tr>\n",
              "    <tr>\n",
              "      <th>16044</th>\n",
              "      <td>@Shirokami_0202</td>\n",
              "      <td>disturbing banget 🤮🤮 walaupun dikasih pilihan ...</td>\n",
              "      <td>disturbing banget    walaupun dikasih pilihan ...</td>\n",
              "      <td>disturbing banget    walaupun dikasih pilihan ...</td>\n",
              "      <td>disturbing banget walaupun dikasih pilihan bua...</td>\n",
              "      <td>disturbing sekali walaupun dikasih pilihan bua...</td>\n",
              "      <td>[disturbing, sekali, walaupun, dikasih, piliha...</td>\n",
              "      <td>[disturbing, dikasih, pilihan, nolak, ujunguju...</td>\n",
              "      <td>disturbing dikasih pilihan nolak ujungujungnya...</td>\n",
              "      <td>0</td>\n",
              "    </tr>\n",
              "    <tr>\n",
              "      <th>16045</th>\n",
              "      <td>@lann9974</td>\n",
              "      <td>42.52 GW MALAH BUKA QR NYA LGI😭😭😭😭</td>\n",
              "      <td>42.52 GW MALAH BUKA QR NYA LGI</td>\n",
              "      <td>42.52 gw malah buka qr nya lgi</td>\n",
              "      <td>4252 gw malah buka qr nya lgi</td>\n",
              "      <td>4252 saya malah buka qr nya lgi</td>\n",
              "      <td>[4252, saya, malah, buka, qr, nya, lgi]</td>\n",
              "      <td>[4252, buka, qr, lgi]</td>\n",
              "      <td>4252 buka qr lgi</td>\n",
              "      <td>0</td>\n",
              "    </tr>\n",
              "    <tr>\n",
              "      <th>16144</th>\n",
              "      <td>@PutriSalsabila-j7j</td>\n",
              "      <td>𝗸𝗮𝗸 𝗿𝗲𝗴𝗶𝗶𝗶𝗶𝗶🎉🎉🎉</td>\n",
              "      <td>kak regiiiii</td>\n",
              "      <td>kak regiiiii</td>\n",
              "      <td>kak regiiiii</td>\n",
              "      <td>kakak regiiiii</td>\n",
              "      <td>[kakak, regiiiii]</td>\n",
              "      <td>[kakak, regiiiii]</td>\n",
              "      <td>kakak regiiiii</td>\n",
              "      <td>0</td>\n",
              "    </tr>\n",
              "  </tbody>\n",
              "</table>\n",
              "<p>9113 rows × 10 columns</p>\n",
              "</div>"
            ],
            "text/plain": [
              "                       author  \\\n",
              "0               @HenhenDrodro   \n",
              "1      @merahkhatulistiwa9603   \n",
              "2                 @RinaManroe   \n",
              "3                 @DWPSCHANEL   \n",
              "4           @dediharyanto9746   \n",
              "...                       ...   \n",
              "16014          @Darkmozarella   \n",
              "16043        @enventuretime01   \n",
              "16044         @Shirokami_0202   \n",
              "16045               @lann9974   \n",
              "16144     @PutriSalsabila-j7j   \n",
              "\n",
              "                                                 comment  \\\n",
              "0      Yg belain org stres pasti g jauh klo g ODGJ  y...   \n",
              "1      ijazah jokowi itu asli ...penelaah ilmiah itu ...   \n",
              "2                                            Senyum2 Bae   \n",
              "3                     Tangkap lah males dengernya …ribet   \n",
              "4      Ga peduli sama ROY dan JOKOWI, dari sini udah ...   \n",
              "...                                                  ...   \n",
              "16014  Kalau punya sekolah, ibu Sukatani saya minta m...   \n",
              "16043                           58:58 dark web reference   \n",
              "16044  disturbing banget 🤮🤮 walaupun dikasih pilihan ...   \n",
              "16045                 42.52 GW MALAH BUKA QR NYA LGI😭😭😭😭   \n",
              "16144                                    𝗸𝗮𝗸 𝗿𝗲𝗴𝗶𝗶𝗶𝗶𝗶🎉🎉🎉   \n",
              "\n",
              "                                           normalizeText  \\\n",
              "0      Yg belain org stres pasti g jauh klo g ODGJ  y...   \n",
              "1      ijazah jokowi itu asli ...penelaah ilmiah itu ...   \n",
              "2                                            Senyum2 Bae   \n",
              "3                   Tangkap lah males dengernya ...ribet   \n",
              "4      Ga peduli sama ROY dan JOKOWI, dari sini udah ...   \n",
              "...                                                  ...   \n",
              "16014  Kalau punya sekolah, ibu Sukatani saya minta m...   \n",
              "16043                           58:58 dark web reference   \n",
              "16044  disturbing banget    walaupun dikasih pilihan ...   \n",
              "16045                 42.52 GW MALAH BUKA QR NYA LGI       \n",
              "16144                                    kak regiiiii      \n",
              "\n",
              "                                         casefoldingText  \\\n",
              "0      yg belain org stres pasti g jauh klo g odgj  y...   \n",
              "1      ijazah jokowi itu asli ...penelaah ilmiah itu ...   \n",
              "2                                            senyum2 bae   \n",
              "3                   tangkap lah males dengernya ...ribet   \n",
              "4      ga peduli sama roy dan jokowi, dari sini udah ...   \n",
              "...                                                  ...   \n",
              "16014  kalau punya sekolah, ibu sukatani saya minta m...   \n",
              "16043                           58:58 dark web reference   \n",
              "16044  disturbing banget    walaupun dikasih pilihan ...   \n",
              "16045                 42.52 gw malah buka qr nya lgi       \n",
              "16144                                    kak regiiiii      \n",
              "\n",
              "                                               cleanText  \\\n",
              "0      yg belain org stres pasti g jauh klo g odgj y ...   \n",
              "1      ijazah jokowi itu asli penelaah ilmiah itu han...   \n",
              "2                                            senyum2 bae   \n",
              "3                      tangkap lah males dengernya ribet   \n",
              "4      ga peduli sama roy dan jokowi dari sini udah k...   \n",
              "...                                                  ...   \n",
              "16014  kalau punya sekolah ibu sukatani saya minta me...   \n",
              "16043                            5858 dark web reference   \n",
              "16044  disturbing banget walaupun dikasih pilihan bua...   \n",
              "16045                      4252 gw malah buka qr nya lgi   \n",
              "16144                                       kak regiiiii   \n",
              "\n",
              "                                           fixSlangWords  \\\n",
              "0      yang belain orang stres pasti tidak jauh klo t...   \n",
              "1      ijazah jokowi itu asli penelaah ilmiah itu han...   \n",
              "2                                            senyum2 bae   \n",
              "3                      tangkap lah males dengernya ribet   \n",
              "4      tidak peduli dengan roy dan jokowi dari sini s...   \n",
              "...                                                  ...   \n",
              "16014  kalau punya sekolah ibu sukatani saya minta me...   \n",
              "16043                            5858 dark web reference   \n",
              "16044  disturbing sekali walaupun dikasih pilihan bua...   \n",
              "16045                    4252 saya malah buka qr nya lgi   \n",
              "16144                                     kakak regiiiii   \n",
              "\n",
              "                                          tokenizingText  \\\n",
              "0      [yang, belain, orang, stres, pasti, tidak, jau...   \n",
              "1      [ijazah, jokowi, itu, asli, penelaah, ilmiah, ...   \n",
              "2                                         [senyum2, bae]   \n",
              "3                [tangkap, lah, males, dengernya, ribet]   \n",
              "4      [tidak, peduli, dengan, roy, dan, jokowi, dari...   \n",
              "...                                                  ...   \n",
              "16014  [kalau, punya, sekolah, ibu, sukatani, saya, m...   \n",
              "16043                       [5858, dark, web, reference]   \n",
              "16044  [disturbing, sekali, walaupun, dikasih, piliha...   \n",
              "16045            [4252, saya, malah, buka, qr, nya, lgi]   \n",
              "16144                                  [kakak, regiiiii]   \n",
              "\n",
              "                                            stopWordText  \\\n",
              "0             [belain, orang, stres, klo, odgj, pskopat]   \n",
              "1      [ijazah, jokowi, asli, penelaah, ilmiah, meneb...   \n",
              "2                                         [senyum2, bae]   \n",
              "3                     [tangkap, males, dengernya, ribet]   \n",
              "4      [peduli, roy, jokowi, ketauan, hukum, indonesi...   \n",
              "...                                                  ...   \n",
              "16014                      [sekolah, sukatani, mengajar]   \n",
              "16043                       [5858, dark, web, reference]   \n",
              "16044  [disturbing, dikasih, pilihan, nolak, ujunguju...   \n",
              "16045                              [4252, buka, qr, lgi]   \n",
              "16144                                  [kakak, regiiiii]   \n",
              "\n",
              "                                               finalText  label  \n",
              "0                    belain orang stres klo odgj pskopat      0  \n",
              "1      ijazah jokowi asli penelaah ilmiah menebak men...      0  \n",
              "2                                            senyum2 bae      0  \n",
              "3                          tangkap males dengernya ribet      0  \n",
              "4      peduli roy jokowi ketauan hukum indonesia raky...      0  \n",
              "...                                                  ...    ...  \n",
              "16014                          sekolah sukatani mengajar      0  \n",
              "16043                            5858 dark web reference      0  \n",
              "16044  disturbing dikasih pilihan nolak ujungujungnya...      0  \n",
              "16045                                   4252 buka qr lgi      0  \n",
              "16144                                     kakak regiiiii      0  \n",
              "\n",
              "[9113 rows x 10 columns]"
            ]
          },
          "execution_count": 493,
          "metadata": {},
          "output_type": "execute_result"
        }
      ],
      "source": [
        "df_combined[df_combined['label'] == 0]"
      ]
    },
    {
      "cell_type": "code",
      "execution_count": 494,
      "metadata": {
        "id": "Mhn-BftvbcKB"
      },
      "outputs": [
        {
          "data": {
            "text/html": [
              "<div>\n",
              "<style scoped>\n",
              "    .dataframe tbody tr th:only-of-type {\n",
              "        vertical-align: middle;\n",
              "    }\n",
              "\n",
              "    .dataframe tbody tr th {\n",
              "        vertical-align: top;\n",
              "    }\n",
              "\n",
              "    .dataframe thead th {\n",
              "        text-align: right;\n",
              "    }\n",
              "</style>\n",
              "<table border=\"1\" class=\"dataframe\">\n",
              "  <thead>\n",
              "    <tr style=\"text-align: right;\">\n",
              "      <th></th>\n",
              "      <th>author</th>\n",
              "      <th>comment</th>\n",
              "      <th>normalizeText</th>\n",
              "      <th>casefoldingText</th>\n",
              "      <th>cleanText</th>\n",
              "      <th>fixSlangWords</th>\n",
              "      <th>tokenizingText</th>\n",
              "      <th>stopWordText</th>\n",
              "      <th>finalText</th>\n",
              "      <th>label</th>\n",
              "    </tr>\n",
              "  </thead>\n",
              "  <tbody>\n",
              "    <tr>\n",
              "      <th>7</th>\n",
              "      <td>@EnriqueGillespieSienaCoope-q4f</td>\n",
              "      <td>Terlambat sedikit tidak masalah,gas braderr ★𝐏...</td>\n",
              "      <td>Terlambat sedikit tidak masalah,gas braderr  P...</td>\n",
              "      <td>terlambat sedikit tidak masalah,gas braderr  p...</td>\n",
              "      <td>terlambat sedikit tidak masalahgas braderr pr0...</td>\n",
              "      <td>terlambat sedikit tidak masalahgas braderr pr0...</td>\n",
              "      <td>[terlambat, sedikit, tidak, masalahgas, brader...</td>\n",
              "      <td>[terlambat, masalahgas, braderr, pr0be, 855]</td>\n",
              "      <td>terlambat masalahgas braderr pr0be 855</td>\n",
              "      <td>1</td>\n",
              "    </tr>\n",
              "    <tr>\n",
              "      <th>8</th>\n",
              "      <td>@PhoenixDaviesAriellaLara-b4s</td>\n",
              "      <td>🚩𝐏𝐑0𝐁𝐄𐊗𝟖𝟓𝟓 🚩💥 naik terus kayak tren konten aes...</td>\n",
              "      <td>PR0BE 855    naik terus kayak tren konten aes...</td>\n",
              "      <td>pr0be 855    naik terus kayak tren konten aes...</td>\n",
              "      <td>pr0be 855 naik terus kayak tren konten aesthetic</td>\n",
              "      <td>pr0be 855 naik terus kayak tren konten aesthetic</td>\n",
              "      <td>[pr0be, 855, naik, terus, kayak, tren, konten,...</td>\n",
              "      <td>[pr0be, 855, kayak, tren, konten, aesthetic]</td>\n",
              "      <td>pr0be 855 kayak tren konten aesthetic</td>\n",
              "      <td>1</td>\n",
              "    </tr>\n",
              "    <tr>\n",
              "      <th>10</th>\n",
              "      <td>@AmericaSalinasRubyHouston-z2b</td>\n",
              "      <td>Ubur Ubur Ikan lele , gw jp di 𝐏𝐑0𝐁𝐄𐊗𝟖𝟓𝟓  lee....</td>\n",
              "      <td>Ubur Ubur Ikan lele , gw jp di PR0BE 855  lee....</td>\n",
              "      <td>ubur ubur ikan lele , gw jp di pr0be 855  lee....</td>\n",
              "      <td>ubur ubur ikan lele gw jp di pr0be 855 lee</td>\n",
              "      <td>ubur ubur ikan lele saya jackpot di pr0be 855 lee</td>\n",
              "      <td>[ubur, ubur, ikan, lele, saya, jackpot, di, pr...</td>\n",
              "      <td>[ubur, ubur, ikan, lele, jackpot, pr0be, 855, ...</td>\n",
              "      <td>ubur ubur ikan lele jackpot pr0be 855 lee</td>\n",
              "      <td>1</td>\n",
              "    </tr>\n",
              "    <tr>\n",
              "      <th>11</th>\n",
              "      <td>@GloriaTylerTyNolan-t8w</td>\n",
              "      <td>02:42 kok bsa gtu wkwkwkw . 𝐏𝐑0𝐁𝐄𐊗𝟖𝟓𝟓.</td>\n",
              "      <td>02:42 kok bsa gtu wkwkwkw . PR0BE 855.</td>\n",
              "      <td>02:42 kok bsa gtu wkwkwkw . pr0be 855.</td>\n",
              "      <td>0242 kok bsa gtu wkwkwkw pr0be 855</td>\n",
              "      <td>0242 mengapa bisa gtu wkwkwkw pr0be 855</td>\n",
              "      <td>[0242, mengapa, bisa, gtu, wkwkwkw, pr0be, 855]</td>\n",
              "      <td>[0242, gtu, wkwkwkw, pr0be, 855]</td>\n",
              "      <td>0242 gtu wkwkwkw pr0be 855</td>\n",
              "      <td>1</td>\n",
              "    </tr>\n",
              "    <tr>\n",
              "      <th>12</th>\n",
              "      <td>@DiegoPhamFrancoBartlett-u1h</td>\n",
              "      <td>06:00 𝐏𝐑0𝐁𝐄𐊗𝟖𝟓𝟓, jackpot tak terbatas!</td>\n",
              "      <td>06:00 PR0BE 855, jackpot tak terbatas!</td>\n",
              "      <td>06:00 pr0be 855, jackpot tak terbatas!</td>\n",
              "      <td>0600 pr0be 855 jackpot tak terbatas</td>\n",
              "      <td>0600 pr0be 855 jackpot tak terbatas</td>\n",
              "      <td>[0600, pr0be, 855, jackpot, tak, terbatas]</td>\n",
              "      <td>[0600, pr0be, 855, jackpot, terbatas]</td>\n",
              "      <td>0600 pr0be 855 jackpot terbatas</td>\n",
              "      <td>1</td>\n",
              "    </tr>\n",
              "    <tr>\n",
              "      <th>...</th>\n",
              "      <td>...</td>\n",
              "      <td>...</td>\n",
              "      <td>...</td>\n",
              "      <td>...</td>\n",
              "      <td>...</td>\n",
              "      <td>...</td>\n",
              "      <td>...</td>\n",
              "      <td>...</td>\n",
              "      <td>...</td>\n",
              "      <td>...</td>\n",
              "    </tr>\n",
              "    <tr>\n",
              "      <th>16139</th>\n",
              "      <td>@LelaCassie-g8e</td>\n",
              "      <td>Video ini epic karena 𝐌𝐎𝐍𝐀𝟒𝐃! Penyampaiannya a...</td>\n",
              "      <td>Video ini epic karena MONA4D! Penyampaiannya a...</td>\n",
              "      <td>video ini epic karena mona4d! penyampaiannya a...</td>\n",
              "      <td>video ini epic karena mona4d penyampaiannya asik</td>\n",
              "      <td>video ini epic karena mona4d penyampaiannya asik</td>\n",
              "      <td>[video, ini, epic, karena, mona4d, penyampaian...</td>\n",
              "      <td>[video, epic, mona4d, penyampaiannya, asik]</td>\n",
              "      <td>video epic mona4d penyampaiannya asik</td>\n",
              "      <td>1</td>\n",
              "    </tr>\n",
              "    <tr>\n",
              "      <th>16140</th>\n",
              "      <td>@GordonLesly-l5d5g</td>\n",
              "      <td>𝐌𝐎𝐍𝐀𝟒𝐃 bikin video memorable! Keren abis. 🔥</td>\n",
              "      <td>MONA4D bikin video memorable! Keren abis.</td>\n",
              "      <td>mona4d bikin video memorable! keren abis.</td>\n",
              "      <td>mona4d bikin video memorable keren abis</td>\n",
              "      <td>mona4d membuat video memorable keren abis</td>\n",
              "      <td>[mona4d, membuat, video, memorable, keren, abis]</td>\n",
              "      <td>[mona4d, video, memorable, keren, abis]</td>\n",
              "      <td>mona4d video memorable keren abis</td>\n",
              "      <td>1</td>\n",
              "    </tr>\n",
              "    <tr>\n",
              "      <th>16141</th>\n",
              "      <td>@GradyIliana-d8o</td>\n",
              "      <td>𝐌𝐎𝐍𝐀𝟒𝐃 bikin video ini asik! Penyampaian top. 😍</td>\n",
              "      <td>MONA4D bikin video ini asik! Penyampaian top.</td>\n",
              "      <td>mona4d bikin video ini asik! penyampaian top.</td>\n",
              "      <td>mona4d bikin video ini asik penyampaian top</td>\n",
              "      <td>mona4d membuat video ini asik penyampaian top</td>\n",
              "      <td>[mona4d, membuat, video, ini, asik, penyampaia...</td>\n",
              "      <td>[mona4d, video, asik, penyampaian, top]</td>\n",
              "      <td>mona4d video asik penyampaian top</td>\n",
              "      <td>1</td>\n",
              "    </tr>\n",
              "    <tr>\n",
              "      <th>16142</th>\n",
              "      <td>@UdahlahKoBacaAjaKomenku</td>\n",
              "      <td>Sering diajak PHP? Di ♛𝗔𝗦𝗜𝗔𝗚𝗘𝗡𝗧𝗜𝗡𝗚♛, kamu diaj...</td>\n",
              "      <td>Sering diajak PHP? Di  ASIAGENTING , kamu diaj...</td>\n",
              "      <td>sering diajak php? di  asiagenting , kamu diaj...</td>\n",
              "      <td>sering diajak php di asiagenting kamu diajak p...</td>\n",
              "      <td>sering diajak php di asiagenting kamu diajak p...</td>\n",
              "      <td>[sering, diajak, php, di, asiagenting, kamu, d...</td>\n",
              "      <td>[diajak, php, asiagenting, diajak, pdkt, jackpot]</td>\n",
              "      <td>diajak php asiagenting diajak pdkt jackpot</td>\n",
              "      <td>1</td>\n",
              "    </tr>\n",
              "    <tr>\n",
              "      <th>16143</th>\n",
              "      <td>@AngelicaDoomz</td>\n",
              "      <td>Gaji numpang lewat? Biarin, ada ♛𝗔𝗦𝗜𝗔𝗚𝗘𝗡𝗧𝗜𝗡𝗚♛ ...</td>\n",
              "      <td>Gaji numpang lewat? Biarin, ada  ASIAGENTING  ...</td>\n",
              "      <td>gaji numpang lewat? biarin, ada  asiagenting  ...</td>\n",
              "      <td>gaji numpang lewat biarin ada asiagenting yang...</td>\n",
              "      <td>gaji numpang lewat biarin ada asiagenting yang...</td>\n",
              "      <td>[gaji, numpang, lewat, biarin, ada, asiagentin...</td>\n",
              "      <td>[gaji, numpang, biarin, asiagenting, setia, ne...</td>\n",
              "      <td>gaji numpang biarin asiagenting setia nemenin</td>\n",
              "      <td>1</td>\n",
              "    </tr>\n",
              "  </tbody>\n",
              "</table>\n",
              "<p>6764 rows × 10 columns</p>\n",
              "</div>"
            ],
            "text/plain": [
              "                                author  \\\n",
              "7      @EnriqueGillespieSienaCoope-q4f   \n",
              "8        @PhoenixDaviesAriellaLara-b4s   \n",
              "10      @AmericaSalinasRubyHouston-z2b   \n",
              "11             @GloriaTylerTyNolan-t8w   \n",
              "12        @DiegoPhamFrancoBartlett-u1h   \n",
              "...                                ...   \n",
              "16139                  @LelaCassie-g8e   \n",
              "16140               @GordonLesly-l5d5g   \n",
              "16141                 @GradyIliana-d8o   \n",
              "16142         @UdahlahKoBacaAjaKomenku   \n",
              "16143                   @AngelicaDoomz   \n",
              "\n",
              "                                                 comment  \\\n",
              "7      Terlambat sedikit tidak masalah,gas braderr ★𝐏...   \n",
              "8      🚩𝐏𝐑0𝐁𝐄𐊗𝟖𝟓𝟓 🚩💥 naik terus kayak tren konten aes...   \n",
              "10     Ubur Ubur Ikan lele , gw jp di 𝐏𝐑0𝐁𝐄𐊗𝟖𝟓𝟓  lee....   \n",
              "11                02:42 kok bsa gtu wkwkwkw . 𝐏𝐑0𝐁𝐄𐊗𝟖𝟓𝟓.   \n",
              "12                06:00 𝐏𝐑0𝐁𝐄𐊗𝟖𝟓𝟓, jackpot tak terbatas!   \n",
              "...                                                  ...   \n",
              "16139  Video ini epic karena 𝐌𝐎𝐍𝐀𝟒𝐃! Penyampaiannya a...   \n",
              "16140        𝐌𝐎𝐍𝐀𝟒𝐃 bikin video memorable! Keren abis. 🔥   \n",
              "16141    𝐌𝐎𝐍𝐀𝟒𝐃 bikin video ini asik! Penyampaian top. 😍   \n",
              "16142  Sering diajak PHP? Di ♛𝗔𝗦𝗜𝗔𝗚𝗘𝗡𝗧𝗜𝗡𝗚♛, kamu diaj...   \n",
              "16143  Gaji numpang lewat? Biarin, ada ♛𝗔𝗦𝗜𝗔𝗚𝗘𝗡𝗧𝗜𝗡𝗚♛ ...   \n",
              "\n",
              "                                           normalizeText  \\\n",
              "7      Terlambat sedikit tidak masalah,gas braderr  P...   \n",
              "8       PR0BE 855    naik terus kayak tren konten aes...   \n",
              "10     Ubur Ubur Ikan lele , gw jp di PR0BE 855  lee....   \n",
              "11                02:42 kok bsa gtu wkwkwkw . PR0BE 855.   \n",
              "12                06:00 PR0BE 855, jackpot tak terbatas!   \n",
              "...                                                  ...   \n",
              "16139  Video ini epic karena MONA4D! Penyampaiannya a...   \n",
              "16140        MONA4D bikin video memorable! Keren abis.     \n",
              "16141    MONA4D bikin video ini asik! Penyampaian top.     \n",
              "16142  Sering diajak PHP? Di  ASIAGENTING , kamu diaj...   \n",
              "16143  Gaji numpang lewat? Biarin, ada  ASIAGENTING  ...   \n",
              "\n",
              "                                         casefoldingText  \\\n",
              "7      terlambat sedikit tidak masalah,gas braderr  p...   \n",
              "8       pr0be 855    naik terus kayak tren konten aes...   \n",
              "10     ubur ubur ikan lele , gw jp di pr0be 855  lee....   \n",
              "11                02:42 kok bsa gtu wkwkwkw . pr0be 855.   \n",
              "12                06:00 pr0be 855, jackpot tak terbatas!   \n",
              "...                                                  ...   \n",
              "16139  video ini epic karena mona4d! penyampaiannya a...   \n",
              "16140        mona4d bikin video memorable! keren abis.     \n",
              "16141    mona4d bikin video ini asik! penyampaian top.     \n",
              "16142  sering diajak php? di  asiagenting , kamu diaj...   \n",
              "16143  gaji numpang lewat? biarin, ada  asiagenting  ...   \n",
              "\n",
              "                                               cleanText  \\\n",
              "7      terlambat sedikit tidak masalahgas braderr pr0...   \n",
              "8       pr0be 855 naik terus kayak tren konten aesthetic   \n",
              "10            ubur ubur ikan lele gw jp di pr0be 855 lee   \n",
              "11                    0242 kok bsa gtu wkwkwkw pr0be 855   \n",
              "12                   0600 pr0be 855 jackpot tak terbatas   \n",
              "...                                                  ...   \n",
              "16139   video ini epic karena mona4d penyampaiannya asik   \n",
              "16140            mona4d bikin video memorable keren abis   \n",
              "16141        mona4d bikin video ini asik penyampaian top   \n",
              "16142  sering diajak php di asiagenting kamu diajak p...   \n",
              "16143  gaji numpang lewat biarin ada asiagenting yang...   \n",
              "\n",
              "                                           fixSlangWords  \\\n",
              "7      terlambat sedikit tidak masalahgas braderr pr0...   \n",
              "8       pr0be 855 naik terus kayak tren konten aesthetic   \n",
              "10     ubur ubur ikan lele saya jackpot di pr0be 855 lee   \n",
              "11               0242 mengapa bisa gtu wkwkwkw pr0be 855   \n",
              "12                   0600 pr0be 855 jackpot tak terbatas   \n",
              "...                                                  ...   \n",
              "16139   video ini epic karena mona4d penyampaiannya asik   \n",
              "16140          mona4d membuat video memorable keren abis   \n",
              "16141      mona4d membuat video ini asik penyampaian top   \n",
              "16142  sering diajak php di asiagenting kamu diajak p...   \n",
              "16143  gaji numpang lewat biarin ada asiagenting yang...   \n",
              "\n",
              "                                          tokenizingText  \\\n",
              "7      [terlambat, sedikit, tidak, masalahgas, brader...   \n",
              "8      [pr0be, 855, naik, terus, kayak, tren, konten,...   \n",
              "10     [ubur, ubur, ikan, lele, saya, jackpot, di, pr...   \n",
              "11       [0242, mengapa, bisa, gtu, wkwkwkw, pr0be, 855]   \n",
              "12            [0600, pr0be, 855, jackpot, tak, terbatas]   \n",
              "...                                                  ...   \n",
              "16139  [video, ini, epic, karena, mona4d, penyampaian...   \n",
              "16140   [mona4d, membuat, video, memorable, keren, abis]   \n",
              "16141  [mona4d, membuat, video, ini, asik, penyampaia...   \n",
              "16142  [sering, diajak, php, di, asiagenting, kamu, d...   \n",
              "16143  [gaji, numpang, lewat, biarin, ada, asiagentin...   \n",
              "\n",
              "                                            stopWordText  \\\n",
              "7           [terlambat, masalahgas, braderr, pr0be, 855]   \n",
              "8           [pr0be, 855, kayak, tren, konten, aesthetic]   \n",
              "10     [ubur, ubur, ikan, lele, jackpot, pr0be, 855, ...   \n",
              "11                      [0242, gtu, wkwkwkw, pr0be, 855]   \n",
              "12                 [0600, pr0be, 855, jackpot, terbatas]   \n",
              "...                                                  ...   \n",
              "16139        [video, epic, mona4d, penyampaiannya, asik]   \n",
              "16140            [mona4d, video, memorable, keren, abis]   \n",
              "16141            [mona4d, video, asik, penyampaian, top]   \n",
              "16142  [diajak, php, asiagenting, diajak, pdkt, jackpot]   \n",
              "16143  [gaji, numpang, biarin, asiagenting, setia, ne...   \n",
              "\n",
              "                                           finalText  label  \n",
              "7             terlambat masalahgas braderr pr0be 855      1  \n",
              "8              pr0be 855 kayak tren konten aesthetic      1  \n",
              "10         ubur ubur ikan lele jackpot pr0be 855 lee      1  \n",
              "11                        0242 gtu wkwkwkw pr0be 855      1  \n",
              "12                   0600 pr0be 855 jackpot terbatas      1  \n",
              "...                                              ...    ...  \n",
              "16139          video epic mona4d penyampaiannya asik      1  \n",
              "16140              mona4d video memorable keren abis      1  \n",
              "16141              mona4d video asik penyampaian top      1  \n",
              "16142     diajak php asiagenting diajak pdkt jackpot      1  \n",
              "16143  gaji numpang biarin asiagenting setia nemenin      1  \n",
              "\n",
              "[6764 rows x 10 columns]"
            ]
          },
          "execution_count": 494,
          "metadata": {},
          "output_type": "execute_result"
        }
      ],
      "source": [
        "df_combined[df_combined['label'] == 1]"
      ]
    },
    {
      "cell_type": "code",
      "execution_count": 495,
      "metadata": {
        "id": "KcmP7JUy7biD"
      },
      "outputs": [
        {
          "data": {
            "image/png": "[encoded data removed]",
            "text/plain": [
              "<Figure size 800x800 with 1 Axes>"
            ]
          },
          "metadata": {},
          "output_type": "display_data"
        }
      ],
      "source": [
        "label_counts = df_combined['label'].value_counts()\n",
        "\n",
        "# Labels for the pie chart\n",
        "labels = ['Not Gambling (0)', 'Gambling (1)']\n",
        "sizes = label_counts.values\n",
        "colors = ['lightblue', 'lightcoral']\n",
        "explode = (0.1, 0)  # explode the 1st slice (Not Gambling)\n",
        "\n",
        "# Plotting the pie chart\n",
        "plt.figure(figsize=(8, 8))\n",
        "plt.pie(sizes, explode=explode, labels=labels, colors=colors, autopct='%1.1f%%', shadow=True, startangle=140)\n",
        "plt.title('Distribution of Comment Labels')\n",
        "plt.axis('equal')  # Equal aspect ratio ensures that pie is drawn as a circle.\n",
        "plt.legend(title=\"Label\")\n",
        "plt.show()\n"
      ]
    },
    {
      "cell_type": "markdown",
      "metadata": {},
      "source": [
        "## Model Development"
      ]
    },
    {
      "cell_type": "markdown",
      "metadata": {},
      "source": [
        "### Judi Classification"
      ]
    },
    {
      "cell_type": "code",
      "execution_count": 496,
      "metadata": {},
      "outputs": [
        {
          "data": {
            "text/html": [
              "<div>\n",
              "<style scoped>\n",
              "    .dataframe tbody tr th:only-of-type {\n",
              "        vertical-align: middle;\n",
              "    }\n",
              "\n",
              "    .dataframe tbody tr th {\n",
              "        vertical-align: top;\n",
              "    }\n",
              "\n",
              "    .dataframe thead th {\n",
              "        text-align: right;\n",
              "    }\n",
              "</style>\n",
              "<table border=\"1\" class=\"dataframe\">\n",
              "  <thead>\n",
              "    <tr style=\"text-align: right;\">\n",
              "      <th></th>\n",
              "      <th>author</th>\n",
              "      <th>comment</th>\n",
              "      <th>normalizeText</th>\n",
              "      <th>casefoldingText</th>\n",
              "      <th>cleanText</th>\n",
              "      <th>fixSlangWords</th>\n",
              "      <th>tokenizingText</th>\n",
              "      <th>stopWordText</th>\n",
              "      <th>finalText</th>\n",
              "      <th>label</th>\n",
              "    </tr>\n",
              "  </thead>\n",
              "  <tbody>\n",
              "    <tr>\n",
              "      <th>0</th>\n",
              "      <td>@HenhenDrodro</td>\n",
              "      <td>Yg belain org stres pasti g jauh klo g ODGJ  y...</td>\n",
              "      <td>Yg belain org stres pasti g jauh klo g ODGJ  y...</td>\n",
              "      <td>yg belain org stres pasti g jauh klo g odgj  y...</td>\n",
              "      <td>yg belain org stres pasti g jauh klo g odgj y ...</td>\n",
              "      <td>yang belain orang stres pasti tidak jauh klo t...</td>\n",
              "      <td>[yang, belain, orang, stres, pasti, tidak, jau...</td>\n",
              "      <td>[belain, orang, stres, klo, odgj, pskopat]</td>\n",
              "      <td>belain orang stres klo odgj pskopat</td>\n",
              "      <td>0</td>\n",
              "    </tr>\n",
              "    <tr>\n",
              "      <th>1</th>\n",
              "      <td>@merahkhatulistiwa9603</td>\n",
              "      <td>ijazah jokowi itu asli ...penelaah ilmiah itu ...</td>\n",
              "      <td>ijazah jokowi itu asli ...penelaah ilmiah itu ...</td>\n",
              "      <td>ijazah jokowi itu asli ...penelaah ilmiah itu ...</td>\n",
              "      <td>ijazah jokowi itu asli penelaah ilmiah itu han...</td>\n",
              "      <td>ijazah jokowi itu asli penelaah ilmiah itu han...</td>\n",
              "      <td>[ijazah, jokowi, itu, asli, penelaah, ilmiah, ...</td>\n",
              "      <td>[ijazah, jokowi, asli, penelaah, ilmiah, meneb...</td>\n",
              "      <td>ijazah jokowi asli penelaah ilmiah menebak men...</td>\n",
              "      <td>0</td>\n",
              "    </tr>\n",
              "    <tr>\n",
              "      <th>2</th>\n",
              "      <td>@RinaManroe</td>\n",
              "      <td>Senyum2 Bae</td>\n",
              "      <td>Senyum2 Bae</td>\n",
              "      <td>senyum2 bae</td>\n",
              "      <td>senyum2 bae</td>\n",
              "      <td>senyum2 bae</td>\n",
              "      <td>[senyum2, bae]</td>\n",
              "      <td>[senyum2, bae]</td>\n",
              "      <td>senyum2 bae</td>\n",
              "      <td>0</td>\n",
              "    </tr>\n",
              "    <tr>\n",
              "      <th>3</th>\n",
              "      <td>@DWPSCHANEL</td>\n",
              "      <td>Tangkap lah males dengernya …ribet</td>\n",
              "      <td>Tangkap lah males dengernya ...ribet</td>\n",
              "      <td>tangkap lah males dengernya ...ribet</td>\n",
              "      <td>tangkap lah males dengernya ribet</td>\n",
              "      <td>tangkap lah males dengernya ribet</td>\n",
              "      <td>[tangkap, lah, males, dengernya, ribet]</td>\n",
              "      <td>[tangkap, males, dengernya, ribet]</td>\n",
              "      <td>tangkap males dengernya ribet</td>\n",
              "      <td>0</td>\n",
              "    </tr>\n",
              "    <tr>\n",
              "      <th>4</th>\n",
              "      <td>@dediharyanto9746</td>\n",
              "      <td>Ga peduli sama ROY dan JOKOWI, dari sini udah ...</td>\n",
              "      <td>Ga peduli sama ROY dan JOKOWI, dari sini udah ...</td>\n",
              "      <td>ga peduli sama roy dan jokowi, dari sini udah ...</td>\n",
              "      <td>ga peduli sama roy dan jokowi dari sini udah k...</td>\n",
              "      <td>tidak peduli dengan roy dan jokowi dari sini s...</td>\n",
              "      <td>[tidak, peduli, dengan, roy, dan, jokowi, dari...</td>\n",
              "      <td>[peduli, roy, jokowi, ketauan, hukum, indonesi...</td>\n",
              "      <td>peduli roy jokowi ketauan hukum indonesia raky...</td>\n",
              "      <td>0</td>\n",
              "    </tr>\n",
              "    <tr>\n",
              "      <th>...</th>\n",
              "      <td>...</td>\n",
              "      <td>...</td>\n",
              "      <td>...</td>\n",
              "      <td>...</td>\n",
              "      <td>...</td>\n",
              "      <td>...</td>\n",
              "      <td>...</td>\n",
              "      <td>...</td>\n",
              "      <td>...</td>\n",
              "      <td>...</td>\n",
              "    </tr>\n",
              "    <tr>\n",
              "      <th>97</th>\n",
              "      <td>@DwiNugroho-x9h</td>\n",
              "      <td>Tertawa lah kau roy.... Sebentar lagi kau nang...</td>\n",
              "      <td>Tertawa lah kau roy.... Sebentar lagi kau nang...</td>\n",
              "      <td>tertawa lah kau roy.... sebentar lagi kau nang...</td>\n",
              "      <td>tertawa lah kau roy sebentar lagi kau nangis2 ...</td>\n",
              "      <td>tertawa lah kau roy sebentar lagi kau nangis2 ...</td>\n",
              "      <td>[tertawa, lah, kau, roy, sebentar, lagi, kau, ...</td>\n",
              "      <td>[tertawa, kau, roy, sebentar, kau, nangis2, hh...</td>\n",
              "      <td>tertawa kau roy sebentar kau nangis2 hhhhhhh s...</td>\n",
              "      <td>0</td>\n",
              "    </tr>\n",
              "    <tr>\n",
              "      <th>98</th>\n",
              "      <td>@STORIEKIWARAS</td>\n",
              "      <td>RS cs . .akan terus memburu hadiah 6m..\\nYg di...</td>\n",
              "      <td>RS cs . .akan terus memburu hadiah 6m..\\nYg di...</td>\n",
              "      <td>rs cs . .akan terus memburu hadiah 6m..\\nyg di...</td>\n",
              "      <td>rs cs akan terus memburu hadiah 6m yg disaemba...</td>\n",
              "      <td>rs cs akan terus memburu hadiah 6m yang disaem...</td>\n",
              "      <td>[rs, cs, akan, terus, memburu, hadiah, 6m, yan...</td>\n",
              "      <td>[rs, cs, memburu, hadiah, 6m, disaembarakan, l...</td>\n",
              "      <td>rs cs memburu hadiah 6m disaembarakan lupa men...</td>\n",
              "      <td>0</td>\n",
              "    </tr>\n",
              "    <tr>\n",
              "      <th>99</th>\n",
              "      <td>@jennymore3845</td>\n",
              "      <td>roy dan rismon ini produk UGM yg gagal.. sampa...</td>\n",
              "      <td>roy dan rismon ini produk UGM yg gagal.. sampa...</td>\n",
              "      <td>roy dan rismon ini produk ugm yg gagal.. sampa...</td>\n",
              "      <td>roy dan rismon ini produk ugm yg gagal sampah2...</td>\n",
              "      <td>roy dan rismon ini produk ugm yang gagal sampa...</td>\n",
              "      <td>[roy, dan, rismon, ini, produk, ugm, yang, gag...</td>\n",
              "      <td>[roy, rismon, produk, ugm, gagal, sampah2, ben...</td>\n",
              "      <td>roy rismon produk ugm gagal sampah2 benci jokowi</td>\n",
              "      <td>0</td>\n",
              "    </tr>\n",
              "    <tr>\n",
              "      <th>100</th>\n",
              "      <td>@asepts-PsPanglipur</td>\n",
              "      <td>Udah lah... Tindak Hukum aja itu pembuat kegad...</td>\n",
              "      <td>Udah lah... Tindak Hukum aja itu pembuat kegad...</td>\n",
              "      <td>udah lah... tindak hukum aja itu pembuat kegad...</td>\n",
              "      <td>udah lah tindak hukum aja itu pembuat kegaduha...</td>\n",
              "      <td>sudah lah tindak hukum saja itu pembuat kegadu...</td>\n",
              "      <td>[sudah, lah, tindak, hukum, saja, itu, pembuat...</td>\n",
              "      <td>[tindak, hukum, pembuat, kegaduhan, salah, pa,...</td>\n",
              "      <td>tindak hukum pembuat kegaduhan salah pa jokowi...</td>\n",
              "      <td>0</td>\n",
              "    </tr>\n",
              "    <tr>\n",
              "      <th>101</th>\n",
              "      <td>@NanaHendriana-qi6up</td>\n",
              "      <td>Jokowi nya kaya tai,masih aja di ecek2 orang2 ...</td>\n",
              "      <td>Jokowi nya kaya tai,masih aja di ecek2 orang2 ...</td>\n",
              "      <td>jokowi nya kaya tai,masih aja di ecek2 orang2 ...</td>\n",
              "      <td>jokowi nya kaya taimasih aja di ecek2 orang2 k...</td>\n",
              "      <td>jokowi nya kaya taimasih saja di ecek2 orang2 ...</td>\n",
              "      <td>[jokowi, nya, kaya, taimasih, saja, di, ecek2,...</td>\n",
              "      <td>[jokowi, kaya, taimasih, ecek2, orang2, kaya, ...</td>\n",
              "      <td>jokowi kaya taimasih ecek2 orang2 kaya begitum...</td>\n",
              "      <td>0</td>\n",
              "    </tr>\n",
              "  </tbody>\n",
              "</table>\n",
              "<p>100 rows × 10 columns</p>\n",
              "</div>"
            ],
            "text/plain": [
              "                     author  \\\n",
              "0             @HenhenDrodro   \n",
              "1    @merahkhatulistiwa9603   \n",
              "2               @RinaManroe   \n",
              "3               @DWPSCHANEL   \n",
              "4         @dediharyanto9746   \n",
              "..                      ...   \n",
              "97          @DwiNugroho-x9h   \n",
              "98           @STORIEKIWARAS   \n",
              "99           @jennymore3845   \n",
              "100     @asepts-PsPanglipur   \n",
              "101    @NanaHendriana-qi6up   \n",
              "\n",
              "                                               comment  \\\n",
              "0    Yg belain org stres pasti g jauh klo g ODGJ  y...   \n",
              "1    ijazah jokowi itu asli ...penelaah ilmiah itu ...   \n",
              "2                                          Senyum2 Bae   \n",
              "3                   Tangkap lah males dengernya …ribet   \n",
              "4    Ga peduli sama ROY dan JOKOWI, dari sini udah ...   \n",
              "..                                                 ...   \n",
              "97   Tertawa lah kau roy.... Sebentar lagi kau nang...   \n",
              "98   RS cs . .akan terus memburu hadiah 6m..\\nYg di...   \n",
              "99   roy dan rismon ini produk UGM yg gagal.. sampa...   \n",
              "100  Udah lah... Tindak Hukum aja itu pembuat kegad...   \n",
              "101  Jokowi nya kaya tai,masih aja di ecek2 orang2 ...   \n",
              "\n",
              "                                         normalizeText  \\\n",
              "0    Yg belain org stres pasti g jauh klo g ODGJ  y...   \n",
              "1    ijazah jokowi itu asli ...penelaah ilmiah itu ...   \n",
              "2                                          Senyum2 Bae   \n",
              "3                 Tangkap lah males dengernya ...ribet   \n",
              "4    Ga peduli sama ROY dan JOKOWI, dari sini udah ...   \n",
              "..                                                 ...   \n",
              "97   Tertawa lah kau roy.... Sebentar lagi kau nang...   \n",
              "98   RS cs . .akan terus memburu hadiah 6m..\\nYg di...   \n",
              "99   roy dan rismon ini produk UGM yg gagal.. sampa...   \n",
              "100  Udah lah... Tindak Hukum aja itu pembuat kegad...   \n",
              "101  Jokowi nya kaya tai,masih aja di ecek2 orang2 ...   \n",
              "\n",
              "                                       casefoldingText  \\\n",
              "0    yg belain org stres pasti g jauh klo g odgj  y...   \n",
              "1    ijazah jokowi itu asli ...penelaah ilmiah itu ...   \n",
              "2                                          senyum2 bae   \n",
              "3                 tangkap lah males dengernya ...ribet   \n",
              "4    ga peduli sama roy dan jokowi, dari sini udah ...   \n",
              "..                                                 ...   \n",
              "97   tertawa lah kau roy.... sebentar lagi kau nang...   \n",
              "98   rs cs . .akan terus memburu hadiah 6m..\\nyg di...   \n",
              "99   roy dan rismon ini produk ugm yg gagal.. sampa...   \n",
              "100  udah lah... tindak hukum aja itu pembuat kegad...   \n",
              "101  jokowi nya kaya tai,masih aja di ecek2 orang2 ...   \n",
              "\n",
              "                                             cleanText  \\\n",
              "0    yg belain org stres pasti g jauh klo g odgj y ...   \n",
              "1    ijazah jokowi itu asli penelaah ilmiah itu han...   \n",
              "2                                          senyum2 bae   \n",
              "3                    tangkap lah males dengernya ribet   \n",
              "4    ga peduli sama roy dan jokowi dari sini udah k...   \n",
              "..                                                 ...   \n",
              "97   tertawa lah kau roy sebentar lagi kau nangis2 ...   \n",
              "98   rs cs akan terus memburu hadiah 6m yg disaemba...   \n",
              "99   roy dan rismon ini produk ugm yg gagal sampah2...   \n",
              "100  udah lah tindak hukum aja itu pembuat kegaduha...   \n",
              "101  jokowi nya kaya taimasih aja di ecek2 orang2 k...   \n",
              "\n",
              "                                         fixSlangWords  \\\n",
              "0    yang belain orang stres pasti tidak jauh klo t...   \n",
              "1    ijazah jokowi itu asli penelaah ilmiah itu han...   \n",
              "2                                          senyum2 bae   \n",
              "3                    tangkap lah males dengernya ribet   \n",
              "4    tidak peduli dengan roy dan jokowi dari sini s...   \n",
              "..                                                 ...   \n",
              "97   tertawa lah kau roy sebentar lagi kau nangis2 ...   \n",
              "98   rs cs akan terus memburu hadiah 6m yang disaem...   \n",
              "99   roy dan rismon ini produk ugm yang gagal sampa...   \n",
              "100  sudah lah tindak hukum saja itu pembuat kegadu...   \n",
              "101  jokowi nya kaya taimasih saja di ecek2 orang2 ...   \n",
              "\n",
              "                                        tokenizingText  \\\n",
              "0    [yang, belain, orang, stres, pasti, tidak, jau...   \n",
              "1    [ijazah, jokowi, itu, asli, penelaah, ilmiah, ...   \n",
              "2                                       [senyum2, bae]   \n",
              "3              [tangkap, lah, males, dengernya, ribet]   \n",
              "4    [tidak, peduli, dengan, roy, dan, jokowi, dari...   \n",
              "..                                                 ...   \n",
              "97   [tertawa, lah, kau, roy, sebentar, lagi, kau, ...   \n",
              "98   [rs, cs, akan, terus, memburu, hadiah, 6m, yan...   \n",
              "99   [roy, dan, rismon, ini, produk, ugm, yang, gag...   \n",
              "100  [sudah, lah, tindak, hukum, saja, itu, pembuat...   \n",
              "101  [jokowi, nya, kaya, taimasih, saja, di, ecek2,...   \n",
              "\n",
              "                                          stopWordText  \\\n",
              "0           [belain, orang, stres, klo, odgj, pskopat]   \n",
              "1    [ijazah, jokowi, asli, penelaah, ilmiah, meneb...   \n",
              "2                                       [senyum2, bae]   \n",
              "3                   [tangkap, males, dengernya, ribet]   \n",
              "4    [peduli, roy, jokowi, ketauan, hukum, indonesi...   \n",
              "..                                                 ...   \n",
              "97   [tertawa, kau, roy, sebentar, kau, nangis2, hh...   \n",
              "98   [rs, cs, memburu, hadiah, 6m, disaembarakan, l...   \n",
              "99   [roy, rismon, produk, ugm, gagal, sampah2, ben...   \n",
              "100  [tindak, hukum, pembuat, kegaduhan, salah, pa,...   \n",
              "101  [jokowi, kaya, taimasih, ecek2, orang2, kaya, ...   \n",
              "\n",
              "                                             finalText  label  \n",
              "0                  belain orang stres klo odgj pskopat      0  \n",
              "1    ijazah jokowi asli penelaah ilmiah menebak men...      0  \n",
              "2                                          senyum2 bae      0  \n",
              "3                        tangkap males dengernya ribet      0  \n",
              "4    peduli roy jokowi ketauan hukum indonesia raky...      0  \n",
              "..                                                 ...    ...  \n",
              "97   tertawa kau roy sebentar kau nangis2 hhhhhhh s...      0  \n",
              "98   rs cs memburu hadiah 6m disaembarakan lupa men...      0  \n",
              "99    roy rismon produk ugm gagal sampah2 benci jokowi      0  \n",
              "100  tindak hukum pembuat kegaduhan salah pa jokowi...      0  \n",
              "101  jokowi kaya taimasih ecek2 orang2 kaya begitum...      0  \n",
              "\n",
              "[100 rows x 10 columns]"
            ]
          },
          "execution_count": 496,
          "metadata": {},
          "output_type": "execute_result"
        }
      ],
      "source": [
        "df_combined.head(100)"
      ]
    },
    {
      "cell_type": "code",
      "execution_count": 497,
      "metadata": {},
      "outputs": [],
      "source": [
        "# Muat dataset\n",
        "texts = df_combined['finalText'].astype(str).values\n",
        "labels = df_combined['label'].values"
      ]
    },
    {
      "cell_type": "code",
      "execution_count": 498,
      "metadata": {},
      "outputs": [],
      "source": [
        "# Fungsi augmentasi\n",
        "def synonym_replacement(text, n=1):\n",
        "      words = text.split()\n",
        "      new_words = words.copy()\n",
        "      stop_words = set(stopwords.words('indonesian'))\n",
        "\n",
        "      words_to_replace = [word for word in words if word not in stop_words]\n",
        "      random.shuffle(words_to_replace)\n",
        "\n",
        "      num_replaced = 0\n",
        "      for word in words_to_replace:\n",
        "            synonyms = [word + '_syn']  # placeholder\n",
        "            if synonyms:\n",
        "                  synonym = random.choice(synonyms)\n",
        "                  new_words = [synonym if w == word else w for w in new_words]\n",
        "                  num_replaced += 1\n",
        "            if num_replaced >= n:\n",
        "                  break\n",
        "      return ' '.join(new_words)\n",
        "\n",
        "def augment_dataset(texts, labels, augment_ratio=0.3):\n",
        "      augmented_texts = []\n",
        "      augmented_labels = []\n",
        "      for text, label in zip(texts, labels):\n",
        "            if random.random() < augment_ratio:\n",
        "                  new_text = synonym_replacement(text)\n",
        "                  augmented_texts.append(new_text)\n",
        "                  augmented_labels.append(label)\n",
        "      return texts + augmented_texts, labels + augmented_labels\n"
      ]
    },
    {
      "cell_type": "code",
      "execution_count": 499,
      "metadata": {},
      "outputs": [],
      "source": [
        "# Split the dataset into training and testing sets\n",
        "# Augment sebelum split\n",
        "texts_aug, labels_aug = augment_dataset(list(texts), list(labels), augment_ratio=0.3)\n",
        "\n",
        "# Split data\n",
        "train_texts, temp_texts, train_labels, temp_labels = train_test_split(\n",
        "      texts_aug, labels_aug, test_size=0.3, random_state=42, stratify=labels_aug\n",
        ")\n",
        "val_texts, test_texts, val_labels, test_labels = train_test_split(\n",
        "      temp_texts, temp_labels, test_size=0.5, random_state=42, stratify=temp_labels\n",
        ")"
      ]
    },
    {
      "cell_type": "code",
      "execution_count": 500,
      "metadata": {},
      "outputs": [],
      "source": [
        "# Konversi ke array 1D\n",
        "train_texts = np.array(train_texts, dtype=object).flatten()\n",
        "val_texts = np.array(val_texts, dtype=object).flatten()\n",
        "test_texts = np.array(test_texts, dtype=object).flatten()"
      ]
    },
    {
      "cell_type": "code",
      "execution_count": 501,
      "metadata": {},
      "outputs": [],
      "source": [
        "# Hyperparameters\n",
        "MAX_VOCAB = 10000\n",
        "MAX_LEN = 100\n",
        "EMBED_DIM = 64"
      ]
    },
    {
      "cell_type": "code",
      "execution_count": 502,
      "metadata": {},
      "outputs": [],
      "source": [
        "# Text vectorization layer\n",
        "vectorizer = TextVectorization(\n",
        "      max_tokens=MAX_VOCAB,\n",
        "      output_mode='int',\n",
        "      output_sequence_length=MAX_LEN\n",
        ")\n",
        "vectorizer.adapt(train_texts)"
      ]
    },
    {
      "cell_type": "code",
      "execution_count": 503,
      "metadata": {},
      "outputs": [
        {
          "data": {
            "text/html": [
              "<pre style=\"white-space:pre;overflow-x:auto;line-height:normal;font-family:Menlo,'DejaVu Sans Mono',consolas,'Courier New',monospace\"><span style=\"font-weight: bold\">Model: \"sequential_10\"</span>\n",
              "</pre>\n"
            ],
            "text/plain": [
              "\u001b[1mModel: \"sequential_10\"\u001b[0m\n"
            ]
          },
          "metadata": {},
          "output_type": "display_data"
        },
        {
          "data": {
            "text/html": [
              "<pre style=\"white-space:pre;overflow-x:auto;line-height:normal;font-family:Menlo,'DejaVu Sans Mono',consolas,'Courier New',monospace\">┏━━━━━━━━━━━━━━━━━━━━━━━━━━━━━━━━━┳━━━━━━━━━━━━━━━━━━━━━━━━┳━━━━━━━━━━━━━━━┓\n",
              "┃<span style=\"font-weight: bold\"> Layer (type)                    </span>┃<span style=\"font-weight: bold\"> Output Shape           </span>┃<span style=\"font-weight: bold\">       Param # </span>┃\n",
              "┡━━━━━━━━━━━━━━━━━━━━━━━━━━━━━━━━━╇━━━━━━━━━━━━━━━━━━━━━━━━╇━━━━━━━━━━━━━━━┩\n",
              "│ text_vectorization_10           │ (<span style=\"color: #00d7ff; text-decoration-color: #00d7ff\">None</span>, <span style=\"color: #00af00; text-decoration-color: #00af00\">100</span>)            │             <span style=\"color: #00af00; text-decoration-color: #00af00\">0</span> │\n",
              "│ (<span style=\"color: #0087ff; text-decoration-color: #0087ff\">TextVectorization</span>)             │                        │               │\n",
              "├─────────────────────────────────┼────────────────────────┼───────────────┤\n",
              "│ embedding_10 (<span style=\"color: #0087ff; text-decoration-color: #0087ff\">Embedding</span>)        │ (<span style=\"color: #00d7ff; text-decoration-color: #00d7ff\">None</span>, <span style=\"color: #00af00; text-decoration-color: #00af00\">100</span>, <span style=\"color: #00af00; text-decoration-color: #00af00\">64</span>)        │       <span style=\"color: #00af00; text-decoration-color: #00af00\">640,000</span> │\n",
              "├─────────────────────────────────┼────────────────────────┼───────────────┤\n",
              "│ bidirectional_10                │ (<span style=\"color: #00d7ff; text-decoration-color: #00d7ff\">None</span>, <span style=\"color: #00af00; text-decoration-color: #00af00\">128</span>)            │        <span style=\"color: #00af00; text-decoration-color: #00af00\">66,048</span> │\n",
              "│ (<span style=\"color: #0087ff; text-decoration-color: #0087ff\">Bidirectional</span>)                 │                        │               │\n",
              "├─────────────────────────────────┼────────────────────────┼───────────────┤\n",
              "│ dense_20 (<span style=\"color: #0087ff; text-decoration-color: #0087ff\">Dense</span>)                │ (<span style=\"color: #00d7ff; text-decoration-color: #00d7ff\">None</span>, <span style=\"color: #00af00; text-decoration-color: #00af00\">64</span>)             │         <span style=\"color: #00af00; text-decoration-color: #00af00\">8,256</span> │\n",
              "├─────────────────────────────────┼────────────────────────┼───────────────┤\n",
              "│ dropout_9 (<span style=\"color: #0087ff; text-decoration-color: #0087ff\">Dropout</span>)             │ (<span style=\"color: #00d7ff; text-decoration-color: #00d7ff\">None</span>, <span style=\"color: #00af00; text-decoration-color: #00af00\">64</span>)             │             <span style=\"color: #00af00; text-decoration-color: #00af00\">0</span> │\n",
              "├─────────────────────────────────┼────────────────────────┼───────────────┤\n",
              "│ dense_21 (<span style=\"color: #0087ff; text-decoration-color: #0087ff\">Dense</span>)                │ (<span style=\"color: #00d7ff; text-decoration-color: #00d7ff\">None</span>, <span style=\"color: #00af00; text-decoration-color: #00af00\">1</span>)              │            <span style=\"color: #00af00; text-decoration-color: #00af00\">65</span> │\n",
              "└─────────────────────────────────┴────────────────────────┴───────────────┘\n",
              "</pre>\n"
            ],
            "text/plain": [
              "┏━━━━━━━━━━━━━━━━━━━━━━━━━━━━━━━━━┳━━━━━━━━━━━━━━━━━━━━━━━━┳━━━━━━━━━━━━━━━┓\n",
              "┃\u001b[1m \u001b[0m\u001b[1mLayer (type)                   \u001b[0m\u001b[1m \u001b[0m┃\u001b[1m \u001b[0m\u001b[1mOutput Shape          \u001b[0m\u001b[1m \u001b[0m┃\u001b[1m \u001b[0m\u001b[1m      Param #\u001b[0m\u001b[1m \u001b[0m┃\n",
              "┡━━━━━━━━━━━━━━━━━━━━━━━━━━━━━━━━━╇━━━━━━━━━━━━━━━━━━━━━━━━╇━━━━━━━━━━━━━━━┩\n",
              "│ text_vectorization_10           │ (\u001b[38;5;45mNone\u001b[0m, \u001b[38;5;34m100\u001b[0m)            │             \u001b[38;5;34m0\u001b[0m │\n",
              "│ (\u001b[38;5;33mTextVectorization\u001b[0m)             │                        │               │\n",
              "├─────────────────────────────────┼────────────────────────┼───────────────┤\n",
              "│ embedding_10 (\u001b[38;5;33mEmbedding\u001b[0m)        │ (\u001b[38;5;45mNone\u001b[0m, \u001b[38;5;34m100\u001b[0m, \u001b[38;5;34m64\u001b[0m)        │       \u001b[38;5;34m640,000\u001b[0m │\n",
              "├─────────────────────────────────┼────────────────────────┼───────────────┤\n",
              "│ bidirectional_10                │ (\u001b[38;5;45mNone\u001b[0m, \u001b[38;5;34m128\u001b[0m)            │        \u001b[38;5;34m66,048\u001b[0m │\n",
              "│ (\u001b[38;5;33mBidirectional\u001b[0m)                 │                        │               │\n",
              "├─────────────────────────────────┼────────────────────────┼───────────────┤\n",
              "│ dense_20 (\u001b[38;5;33mDense\u001b[0m)                │ (\u001b[38;5;45mNone\u001b[0m, \u001b[38;5;34m64\u001b[0m)             │         \u001b[38;5;34m8,256\u001b[0m │\n",
              "├─────────────────────────────────┼────────────────────────┼───────────────┤\n",
              "│ dropout_9 (\u001b[38;5;33mDropout\u001b[0m)             │ (\u001b[38;5;45mNone\u001b[0m, \u001b[38;5;34m64\u001b[0m)             │             \u001b[38;5;34m0\u001b[0m │\n",
              "├─────────────────────────────────┼────────────────────────┼───────────────┤\n",
              "│ dense_21 (\u001b[38;5;33mDense\u001b[0m)                │ (\u001b[38;5;45mNone\u001b[0m, \u001b[38;5;34m1\u001b[0m)              │            \u001b[38;5;34m65\u001b[0m │\n",
              "└─────────────────────────────────┴────────────────────────┴───────────────┘\n"
            ]
          },
          "metadata": {},
          "output_type": "display_data"
        },
        {
          "data": {
            "text/html": [
              "<pre style=\"white-space:pre;overflow-x:auto;line-height:normal;font-family:Menlo,'DejaVu Sans Mono',consolas,'Courier New',monospace\"><span style=\"font-weight: bold\"> Total params: </span><span style=\"color: #00af00; text-decoration-color: #00af00\">714,369</span> (2.73 MB)\n",
              "</pre>\n"
            ],
            "text/plain": [
              "\u001b[1m Total params: \u001b[0m\u001b[38;5;34m714,369\u001b[0m (2.73 MB)\n"
            ]
          },
          "metadata": {},
          "output_type": "display_data"
        },
        {
          "data": {
            "text/html": [
              "<pre style=\"white-space:pre;overflow-x:auto;line-height:normal;font-family:Menlo,'DejaVu Sans Mono',consolas,'Courier New',monospace\"><span style=\"font-weight: bold\"> Trainable params: </span><span style=\"color: #00af00; text-decoration-color: #00af00\">714,369</span> (2.73 MB)\n",
              "</pre>\n"
            ],
            "text/plain": [
              "\u001b[1m Trainable params: \u001b[0m\u001b[38;5;34m714,369\u001b[0m (2.73 MB)\n"
            ]
          },
          "metadata": {},
          "output_type": "display_data"
        },
        {
          "data": {
            "text/html": [
              "<pre style=\"white-space:pre;overflow-x:auto;line-height:normal;font-family:Menlo,'DejaVu Sans Mono',consolas,'Courier New',monospace\"><span style=\"font-weight: bold\"> Non-trainable params: </span><span style=\"color: #00af00; text-decoration-color: #00af00\">0</span> (0.00 B)\n",
              "</pre>\n"
            ],
            "text/plain": [
              "\u001b[1m Non-trainable params: \u001b[0m\u001b[38;5;34m0\u001b[0m (0.00 B)\n"
            ]
          },
          "metadata": {},
          "output_type": "display_data"
        }
      ],
      "source": [
        "# Bangun model\n",
        "model = Sequential([\n",
        "      tf.keras.Input(shape=(), dtype=tf.string),\n",
        "      vectorizer,\n",
        "      Embedding(input_dim=MAX_VOCAB, output_dim=EMBED_DIM, mask_zero=True),\n",
        "      Bidirectional(LSTM(64)),\n",
        "      Dense(64, activation='relu', kernel_regularizer=tf.keras.regularizers.l2(0.01)),\n",
        "      Dropout(0.5),\n",
        "      Dense(1, activation='sigmoid'),\n",
        "])\n",
        "\n",
        "model.compile(optimizer='adam', loss='binary_crossentropy', metrics=['accuracy'])\n",
        "model.summary()"
      ]
    },
    {
      "cell_type": "code",
      "execution_count": 504,
      "metadata": {},
      "outputs": [
        {
          "name": "stdout",
          "output_type": "stream",
          "text": [
            "Epoch 1/30\n",
            "\u001b[1m452/452\u001b[0m \u001b[32m━━━━━━━━━━━━━━━━━━━━\u001b[0m\u001b[37m\u001b[0m \u001b[1m0s\u001b[0m 29ms/step - accuracy: 0.8754 - loss: 0.5854"
          ]
        },
        {
          "name": "stderr",
          "output_type": "stream",
          "text": [
            "WARNING:absl:You are saving your model as an HDF5 file via `model.save()` or `keras.saving.save_model(model)`. This file format is considered legacy. We recommend using instead the native Keras format, e.g. `model.save('my_model.keras')` or `keras.saving.save_model(model, 'my_model.keras')`. \n"
          ]
        },
        {
          "name": "stdout",
          "output_type": "stream",
          "text": [
            "\u001b[1m452/452\u001b[0m \u001b[32m━━━━━━━━━━━━━━━━━━━━\u001b[0m\u001b[37m\u001b[0m \u001b[1m18s\u001b[0m 32ms/step - accuracy: 0.8755 - loss: 0.5847 - val_accuracy: 0.9906 - val_loss: 0.0483\n",
            "Epoch 2/30\n",
            "\u001b[1m452/452\u001b[0m \u001b[32m━━━━━━━━━━━━━━━━━━━━\u001b[0m\u001b[37m\u001b[0m \u001b[1m0s\u001b[0m 35ms/step - accuracy: 0.9946 - loss: 0.0384"
          ]
        },
        {
          "name": "stderr",
          "output_type": "stream",
          "text": [
            "WARNING:absl:You are saving your model as an HDF5 file via `model.save()` or `keras.saving.save_model(model)`. This file format is considered legacy. We recommend using instead the native Keras format, e.g. `model.save('my_model.keras')` or `keras.saving.save_model(model, 'my_model.keras')`. \n"
          ]
        },
        {
          "name": "stdout",
          "output_type": "stream",
          "text": [
            "\u001b[1m452/452\u001b[0m \u001b[32m━━━━━━━━━━━━━━━━━━━━\u001b[0m\u001b[37m\u001b[0m \u001b[1m17s\u001b[0m 38ms/step - accuracy: 0.9946 - loss: 0.0384 - val_accuracy: 0.9958 - val_loss: 0.0238\n",
            "Epoch 3/30\n",
            "\u001b[1m452/452\u001b[0m \u001b[32m━━━━━━━━━━━━━━━━━━━━\u001b[0m\u001b[37m\u001b[0m \u001b[1m0s\u001b[0m 29ms/step - accuracy: 0.9983 - loss: 0.0153"
          ]
        },
        {
          "name": "stderr",
          "output_type": "stream",
          "text": [
            "WARNING:absl:You are saving your model as an HDF5 file via `model.save()` or `keras.saving.save_model(model)`. This file format is considered legacy. We recommend using instead the native Keras format, e.g. `model.save('my_model.keras')` or `keras.saving.save_model(model, 'my_model.keras')`. \n"
          ]
        },
        {
          "name": "stdout",
          "output_type": "stream",
          "text": [
            "\u001b[1m452/452\u001b[0m \u001b[32m━━━━━━━━━━━━━━━━━━━━\u001b[0m\u001b[37m\u001b[0m \u001b[1m14s\u001b[0m 32ms/step - accuracy: 0.9983 - loss: 0.0153 - val_accuracy: 0.9961 - val_loss: 0.0200\n",
            "Epoch 4/30\n",
            "\u001b[1m451/452\u001b[0m \u001b[32m━━━━━━━━━━━━━━━━━━━\u001b[0m\u001b[37m━\u001b[0m \u001b[1m0s\u001b[0m 29ms/step - accuracy: 0.9998 - loss: 0.0081"
          ]
        },
        {
          "name": "stderr",
          "output_type": "stream",
          "text": [
            "WARNING:absl:You are saving your model as an HDF5 file via `model.save()` or `keras.saving.save_model(model)`. This file format is considered legacy. We recommend using instead the native Keras format, e.g. `model.save('my_model.keras')` or `keras.saving.save_model(model, 'my_model.keras')`. \n"
          ]
        },
        {
          "name": "stdout",
          "output_type": "stream",
          "text": [
            "\u001b[1m452/452\u001b[0m \u001b[32m━━━━━━━━━━━━━━━━━━━━\u001b[0m\u001b[37m\u001b[0m \u001b[1m14s\u001b[0m 31ms/step - accuracy: 0.9998 - loss: 0.0081 - val_accuracy: 0.9958 - val_loss: 0.0174\n",
            "Epoch 5/30\n",
            "\u001b[1m452/452\u001b[0m \u001b[32m━━━━━━━━━━━━━━━━━━━━\u001b[0m\u001b[37m\u001b[0m \u001b[1m14s\u001b[0m 32ms/step - accuracy: 0.9996 - loss: 0.0073 - val_accuracy: 0.9964 - val_loss: 0.0182\n",
            "Epoch 6/30\n",
            "\u001b[1m451/452\u001b[0m \u001b[32m━━━━━━━━━━━━━━━━━━━\u001b[0m\u001b[37m━\u001b[0m \u001b[1m0s\u001b[0m 29ms/step - accuracy: 0.9999 - loss: 0.0057"
          ]
        },
        {
          "name": "stderr",
          "output_type": "stream",
          "text": [
            "WARNING:absl:You are saving your model as an HDF5 file via `model.save()` or `keras.saving.save_model(model)`. This file format is considered legacy. We recommend using instead the native Keras format, e.g. `model.save('my_model.keras')` or `keras.saving.save_model(model, 'my_model.keras')`. \n"
          ]
        },
        {
          "name": "stdout",
          "output_type": "stream",
          "text": [
            "\u001b[1m452/452\u001b[0m \u001b[32m━━━━━━━━━━━━━━━━━━━━\u001b[0m\u001b[37m\u001b[0m \u001b[1m14s\u001b[0m 32ms/step - accuracy: 0.9999 - loss: 0.0057 - val_accuracy: 0.9971 - val_loss: 0.0147\n",
            "Epoch 7/30\n",
            "\u001b[1m452/452\u001b[0m \u001b[32m━━━━━━━━━━━━━━━━━━━━\u001b[0m\u001b[37m\u001b[0m \u001b[1m17s\u001b[0m 37ms/step - accuracy: 0.9999 - loss: 0.0047 - val_accuracy: 0.9955 - val_loss: 0.0198\n",
            "Epoch 8/30\n",
            "\u001b[1m452/452\u001b[0m \u001b[32m━━━━━━━━━━━━━━━━━━━━\u001b[0m\u001b[37m\u001b[0m \u001b[1m15s\u001b[0m 34ms/step - accuracy: 0.9986 - loss: 0.0125 - val_accuracy: 0.9952 - val_loss: 0.0215\n"
          ]
        },
        {
          "data": {
            "text/plain": [
              "<keras.src.callbacks.history.History at 0x14f7ce0e440>"
            ]
          },
          "execution_count": 504,
          "metadata": {},
          "output_type": "execute_result"
        }
      ],
      "source": [
        "early_stop = EarlyStopping(monitor='val_loss', patience=2, restore_best_weights=True)\n",
        "checkpoint = ModelCheckpoint('best_model.h5', save_best_only=True, monitor='val_loss')\n",
        "\n",
        "# Training\n",
        "model.fit(\n",
        "    x=train_texts,\n",
        "    y=np.array(train_labels),\n",
        "    validation_data=(val_texts, np.array(val_labels)),\n",
        "    batch_size=32,\n",
        "    epochs=30,\n",
        "    callbacks=[early_stop, checkpoint]\n",
        ")"
      ]
    },
    {
      "cell_type": "code",
      "execution_count": 505,
      "metadata": {},
      "outputs": [
        {
          "name": "stdout",
          "output_type": "stream",
          "text": [
            "\u001b[1m97/97\u001b[0m \u001b[32m━━━━━━━━━━━━━━━━━━━━\u001b[0m\u001b[37m\u001b[0m \u001b[1m1s\u001b[0m 13ms/step\n",
            "              precision    recall  f1-score   support\n",
            "\n",
            "           0       0.99      1.00      0.99      1782\n",
            "           1       0.99      0.99      0.99      1315\n",
            "\n",
            "    accuracy                           0.99      3097\n",
            "   macro avg       0.99      0.99      0.99      3097\n",
            "weighted avg       0.99      0.99      0.99      3097\n",
            "\n"
          ]
        }
      ],
      "source": [
        "# Prediksi dan laporan klasifikasi\n",
        "y_pred_probs = model.predict(test_texts)\n",
        "y_pred = (y_pred_probs >= 0.5).astype(int)\n",
        "\n",
        "print(classification_report(test_labels, y_pred))"
      ]
    },
    {
      "cell_type": "code",
      "execution_count": 506,
      "metadata": {},
      "outputs": [
        {
          "name": "stdout",
          "output_type": "stream",
          "text": [
            "\u001b[1m1/1\u001b[0m \u001b[32m━━━━━━━━━━━━━━━━━━━━\u001b[0m\u001b[37m\u001b[0m \u001b[1m0s\u001b[0m 34ms/step\n",
            "Komentar: \"roy suryo itu kan penjahat yang keluar dari penjara kok membuat ulah lagi\" -> Prediksi: Bukan Judi Online\n",
            "Komentar: \"semoga roy masuk penjara sebelum tgl juni biar tidak ikut nonton timnas main\" -> Prediksi: Judi Online\n",
            "Komentar: \"ya alloh ya rob penjarakan orang munafik\" -> Prediksi: Bukan Judi Online\n",
            "Komentar: \"sehat selalu semuanya salam dari weton88 mudah jackpot\" -> Prediksi: Judi Online\n",
            "Komentar: \"kerennn contentnya kakak cari situs yang benar itu weton88\" -> Prediksi: Judi Online\n",
            "Komentar: \"weton88 tempat paling uhuy\" -> Prediksi: Judi Online\n"
          ]
        }
      ],
      "source": [
        "def predict_multiple(texts):\n",
        "      \"\"\"\n",
        "      Memprediksi daftar komentar apakah mengandung unsur judi atau tidak.\n",
        "      Argumen:\n",
        "            texts (List[str]): daftar komentar.\n",
        "      Return:\n",
        "            List[str]: daftar hasil prediksi \"Judi Online\" atau \"Bukan Judi Online\".\n",
        "      \"\"\"\n",
        "      texts = np.array(texts, dtype=object)\n",
        "      probs = model.predict(texts).flatten()\n",
        "      results = [\"Judi Online\" if p >= 0.5 else \"Bukan Judi Online\" for p in probs]\n",
        "      return results\n",
        "\n",
        "# # Contoh penggunaan prediksi untuk multiple comments\n",
        "sample_texts = [\n",
        "      \"roy suryo itu kan penjahat yang keluar dari penjara kok membuat ulah lagi\",\n",
        "      \"semoga roy masuk penjara sebelum tgl juni biar tidak ikut nonton timnas main\",\n",
        "      \"ya alloh ya rob penjarakan orang munafik\",\n",
        "      \"sehat selalu semuanya salam dari weton88 mudah jackpot\",\n",
        "      \"kerennn contentnya kakak cari situs yang benar itu weton88\",\n",
        "      \"weton88 tempat paling uhuy\"\n",
        "]\n",
        "\n",
        "predicted_results = predict_multiple(sample_texts)\n",
        "\n",
        "for text, result in zip(sample_texts, predicted_results):\n",
        "      print(f\"Komentar: \\\"{text}\\\" -> Prediksi: {result}\")\n"
      ]
    },
    {
      "cell_type": "code",
      "execution_count": 507,
      "metadata": {},
      "outputs": [],
      "source": [
        "# # simpan model dan tokenizer ke /models\n",
        "# model.save_pretrained('./fine_tuned_indobert')\n",
        "# tokenizer.save_pretrained('./fine_tuned_indobert')"
      ]
    },
    {
      "cell_type": "code",
      "execution_count": 508,
      "metadata": {},
      "outputs": [],
      "source": [
        "# # load model dari drive dan gunakan untuk predict\n",
        "# model = AutoModelForSequenceClassification.from_pretrained('models/fine_tuned_indobert')\n",
        "# tokenizer = AutoTokenizer.from_pretrained('models/fine_tuned_indobert')\n",
        "\n",
        "# # Perbarui fungsi predict untuk menggunakan model yang dimuat\n",
        "# def predict_from_drive(text):\n",
        "#       device = torch.device(\"cuda\" if torch.cuda.is_available() else \"cpu\")\n",
        "#       model.to(device)\n",
        "\n",
        "#       inputs = tokenizer(text, return_tensors=\"pt\", padding=True, truncation=True, max_length=128)\n",
        "#       inputs = {key: value.to(device) for key, value in inputs.items()}\n",
        "\n",
        "#       model.eval()\n",
        "#       with torch.no_grad():\n",
        "#             outputs = model(**inputs)\n",
        "#             prediction = outputs.logits.argmax().item()\n",
        "\n",
        "#       return \"Judi Online\" if prediction == 1 else \"Bukan Judi Online\"\n",
        "\n",
        "# # Perbarui fungsi predict_multiple untuk menggunakan model yang dimuat\n",
        "# def predict_multiple_from_drive(texts):\n",
        "#       device = torch.device(\"cuda\" if torch.cuda.is_available() else \"cpu\")\n",
        "#       model.to(device)\n",
        "\n",
        "#       inputs = tokenizer(texts, return_tensors=\"pt\", padding=True, truncation=True, max_length=128, return_token_type_ids=False)\n",
        "#       inputs = {key: value.to(device) for key, value in inputs.items()}\n",
        "\n",
        "#       model.eval()\n",
        "#       with torch.no_grad():\n",
        "#             outputs = model(**inputs)\n",
        "#             predictions = outputs.logits.argmax(dim=1).tolist()\n",
        "\n",
        "#       results = [\"Judi Online\" if pred == 1 else \"Bukan Judi Online\" for pred in predictions]\n",
        "#       return results\n",
        "\n",
        "# # Contoh penggunaan prediksi dengan model yang dimuat dari Drive\n",
        "# sample_text_loaded = \"ijazah jokowi itu asli penelaah ilmiah itu hanya menebak dan mengira2 dan kemudian di buat fitnah roy suryo adl mentri yang di pecat oleh jokowi sepintas saja tahu kemana larinya mereka\"\n",
        "# print(\"Prediksi dari model yang dimuat dari Drive (teks tunggal):\")\n",
        "# print(predict_from_drive(sample_text_loaded))\n",
        "\n",
        "# sample_texts_loaded = [\n",
        "#       \"roy suryo itu kan penjahat yang keluar dari penjara kok membuat ulah lagi\",\n",
        "#       \"semoga roy masuk penjara sebelum tgl juni biar tidak ikut nonton timnas main\",\n",
        "#       \"ya alloh ya rob penjarakan orang munafik\",\n",
        "#       \"sehat selalu semuanya salam dari weton88 mudah jackpot\",\n",
        "#       \"kerennn contentnya kakak cari situs yang benar itu weton88\",\n",
        "#       \"weton88 tempat paling uhuy\"\n",
        "# ]\n",
        "# predicted_results_loaded = predict_multiple_from_drive(sample_texts_loaded)\n",
        "\n",
        "# print(\"\\nPrediksi dari model yang dimuat dari Drive (multiple teks):\")\n",
        "# for text, result in zip(sample_texts_loaded, predicted_results_loaded):\n",
        "#       print(f\"Komentar: \\\"{text}\\\" -> Prediksi: {result}\")"
      ]
    },
    {
      "cell_type": "markdown",
      "metadata": {},
      "source": [
        "### Sentiment Classification"
      ]
    }
  ],
  "metadata": {
    "accelerator": "GPU",
    "colab": {
      "collapsed_sections": [
        "kBvPl_VJ4heA",
        "rErnbTMGcH9E",
        "JHObJGPW4o_A"
      ],
      "gpuType": "T4",
      "provenance": [],
      "toc_visible": true
    },
    "kernelspec": {
      "display_name": ".venv",
      "language": "python",
      "name": "python3"
    },
    "language_info": {
      "codemirror_mode": {
        "name": "ipython",
        "version": 3
      },
      "file_extension": ".py",
      "mimetype": "text/x-python",
      "name": "python",
      "nbconvert_exporter": "python",
      "pygments_lexer": "ipython3",
      "version": "3.10.0"
    }
  },
  "nbformat": 4,
  "nbformat_minor": 0
}

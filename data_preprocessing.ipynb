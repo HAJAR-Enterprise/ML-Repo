{
  "nbformat": 4,
  "nbformat_minor": 0,
  "metadata": {
    "colab": {
      "provenance": []
    },
    "kernelspec": {
      "name": "python3",
      "display_name": "Python 3"
    },
    "language_info": {
      "name": "python"
    }
  },
  "cells": [
    {
      "cell_type": "markdown",
      "source": [
        "# Import Library yang dibutuhkan"
      ],
      "metadata": {
        "id": "qDAbhiVglrAf"
      }
    },
    {
      "cell_type": "code",
      "source": [
        "!pip install emoji\n",
        "\n",
        "import pandas as pd\n",
        "import re\n",
        "import emoji\n",
        "import unicodedata\n",
        "import matplotlib.pyplot as plt\n",
        "from typing import List, Optional\n",
        "from google.colab import drive"
      ],
      "metadata": {
        "colab": {
          "base_uri": "https://localhost:8080/"
        },
        "id": "nYuQkqxUlyAu",
        "outputId": "5d39634d-8184-4091-977c-d37f00c9fa5d"
      },
      "execution_count": 1,
      "outputs": [
        {
          "output_type": "stream",
          "name": "stdout",
          "text": [
            "Requirement already satisfied: emoji in /usr/local/lib/python3.11/dist-packages (2.14.1)\n"
          ]
        }
      ]
    },
    {
      "cell_type": "markdown",
      "source": [
        "# Mount Google Drive (for Colab)"
      ],
      "metadata": {
        "id": "LLPBuqJKo9md"
      }
    },
    {
      "cell_type": "code",
      "source": [
        "drive.mount('/content/drive')"
      ],
      "metadata": {
        "colab": {
          "base_uri": "https://localhost:8080/"
        },
        "id": "jc12zpnQo5mj",
        "outputId": "8588168e-2536-401c-a911-73e37fd441ba"
      },
      "execution_count": 2,
      "outputs": [
        {
          "output_type": "stream",
          "name": "stdout",
          "text": [
            "Drive already mounted at /content/drive; to attempt to forcibly remount, call drive.mount(\"/content/drive\", force_remount=True).\n"
          ]
        }
      ]
    },
    {
      "cell_type": "markdown",
      "source": [
        "# Definisikan Kelas Textpreprocessor"
      ],
      "metadata": {
        "id": "AkGZ0KM5pFQs"
      }
    },
    {
      "cell_type": "code",
      "source": [
        "class TextPreprocessor:\n",
        "    \"\"\"Class to handle text preprocessing operations.\"\"\"\n",
        "\n",
        "    def __init__(self):\n",
        "        self.slang_dict = self._load_slang_dictionary()\n",
        "        print(f\"TextPreprocessor initialized with {len(self.slang_dict)} slang words\")\n",
        "\n",
        "    def _load_slang_dictionary(self) -> dict:\n",
        "        \"\"\"Load Indonesian slang words dictionary.\"\"\"\n",
        "        return {\n",
        "            \"gk\": \"tidak\", \"gak\": \"tidak\", \"g\": \"tidak\", \"tdk\": \"tidak\", \"ga\": \"tidak\",\n",
        "            \"nggak\": \"tidak\", \"enggak\": \"tidak\", \"gpp\": \"tidak apa-apa\",\n",
        "            \"gakpapa\": \"tidak apa-apa\", \"tp\": \"tapi\", \"tapi\": \"tetapi\",\n",
        "            \"kl\": \"kalau\", \"klw\": \"kalau\", \"kalo\": \"kalau\", \"klo\": \"kalau\",\n",
        "            \"krn\": \"karena\", \"karena\": \"sebab\", \"jd\": \"jadi\", \"sdh\": \"sudah\",\n",
        "            \"udh\": \"sudah\", \"udah\": \"sudah\", \"dl\": \"dulu\",\n",
        "            \"sm\": \"sama\", \"sama\": \"dengan\", \"dg\": \"dengan\", \"dr\": \"dari\",\n",
        "            \"utk\": \"untuk\", \"yg\": \"yang\", \"jg\": \"juga\", \"d\": \"di\",\n",
        "            \"dll\": \"dan lain-lain\", \"dst\": \"dan seterusnya\", \"ttp\": \"tetap\",\n",
        "            \"tsb\": \"tersebut\", \"dlm\": \"dalam\", \"pdhl\": \"padahal\",\n",
        "            \"mrk\": \"mereka\", \"sy\": \"saya\", \"gw\": \"saya\", \"gue\": \"saya\",\n",
        "            \"gua\": \"saya\", \"w\": \"saya\", \"gwe\": \"saya\", \"km\": \"kamu\",\n",
        "            \"lu\": \"kamu\", \"lo\": \"kamu\", \"q\": \"aku\", \"ak\": \"aku\",\n",
        "            \"aq\": \"aku\", \"elo\": \"kamu\", \"elu\": \"kamu\", \"loe\": \"kamu\",\n",
        "            \"mnrt\": \"menurut\", \"spt\": \"seperti\", \"bener\": \"benar\", \"kok\": \"mengapa\",\n",
        "            \"lg\": \"lagi\", \"bgt\": \"banget\", \"banget\": \"sekali\", \"cm\": \"cuma\",\n",
        "            \"cuman\": \"cuma\", \"emg\": \"memang\", \"emng\": \"memang\",\n",
        "            \"bs\": \"bisa\", \"bsa\": \"bisa\", \"sabi\": \"bisa\",\n",
        "            \"bikin\": \"membuat\", \"ksih\": \"kasih\", \"ksh\": \"kasih\",\n",
        "            \"jgn\": \"jangan\", \"jngn\": \"jangan\",\n",
        "            \"biar\": \"agar\", \"supaya\": \"agar\",\n",
        "            \"anjay\": \"astaga\", \"anjir\": \"astaga\", \"anjrit\": \"astaga\",\n",
        "            \"wkwk\": \"haha\", \"wkwkwk\": \"haha\", \"wk\": \"haha\", \"lol\": \"haha\",\n",
        "            \"ngakak\": \"tertawa\", \"santuy\": \"santai\", \"woles\": \"santai\", \"mager\": \"malas\",\n",
        "            \"gabut\": \"tidak ada kerjaan\", \"baper\": \"terbawa perasaan\",\n",
        "            \"kepo\": \"penasaran\", \"julid\": \"iri\", \"gibah\": \"bergosip\",\n",
        "            \"panik\": \"takut\", \"cape\": \"capek\", \"capekkk\": \"capek\",\n",
        "            \"pusinggg\": \"pusing\", \"skuy\": \"ayo\", \"gas\": \"ayo\", \"gaskeun\": \"ayo\",\n",
        "            \"mantul\": \"bagus\", \"uhuy\": \"mantap\", \"mantab\": \"mantap\",\n",
        "            \"kocak\": \"lucu\", \"ngeri\": \"hebat\", \"goks\": \"hebat\",\n",
        "            \"pecah\": \"seru\", \"smg\": \"semoga\",\n",
        "            \"receh\": \"tidak penting\", \"lebay\": \"berlebihan\", \"php\": \"pemberi harapan palsu\",\n",
        "            \"auto\": \"langsung\", \"halu\": \"berkhayal\",\n",
        "            \"ngab\": \"teman\", \"cuy\": \"teman\", \"ngabers\": \"remaja pria\",\n",
        "            \"bro\": \"saudara\", \"sis\": \"kakak\", \"tmn\": \"teman\",\n",
        "            \"tmn2\": \"teman-teman\", \"bocil\": \"anak kecil\", \"org\": \"orang\",\n",
        "            \"bang\": \"kakak\", \"bg\": \"kakak\", \"bng\": \"kakak\", \"kak\": \"kakak\",\n",
        "            \"min\": \"minimal\", \"jp\": \"jackpot\", \"jepe\": \"jackpot\", \"jepey\": \"jackpot\",\n",
        "            \"bonus\": \"hadiah\", \"depo\": \"deposit\", \"wd\": \"withdraw\",\n",
        "            \"bet\": \"banget\", \"gmpng\": \"mudah\", \"gampang\": \"mudah\",\n",
        "            \"win\": \"menang\", \"modal\": \"uang\", \"betting\": \"taruhan\",\n",
        "            \"slot\": \"permainan judi\", \"event\": \"acara\", \"promo\": \"promosi\",\n",
        "            \"gacr\": \"gacor\", \"gcr\": \"gacor\",\n",
        "            \"mekswin\": \"maxwin\", \"gacir\": \"gacor\", \"y\": \"ya\", \"kn\": \"kan\", \"cs\" : \"dan kawan kawan\",\n",
        "            \"dri\": \"dari\", \"msk\": \"masuk\", \"thn\": \"tahun\", \"th\": \"tahun\", \"korup\": \"korupsi\",\n",
        "            \"ortu\": \"orang tua\", \"jekpot\": \"jackpot\", \"ny\": \"nya\", \"mmg\": \"memang\", \"klihatan\": \"terlihat\",\n",
        "            \"keliatan\": \"terlihat\", \"demen\": \"suka\", \"kayak\": \"seperti\", \"dah\": \"sudah\", \"knp\": \"kenapa\",\n",
        "            \"wtf\": \"astaga\", \"sosmed\": \"sosial media\", \"gaspol\": \"ayo\", \"maen\": \"main\",\n",
        "            \"judol\": \"judi online\", \"smpe\": \"sampai\", \"sampe\": \"sampai\", \"nyampe\": \"sampai\",\n",
        "            \"pinjol\": \"pinjaman online\", \"ntar\": \"nanti\", \"nnti\": \"nanti\", \"nti\": \"nanti\",\n",
        "            \"gini\": \"seperti ini\", \"gni\": \"seperti ini\", \"begini\": \"seperti ini\", \"bpk\": \"bapak\",\n",
        "            \"bp\": \"bapak\", \"tilep\": \"mengambil\", \"mirip\": \"seperti\", \"mrp\": \"seperti\", \"drpd\": \"daripada\",\n",
        "            \"thdp\": \"terhadap\", \"jga\": \"juga\", \"mngkin\": \"mungkin\", \"ap\": \"apa\", \"bkl\": \"akan\",\n",
        "            \"bakal\": \"akan\", \"mna\": \"dimana\", \"mn\": \"dimana\", \"mana\": \"dimana\", \"cilik\": \"kecil\",\n",
        "            \"pny\": \"punya\", \"wong\": \"orang\", \"msh\": \"masih\", \"sj\": \"saja\", \"pk\": \"bapak\", \"dn\": \"dan\"\n",
        "        }\n",
        "\n",
        "    def normalize_unicode_to_ascii(self, text: str) -> str:\n",
        "        \"\"\"Convert Unicode characters to their closest ASCII representation.\"\"\"\n",
        "        if not isinstance(text, str):\n",
        "            return text\n",
        "        return unicodedata.normalize('NFKD', text).encode('ascii', 'ignore').decode('utf-8', 'ignore')\n",
        "\n",
        "    def replace_slang(self, text: str) -> str:\n",
        "        \"\"\"Replace Indonesian slang words with their formal equivalents.\"\"\"\n",
        "        if not isinstance(text, str):\n",
        "            return text\n",
        "\n",
        "        words = text.split()\n",
        "        new_words = [self.slang_dict.get(word.lower(), word) for word in words]\n",
        "        return ' '.join(new_words)\n",
        "\n",
        "    def clean_text(self, text: str) -> str:\n",
        "        \"\"\"Clean and normalize text by removing unwanted characters and formatting.\"\"\"\n",
        "        if not isinstance(text, str):\n",
        "            return \"\"\n",
        "\n",
        "        # Convert to lowercase\n",
        "        text = text.lower()\n",
        "\n",
        "        # Handle emojis\n",
        "        text = emoji.demojize(text)  # Convert emoji to text :emoji_name:\n",
        "        text = re.sub(r':[a-zA-Z_]+:', ' ', text)  # Remove :emoji_name:\n",
        "\n",
        "        # Remove standalone numbers but keep numbers attached to words\n",
        "        text = re.sub(r'\\b\\d+\\b', '', text)\n",
        "\n",
        "        # Remove non-alphanumeric characters except spaces\n",
        "        text = re.sub(r'[^a-zA-Z0-9\\s]', ' ', text)\n",
        "\n",
        "        # Remove extra whitespace\n",
        "        text = re.sub(r'\\s+', ' ', text).strip()\n",
        "\n",
        "        return text\n",
        "\n",
        "    def preprocess_text(self, text: str) -> str:\n",
        "        \"\"\"Apply complete text preprocessing pipeline.\"\"\"\n",
        "        text = self.normalize_unicode_to_ascii(text)\n",
        "        text = self.replace_slang(text)\n",
        "        text = self.clean_text(text)\n",
        "        return text"
      ],
      "metadata": {
        "id": "CrNi5eUrpCRi"
      },
      "execution_count": 3,
      "outputs": []
    },
    {
      "cell_type": "markdown",
      "source": [
        "# Definisikan Kelas GamblingLabelProcessor"
      ],
      "metadata": {
        "id": "5Yy3LLXZqtlj"
      }
    },
    {
      "cell_type": "code",
      "source": [
        "class GamblingLabelProcessor:\n",
        "    \"\"\"Class to handle gambling content labeling.\"\"\"\n",
        "\n",
        "    def __init__(self):\n",
        "        self.gambling_keywords = self._load_gambling_keywords()\n",
        "        print(f\"GamblingLabelProcessor initialized with {len(self.gambling_keywords)} keywords\")\n",
        "\n",
        "    def _load_gambling_keywords(self) -> List[str]:\n",
        "        \"\"\"Load gambling-related keywords for detection.\"\"\"\n",
        "        return [\n",
        "            'gacor', 'g4cor', 'jepe', 'jp', 'jackpot', 'bonus', 'b0nus',\n",
        "            'menang', 'm3nang', 'menang terus', 'spin', 'free spin', 'auto win',\n",
        "            'maxwin', 'big win', 'winrate', 'win terus', 'jp terus',\n",
        "            'cuan', 'cu4n', 'wd', 'withdraw', 'depo', 'deposit', 'withdrawal',\n",
        "            'saldo', 'modal', 'modal receh', 'turnover', 'rollingan', 'komisi',\n",
        "            'sl0t', 'slot', 'slot online', 'game slot', 'slot terpercaya',\n",
        "            'slot terbaru', 'slot maxwin', 'slot pragmatic', 'slot demo',\n",
        "            'slot terbaru hari ini', 'slot tergacor', 'slot terbaik',\n",
        "            'slot mudah menang', 'slot hari ini', 'slot online terpercaya',\n",
        "            'live casino', 'casino', 'toto', 'togel',\n",
        "            'judi', 'bet', 'betting', 'bandar', 'pola', 'rtp tinggi', 'rtp slot',\n",
        "            'klaim', 'hoki', 'daftar sekarang', 'join sekarang', 'link alternatif',\n",
        "            'login disini', 'klik disini', 'claim sekarang', 'main disini',\n",
        "            'langsung gas', 'pr0m0', 'promo', 'promo deposit', 'promosi slot',\n",
        "            'event', 'event harian', 'event mingguan', 'event slot',\n",
        "            'spin gratis', 'tembus', 'cuan terus',\n",
        "            'deposit via dana', 'via gopay', 'via ovo', 'via pulsa',\n",
        "            'pr0be855', 'dora77', 'weton88', 'pulauwin', '25kbet', 'alexis17',\n",
        "            'alexis', 'berkah99', 'aero88', 'sgi88', 'pluto88', 'garudahoki',\n",
        "            'mona4d', 'berlian', 'btv', 'xuxu4d', 'pstoto99', 'gunungwin',\n",
        "            'ayamwin', 'pulau777', 'zeus', 'kusumat0t0', 'dora', 'supermoney88',\n",
        "            'link slot', 'link gacor', 'situs', 'situs terpercaya', 'pecahan', 'toto328',\n",
        "            'victory007', 'hoki777', 'pawpaw4d', 'a l e x i s', 'd o r a', 'manjurbet', '5unsur2',\n",
        "            'radar138', 'kyt4d', 'pokerbola', 'paludewa919', 'thor311', 'koreo138', 'indo911',\n",
        "            'sugus4d', 'miya88', 'suhu328', 'yuk88', 'axl777', 'king328', 'asiagenting'\n",
        "        ]\n",
        "\n",
        "    def is_gambling_comment(self, comment: str) -> int:\n",
        "        \"\"\"\n",
        "        Check if a comment contains gambling-related content.\n",
        "\n",
        "        Args:\n",
        "            comment: Processed comment text\n",
        "\n",
        "        Returns:\n",
        "            1 if gambling content detected, 0 otherwise\n",
        "        \"\"\"\n",
        "        if not isinstance(comment, str):\n",
        "            return 0\n",
        "\n",
        "        words = comment.lower().split()\n",
        "        return 1 if any(keyword in words for keyword in self.gambling_keywords) else 0\n",
        "\n",
        "    def get_detected_keywords(self, comment: str) -> List[str]:\n",
        "        \"\"\"Get list of gambling keywords detected in a comment.\"\"\"\n",
        "        if not isinstance(comment, str):\n",
        "            return []\n",
        "\n",
        "        words = comment.lower().split()\n",
        "        detected = [keyword for keyword in self.gambling_keywords if keyword in words]\n",
        "        return detected"
      ],
      "metadata": {
        "id": "mP6I1ObApoRd"
      },
      "execution_count": 4,
      "outputs": []
    },
    {
      "cell_type": "markdown",
      "source": [
        "## Inisialisasi Kelas"
      ],
      "metadata": {
        "id": "vRISWc5Kq5lk"
      }
    },
    {
      "cell_type": "code",
      "source": [
        "# Initialize the processors\n",
        "text_processor = TextPreprocessor()\n",
        "label_processor = GamblingLabelProcessor()"
      ],
      "metadata": {
        "colab": {
          "base_uri": "https://localhost:8080/"
        },
        "id": "mTk8p-d-q3M2",
        "outputId": "f48db199-3b43-4cdf-ca71-093a362f0d71"
      },
      "execution_count": 5,
      "outputs": [
        {
          "output_type": "stream",
          "name": "stdout",
          "text": [
            "TextPreprocessor initialized with 197 slang words\n",
            "GamblingLabelProcessor initialized with 133 keywords\n"
          ]
        }
      ]
    },
    {
      "cell_type": "markdown",
      "source": [
        "# Data Loading"
      ],
      "metadata": {
        "id": "kB2S3AKeq98i"
      }
    },
    {
      "cell_type": "code",
      "source": [
        "# Define url\n",
        "github_urls = [\n",
        "    \"https://raw.githubusercontent.com/HAJAR-Enterprise/ML-Repo/refs/heads/main/Datasets/komentar_judi.csv\",\n",
        "    \"https://raw.githubusercontent.com/HAJAR-Enterprise/ML-Repo/refs/heads/main/Datasets/komentar_youtube_1.csv\",\n",
        "    \"https://raw.githubusercontent.com/HAJAR-Enterprise/ML-Repo/refs/heads/main/Datasets/komentar_youtube_2.csv\"\n",
        "]\n",
        "\n",
        "# Load datasets\n",
        "dataframes = []\n",
        "for url in github_urls:\n",
        "    try:\n",
        "        df = pd.read_csv(url)\n",
        "        dataframes.append(df)\n",
        "        print(f\"Loaded {url}: {len(df)} rows\")\n",
        "        print(f\"Columns: {list(df.columns)}\\n\")\n",
        "    except Exception as e:\n",
        "        print(f\"Error loading {url}: {str(e)}\")\n",
        "\n",
        "# Combine datasets\n",
        "if dataframes:\n",
        "    df_combined = pd.concat(dataframes, ignore_index=True)\n",
        "    print(f\"\\n✅ Combined dataset shape: {df_combined.shape}\")\n",
        "    print(f\"   Columns: {list(df_combined.columns)}\")\n",
        "else:\n",
        "    raise ValueError(\"No datasets were successfully loaded\")"
      ],
      "metadata": {
        "colab": {
          "base_uri": "https://localhost:8080/"
        },
        "id": "GA7fAjlfq7wN",
        "outputId": "0764a1b4-3c7d-460a-ee36-11c84783b209"
      },
      "execution_count": 6,
      "outputs": [
        {
          "output_type": "stream",
          "name": "stdout",
          "text": [
            "Loaded https://raw.githubusercontent.com/HAJAR-Enterprise/ML-Repo/refs/heads/main/Datasets/komentar_judi.csv: 3802 rows\n",
            "Columns: ['author', 'comment']\n",
            "\n",
            "Loaded https://raw.githubusercontent.com/HAJAR-Enterprise/ML-Repo/refs/heads/main/Datasets/komentar_youtube_1.csv: 8033 rows\n",
            "Columns: ['author', 'comment']\n",
            "\n",
            "Loaded https://raw.githubusercontent.com/HAJAR-Enterprise/ML-Repo/refs/heads/main/Datasets/komentar_youtube_2.csv: 4312 rows\n",
            "Columns: ['author', 'comment']\n",
            "\n",
            "\n",
            "✅ Combined dataset shape: (16147, 2)\n",
            "   Columns: ['author', 'comment']\n"
          ]
        }
      ]
    },
    {
      "cell_type": "markdown",
      "source": [
        "## Informasi Umum dataset\n"
      ],
      "metadata": {
        "id": "EXyLkcdtrOLt"
      }
    },
    {
      "cell_type": "code",
      "source": [
        "print(f\"Total rows: {len(df_combined)}\")\n",
        "print(f\"Total columns: {len(df_combined.columns)}\")\n",
        "print(\"\\nDataset Info:\")\n",
        "df_combined.info()\n",
        "\n",
        "print(\"\\nSample Data:\")\n",
        "print(df_combined.head())\n",
        "\n",
        "print(\"\\nMissing Values:\")\n",
        "missing_values = df_combined.isnull().sum()\n",
        "print(missing_values)"
      ],
      "metadata": {
        "colab": {
          "base_uri": "https://localhost:8080/"
        },
        "id": "d4uLDuPWrHMv",
        "outputId": "a8080bd1-55c9-4c30-9a66-fb063c73cb9a"
      },
      "execution_count": 7,
      "outputs": [
        {
          "output_type": "stream",
          "name": "stdout",
          "text": [
            "Total rows: 16147\n",
            "Total columns: 2\n",
            "\n",
            "Dataset Info:\n",
            "<class 'pandas.core.frame.DataFrame'>\n",
            "RangeIndex: 16147 entries, 0 to 16146\n",
            "Data columns (total 2 columns):\n",
            " #   Column   Non-Null Count  Dtype \n",
            "---  ------   --------------  ----- \n",
            " 0   author   16146 non-null  object\n",
            " 1   comment  16146 non-null  object\n",
            "dtypes: object(2)\n",
            "memory usage: 252.4+ KB\n",
            "\n",
            "Sample Data:\n",
            "                author                                            comment\n",
            "0     @AndiMarlina-s6e  ALEXIS-☯17☯ emang ga main-main soal keamanan d...\n",
            "1     @RudiLestari-c9r  ALEXIS-☯17☯ emang ga pernah bikin kecewa, with...\n",
            "2    @NurAnggraini-x3i  ALEXIS-☯17☯ emang ga pernah bikin kecewa, with...\n",
            "3    @IrwanSanjaya-e3w  ALEXIS-☯17☯ tuh emang udah jadi penghasilan ut...\n",
            "4  @AnisaOktaviani-d8v  mau tau cara daftar ALEXIS-☯17☯ yang bener? ce...\n",
            "\n",
            "Missing Values:\n",
            "author     1\n",
            "comment    1\n",
            "dtype: int64\n"
          ]
        }
      ]
    },
    {
      "cell_type": "markdown",
      "source": [
        "# Preprocessing"
      ],
      "metadata": {
        "id": "KtfBgA2MrW8h"
      }
    },
    {
      "cell_type": "markdown",
      "source": [
        "## Cleaning Data"
      ],
      "metadata": {
        "id": "Itx8Xc0LM7jt"
      }
    },
    {
      "cell_type": "code",
      "source": [
        "initial_count = len(df_combined)\n",
        "print(f\"Initial count: {initial_count}\")\n",
        "\n",
        "# Remove comments with only one word\n",
        "df_combined = df_combined[df_combined['comment'].str.split().str.len() > 1]\n",
        "after_single_word = len(df_combined)\n",
        "print(f\"After removing single-word comments: {after_single_word} (removed: {initial_count - after_single_word})\")\n",
        "\n",
        "# Remove rows with missing values\n",
        "df_combined = df_combined.dropna()\n",
        "final_count = len(df_combined)\n",
        "print(f\"After removing missing values: {final_count} (removed: {after_single_word - final_count})\")\n",
        "\n",
        "print(f\"   Final shape: {df_combined.shape}\")"
      ],
      "metadata": {
        "colab": {
          "base_uri": "https://localhost:8080/"
        },
        "id": "4OCcbWIxrRqj",
        "outputId": "fcb14276-df2d-4f51-cae7-1774cd247c4e"
      },
      "execution_count": 8,
      "outputs": [
        {
          "output_type": "stream",
          "name": "stdout",
          "text": [
            "Initial count: 16147\n",
            "After removing single-word comments: 15878 (removed: 269)\n",
            "After removing missing values: 15877 (removed: 1)\n",
            "   Final shape: (15877, 2)\n"
          ]
        }
      ]
    },
    {
      "cell_type": "markdown",
      "source": [
        "## Lakukan Processing data menggunakan fungsi dari kelas yang sudah dibuat"
      ],
      "metadata": {
        "id": "FQ0Z3BoZrgxJ"
      }
    },
    {
      "cell_type": "code",
      "source": [
        "# Apply preprocessing pipeline\n",
        "print(\"1. Normalizing Unicode to ASCII...\")\n",
        "df_combined['normalized_comment'] = df_combined['comment'].apply(text_processor.normalize_unicode_to_ascii)\n",
        "\n",
        "print(\"2. Replacing slang words...\")\n",
        "df_combined['normalized_comment'] = df_combined['normalized_comment'].apply(text_processor.replace_slang)\n",
        "\n",
        "print(\"3. Cleaning text...\")\n",
        "df_combined['cleaned_comment'] = df_combined['normalized_comment'].apply(text_processor.clean_text)\n",
        "\n",
        "\n",
        "# Show examples of preprocessing\n",
        "sample_indices = df_combined.sample(5).index\n",
        "for idx in sample_indices:\n",
        "    print(f\"\\nOriginal: {df_combined.loc[idx, 'comment']}\")\n",
        "    print(f\"Cleaned:  {df_combined.loc[idx, 'cleaned_comment']}\")\n",
        "    print(\"-\" * 80)"
      ],
      "metadata": {
        "colab": {
          "base_uri": "https://localhost:8080/"
        },
        "id": "f0nOj5sprce3",
        "outputId": "df136a7f-6704-4a64-a321-3699e22a7ca1"
      },
      "execution_count": 9,
      "outputs": [
        {
          "output_type": "stream",
          "name": "stdout",
          "text": [
            "1. Normalizing Unicode to ASCII...\n",
            "2. Replacing slang words...\n",
            "3. Cleaning text...\n",
            "\n",
            "Original: udah ku report semua komen judol bang😊😊\n",
            "Cleaned:  sudah ku report semua komen judi online kakak\n",
            "--------------------------------------------------------------------------------\n",
            "\n",
            "Original: Pengen punya PC kayak alexis17, biar update game lancar jaya.\n",
            "Cleaned:  pengen punya pc seperti alexis17 agar update game lancar jaya\n",
            "--------------------------------------------------------------------------------\n",
            "\n",
            "Original: Menurut ALEXIS17, pelawak legendaris sekarang kurang bahan lucu. Wkwkwk!\n",
            "Cleaned:  menurut alexis17 pelawak legendaris sekarang kurang bahan lucu wkwkwk\n",
            "--------------------------------------------------------------------------------\n",
            "\n",
            "Original: Seharusnya si manusia silver tau diri klu ijazah dia TDK jelas. Kampus di ruko.\n",
            "Cleaned:  seharusnya si manusia silver tau diri klu ijazah dia tidak jelas kampus di ruko\n",
            "--------------------------------------------------------------------------------\n",
            "\n",
            "Original: _Yakin 100 persen para pembela Jokowi tahu bahwa ijazah Jokowi palsu, namun mereka bertugas dengan segala cara untuk membela Jokowi, baik melalui manipulasi maupun kebohongan, imbalan yang diberikan kepada mereka cukup besar._\n",
            "Cleaned:  yakin persen para pembela jokowi tahu bahwa ijazah jokowi palsu namun mereka bertugas dengan segala cara untuk membela jokowi baik melalui manipulasi maupun kebohongan imbalan yang diberikan kepada mereka cukup besar\n",
            "--------------------------------------------------------------------------------\n"
          ]
        }
      ]
    },
    {
      "cell_type": "markdown",
      "source": [
        "# Labeling"
      ],
      "metadata": {
        "id": "yvUdpQCtsu7O"
      }
    },
    {
      "cell_type": "code",
      "source": [
        "# Apply labeling\n",
        "df_combined['label'] = df_combined['cleaned_comment'].apply(label_processor.is_gambling_comment)"
      ],
      "metadata": {
        "id": "OiyA_Xb0r5Q2"
      },
      "execution_count": 10,
      "outputs": []
    },
    {
      "cell_type": "code",
      "source": [
        "sample_df = df_combined.sample(10)[['comment', 'cleaned_comment', 'label']]\n",
        "\n",
        "for _, row in sample_df.iterrows():\n",
        "    print(f\"Original: {row['comment']}\")\n",
        "    print(f\"Cleaned:  {row['cleaned_comment']}\")\n",
        "    print(f\"Label:    {row['label']} {'(Gambling)' if row['label'] == 1 else '(Not Gambling)'}\")\n",
        "\n",
        "    # Show detected keywords for gambling comments\n",
        "    if row['label'] == 1:\n",
        "        detected_keywords = label_processor.get_detected_keywords(row['cleaned_comment'])\n",
        "        print(f\"Keywords: {detected_keywords}\")\n",
        "\n",
        "    print(\"-\" * 80)"
      ],
      "metadata": {
        "colab": {
          "base_uri": "https://localhost:8080/"
        },
        "id": "40THhq3msyqk",
        "outputId": "2690b6f0-a3a4-49c3-c950-272d308dc16b"
      },
      "execution_count": 11,
      "outputs": [
        {
          "output_type": "stream",
          "name": "stdout",
          "text": [
            "Original: Silvester, silvester ilmu apa yg kau pakai. Noh dicari rocky gerung diajak tinju. 😂😅\n",
            "Cleaned:  silvester silvester ilmu apa yang kau pakai noh dicari rocky gerung diajak tinju\n",
            "Label:    0 (Not Gambling)\n",
            "--------------------------------------------------------------------------------\n",
            "Original: Jangan nyengar nyengir ci panci..\n",
            "Cleaned:  jangan nyengar nyengir ci panci\n",
            "Label:    0 (Not Gambling)\n",
            "--------------------------------------------------------------------------------\n",
            "Original: Bodoh kali kau Silvester,bilang pak Roy menuduh ijazah palsu pak jkwe TDK ada bukti. Walahwalah. Memanglah. Dari batinmu kau membohongi dirimu sendiri. Aku yakin dalam dirimu mengakuinya palsu,cuma demi ....... Orang umum mengetahui itu dr gerakgerikmu.\n",
            "Cleaned:  bodoh kali kau silvester bilang pak roy menuduh ijazah palsu pak jkwe tidak ada bukti walahwalah memanglah dari batinmu kau membohongi dirimu sendiri aku yakin dalam dirimu mengakuinya palsu cuma demi orang umum mengetahui itu dari gerakgerikmu\n",
            "Label:    0 (Not Gambling)\n",
            "--------------------------------------------------------------------------------\n",
            "Original: Itu orang orang sakit jiwa dan sdh gila Roy dan rismpn gilaaaa\n",
            "Cleaned:  itu orang orang sakit jiwa dan sudah gila roy dan rismpn gilaaaa\n",
            "Label:    0 (Not Gambling)\n",
            "--------------------------------------------------------------------------------\n",
            "Original: Si rismon cari panggung cari sensasi, ahli Abal abal\n",
            "Cleaned:  si rismon cari panggung cari sensasi ahli abal abal\n",
            "Label:    0 (Not Gambling)\n",
            "--------------------------------------------------------------------------------\n",
            "Original: Roy KWI koyo cwek\n",
            "Cleaned:  roy kwi koyo cwek\n",
            "Label:    0 (Not Gambling)\n",
            "--------------------------------------------------------------------------------\n",
            "Original: Gak perlu skill khusus buat sukses di ALEXIS⭐17⭐.\n",
            "Cleaned:  tidak perlu skill khusus buat sukses di alexis17\n",
            "Label:    1 (Gambling)\n",
            "Keywords: ['alexis17']\n",
            "--------------------------------------------------------------------------------\n",
            "Original: Gokil sih prediksinya, kayaknya abis ini angka keluar beneran!\n",
            "Cleaned:  gokil sih prediksinya kayaknya abis ini angka keluar beneran\n",
            "Label:    0 (Not Gambling)\n",
            "--------------------------------------------------------------------------------\n",
            "Original: Kepruk Cocote !! , yg tidak menghargai hukum jangan dihargai.\n",
            "Roy Debat warkop muter2 kayak kentut\n",
            "Cleaned:  kepruk cocote yang tidak menghargai hukum jangan dihargai roy debat warkop muter2 seperti kentut\n",
            "Label:    0 (Not Gambling)\n",
            "--------------------------------------------------------------------------------\n",
            "Original: 09:10 muncul ̠✌ 𝐏𝐑0𝐁𝐄𐊗⭐𝟴𝟱𝟱 ✌】\n",
            "Cleaned:  muncul pr0be855\n",
            "Label:    1 (Gambling)\n",
            "Keywords: ['pr0be855']\n",
            "--------------------------------------------------------------------------------\n"
          ]
        }
      ]
    },
    {
      "cell_type": "markdown",
      "source": [
        "# Analisis Hasil"
      ],
      "metadata": {
        "id": "AbGacpu6t0MZ"
      }
    },
    {
      "cell_type": "code",
      "source": [
        "# Label distribution\n",
        "label_counts = df_combined['label'].value_counts().sort_index()\n",
        "print(\"\\nLabel Distribution:\")\n",
        "for label, count in label_counts.items():\n",
        "    label_name = \"Not Gambling\" if label == 0 else \"Gambling\"\n",
        "    percentage = (count / len(df_combined)) * 100\n",
        "    print(f\"  {label} ({label_name}): {count:,} comments ({percentage:.2f}%)\")\n",
        "\n",
        "# Statistical summary\n",
        "print(f\"\\nStatistical Summary:\")\n",
        "print(f\"  Total comments: {len(df_combined):,}\")\n",
        "print(f\"  Gambling comments: {label_counts.get(1, 0):,}\")\n",
        "print(f\"  Non-gambling comments: {label_counts.get(0, 0):,}\")\n",
        "print(f\"  Gambling ratio: {(label_counts.get(1, 0) / len(df_combined)) * 100:.2f}%\")\n"
      ],
      "metadata": {
        "colab": {
          "base_uri": "https://localhost:8080/"
        },
        "id": "pJo1jCP4s1pa",
        "outputId": "6368a28b-df48-4092-b763-15ef5c2bc2fe"
      },
      "execution_count": 12,
      "outputs": [
        {
          "output_type": "stream",
          "name": "stdout",
          "text": [
            "\n",
            "Label Distribution:\n",
            "  0 (Not Gambling): 8,695 comments (54.76%)\n",
            "  1 (Gambling): 7,182 comments (45.24%)\n",
            "\n",
            "Statistical Summary:\n",
            "  Total comments: 15,877\n",
            "  Gambling comments: 7,182\n",
            "  Non-gambling comments: 8,695\n",
            "  Gambling ratio: 45.24%\n"
          ]
        }
      ]
    },
    {
      "cell_type": "markdown",
      "source": [
        "# Visualisasikan Hasilnya"
      ],
      "metadata": {
        "id": "YPtDewK_t5Vf"
      }
    },
    {
      "cell_type": "code",
      "source": [
        "# Create visualization\n",
        "plt.figure(figsize=(10, 6))\n",
        "\n",
        "# Bar plot\n",
        "bars = plt.bar(range(len(label_counts)), label_counts.values,\n",
        "               color=['skyblue', 'salmon'], alpha=0.8, edgecolor='black', linewidth=1)\n",
        "\n",
        "# Customize plot\n",
        "plt.title('Distribution of Comment Labels', fontsize=16, fontweight='bold', pad=20)\n",
        "plt.xlabel('Label', fontsize=12)\n",
        "plt.ylabel('Number of Comments', fontsize=12)\n",
        "plt.xticks(range(len(label_counts)),\n",
        "           [f'{label}\\n({\"Not Gambling\" if label == 0 else \"Gambling\"})'\n",
        "            for label in label_counts.index])\n",
        "\n",
        "# Add value labels on bars\n",
        "for i, (bar, count) in enumerate(zip(bars, label_counts.values)):\n",
        "    height = bar.get_height()\n",
        "    plt.text(bar.get_x() + bar.get_width()/2., height + len(df_combined) * 0.01,\n",
        "             f'{count:,}\\n({(count/len(df_combined)*100):.1f}%)',\n",
        "             ha='center', va='bottom', fontweight='bold')\n",
        "\n",
        "plt.grid(axis='y', alpha=0.3)\n",
        "plt.tight_layout()\n",
        "plt.show()"
      ],
      "metadata": {
        "colab": {
          "base_uri": "https://localhost:8080/",
          "height": 607
        },
        "id": "4CuUI43Yt2fP",
        "outputId": "ebf57fa0-9bd2-4e47-9723-2a5d098d6595"
      },
      "execution_count": 13,
      "outputs": [
        {
          "output_type": "display_data",
          "data": {
            "text/plain": [
              "<Figure size 1000x600 with 1 Axes>"
            ],
            "image/png": "[encoded data removed]"
          },
          "metadata": {}
        }
      ]
    },
    {
      "cell_type": "markdown",
      "source": [
        "# Analisis Sample"
      ],
      "metadata": {
        "id": "2OtSBfowuCML"
      }
    },
    {
      "cell_type": "code",
      "source": [
        "# Show samples of each label\n",
        "for label in [0, 1]:\n",
        "    label_name = \"NOT GAMBLING\" if label == 0 else \"GAMBLING\"\n",
        "    sample_comments = df_combined[df_combined['label'] == label].sample(min(5, len(df_combined[df_combined['label'] == label])))\n",
        "\n",
        "    print(f\"\\n{label_name} SAMPLES:\")\n",
        "    print(\"=\" * 50)\n",
        "\n",
        "    for _, row in sample_comments.iterrows():\n",
        "        print(f\"Original: {row['comment']}\")\n",
        "        print(f\"Cleaned:  {row['cleaned_comment']}\")\n",
        "        if label == 1:\n",
        "            keywords = label_processor.get_detected_keywords(row['cleaned_comment'])\n",
        "            print(f\"Keywords: {keywords}\")\n",
        "        print(\"-\" * 40)"
      ],
      "metadata": {
        "colab": {
          "base_uri": "https://localhost:8080/"
        },
        "id": "wFkUau6it-a1",
        "outputId": "8015b07b-418d-40c6-82a6-2de93d8aa98d"
      },
      "execution_count": 14,
      "outputs": [
        {
          "output_type": "stream",
          "name": "stdout",
          "text": [
            "\n",
            "NOT GAMBLING SAMPLES:\n",
            "==================================================\n",
            "Original: Papua seharusnya diselesaikan dgn cara bijak secara diplomatika ,jgn mengorbankan jiwa untuk raga karna itu satu satu kesatuan jiwa raga ,papua adalah indonesia\n",
            "Cleaned:  papua seharusnya diselesaikan dgn cara bijak secara diplomatika jgn mengorbankan jiwa untuk raga karna itu satu satu kesatuan jiwa raga papua adalah indonesia\n",
            "----------------------------------------\n",
            "Original: Rismon ahli tai\n",
            "Cleaned:  rismon ahli tai\n",
            "----------------------------------------\n",
            "Original: Rismon & roy, sama\" Ribet, bodohnya sangat kelihatan\n",
            "Cleaned:  rismon roy sama ribet bodohnya sangat kelihatan\n",
            "----------------------------------------\n",
            "Original: Tapi memang benar menurut YouTube para tentara dan polisi di sana. Mereka lihat dan rekam sendiri keadaan yang sangat menyedihkan, sampai ikut bilang kenapa kodisi masyarakat, jalan, sarana sosial tidak cepat dibenahi - bahkan ikut mengkritik pemerintah daerah. Mereka juga ikut kasihan melihat kondisi masyarakat bawah, apalagi yang di pedalaman. Tonton saja sendiri YouTube mereka banyak.\n",
            "Cleaned:  tetapi memang benar menurut youtube para tentara dan polisi di sana mereka lihat dan rekam sendiri keadaan yang sangat menyedihkan sampai ikut bilang kenapa kodisi masyarakat jalan sarana sosial tidak cepat dibenahi bahkan ikut mengkritik pemerintah daerah mereka juga ikut kasihan melihat kondisi masyarakat bawah apalagi yang di pedalaman tonton saja sendiri youtube mereka banyak\n",
            "----------------------------------------\n",
            "Original: Cengar cengir\n",
            "Cleaned:  cengar cengir\n",
            "----------------------------------------\n",
            "\n",
            "GAMBLING SAMPLES:\n",
            "==================================================\n",
            "Original: 9:11  bang tadi jam segitu menang besar w di 🚩𝗦𝗚𝗜𝟴𝟴🚩\n",
            "Cleaned:  kakak tadi jam segitu menang besar saya di sgi88\n",
            "Keywords: ['menang', 'sgi88']\n",
            "----------------------------------------\n",
            "Original: ALEXIS17 lagi push rank skin gratisan, bantu doa gaes!\n",
            "Cleaned:  alexis17 lagi push rank skin gratisan bantu doa gaes\n",
            "Keywords: ['alexis17']\n",
            "----------------------------------------\n",
            "Original: Sempet coba yang lain tapi gak semanis di 🚩𝙎𝙂𝙄88🚩 ,sering ngasih wede bang coba deh cari aja di google\n",
            "Cleaned:  sempet coba yang lain tetapi tidak semanis di sgi88 sering ngasih wede kakak coba deh cari aja di google\n",
            "Keywords: ['sgi88']\n",
            "----------------------------------------\n",
            "Original: Hangout sama temen di taman kota, eh ketemu Alexis17.\n",
            "Cleaned:  hangout dengan temen di taman kota eh ketemu alexis17\n",
            "Keywords: ['alexis17']\n",
            "----------------------------------------\n",
            "Original: Gokil abis, di ALEXIS17 ada bonus cashback yang dibayar tanpa syarat apapun.\n",
            "Cleaned:  gokil abis di alexis17 ada hadiah cashback yang dibayar tanpa syarat apapun\n",
            "Keywords: ['alexis17']\n",
            "----------------------------------------\n"
          ]
        }
      ]
    },
    {
      "cell_type": "markdown",
      "source": [
        "# Simpan Hasil"
      ],
      "metadata": {
        "id": "vdYMMCtauJsR"
      }
    },
    {
      "cell_type": "markdown",
      "source": [
        "untuk dilakukan verifikasi labeling secara manual"
      ],
      "metadata": {
        "id": "Dl0lT7Z9UQLz"
      }
    },
    {
      "cell_type": "code",
      "source": [
        "# Define output path\n",
        "output_path = '/content/drive/MyDrive/Capstone/Dataset/labeled_comments.csv'\n",
        "\n",
        "try:\n",
        "    # Save the processed dataset\n",
        "    df_combined.to_csv(output_path, index=False)\n",
        "    print(f\"Dataset saved successfully to: {output_path}\")\n",
        "    print(f\"Saved {len(df_combined):,} labeled comments\")\n",
        "    print(f\"Columns saved: {list(df_combined.columns)}\")\n",
        "\n",
        "    # Verify the saved file\n",
        "    saved_df = pd.read_csv(output_path)\n",
        "    print(f\"Verification: Loaded {len(saved_df)} rows from saved file\")\n",
        "\n",
        "except Exception as e:\n",
        "    print(f\"Error saving file: {str(e)}\")"
      ],
      "metadata": {
        "id": "3HcYtRXfuEKG",
        "colab": {
          "base_uri": "https://localhost:8080/"
        },
        "outputId": "3e82fe02-c4ec-4d4c-ed9a-7e2df7c91cdb"
      },
      "execution_count": 16,
      "outputs": [
        {
          "output_type": "stream",
          "name": "stdout",
          "text": [
            "Dataset saved successfully to: /content/drive/MyDrive/Capstone/Dataset/labeled_comments.csv\n",
            "Saved 15,877 labeled comments\n",
            "Columns saved: ['author', 'comment', 'normalized_comment', 'cleaned_comment', 'label']\n",
            "Verification: Loaded 15877 rows from saved file\n"
          ]
        }
      ]
    },
    {
      "cell_type": "code",
      "source": [],
      "metadata": {
        "id": "HTg1cTnWVCba"
      },
      "execution_count": null,
      "outputs": []
    }
  ]
}
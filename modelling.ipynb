{
  "nbformat": 4,
  "nbformat_minor": 0,
  "metadata": {
    "colab": {
      "provenance": [],
      "gpuType": "T4"
    },
    "kernelspec": {
      "name": "python3",
      "display_name": "Python 3"
    },
    "language_info": {
      "name": "python"
    },
    "accelerator": "GPU",
    "widgets": {
      "application/vnd.jupyter.widget-state+json": {
        "3ef52d5a22654027af0ac13b9e7ac1d6": {
          "model_module": "@jupyter-widgets/controls",
          "model_name": "VBoxModel",
          "model_module_version": "1.5.0",
          "state": {
            "_dom_classes": [],
            "_model_module": "@jupyter-widgets/controls",
            "_model_module_version": "1.5.0",
            "_model_name": "VBoxModel",
            "_view_count": null,
            "_view_module": "@jupyter-widgets/controls",
            "_view_module_version": "1.5.0",
            "_view_name": "VBoxView",
            "box_style": "",
            "children": [],
            "layout": "IPY_MODEL_60239947ad1645c8ac1d3331097ae82b"
          }
        },
        "7454dd8f007c40e79130922eab56941d": {
          "model_module": "@jupyter-widgets/controls",
          "model_name": "HTMLModel",
          "model_module_version": "1.5.0",
          "state": {
            "_dom_classes": [],
            "_model_module": "@jupyter-widgets/controls",
            "_model_module_version": "1.5.0",
            "_model_name": "HTMLModel",
            "_view_count": null,
            "_view_module": "@jupyter-widgets/controls",
            "_view_module_version": "1.5.0",
            "_view_name": "HTMLView",
            "description": "",
            "description_tooltip": null,
            "layout": "IPY_MODEL_0ab72e406b704a97828f7343133e4266",
            "placeholder": "​",
            "style": "IPY_MODEL_e43a37bdb1fc4f8bb4b62b73916a72f0",
            "value": "<center> <img\nsrc=https://huggingface.co/front/assets/huggingface_logo-noborder.svg\nalt='Hugging Face'> <br> Copy a token from <a\nhref=\"https://huggingface.co/settings/tokens\" target=\"_blank\">your Hugging Face\ntokens page</a> and paste it below. <br> Immediately click login after copying\nyour token or it might be stored in plain text in this notebook file. </center>"
          }
        },
        "28a414f915224408a1fe7164bdcf154b": {
          "model_module": "@jupyter-widgets/controls",
          "model_name": "PasswordModel",
          "model_module_version": "1.5.0",
          "state": {
            "_dom_classes": [],
            "_model_module": "@jupyter-widgets/controls",
            "_model_module_version": "1.5.0",
            "_model_name": "PasswordModel",
            "_view_count": null,
            "_view_module": "@jupyter-widgets/controls",
            "_view_module_version": "1.5.0",
            "_view_name": "PasswordView",
            "continuous_update": true,
            "description": "Token:",
            "description_tooltip": null,
            "disabled": false,
            "layout": "IPY_MODEL_37b704e86abd4198a20e9b92182012dd",
            "placeholder": "​",
            "style": "IPY_MODEL_825227d764494f23b613760e5a7e8d52",
            "value": ""
          }
        },
        "764485acfd654a2da2ccb13a0994e040": {
          "model_module": "@jupyter-widgets/controls",
          "model_name": "CheckboxModel",
          "model_module_version": "1.5.0",
          "state": {
            "_dom_classes": [],
            "_model_module": "@jupyter-widgets/controls",
            "_model_module_version": "1.5.0",
            "_model_name": "CheckboxModel",
            "_view_count": null,
            "_view_module": "@jupyter-widgets/controls",
            "_view_module_version": "1.5.0",
            "_view_name": "CheckboxView",
            "description": "Add token as git credential?",
            "description_tooltip": null,
            "disabled": false,
            "indent": true,
            "layout": "IPY_MODEL_0a38ff94c2fa49a8bd40727dda5dfe7c",
            "style": "IPY_MODEL_ebbe4425d93c4dcf8f2cf40145fd845c",
            "value": true
          }
        },
        "68afe27fd101435f8ca54d5342a21873": {
          "model_module": "@jupyter-widgets/controls",
          "model_name": "ButtonModel",
          "model_module_version": "1.5.0",
          "state": {
            "_dom_classes": [],
            "_model_module": "@jupyter-widgets/controls",
            "_model_module_version": "1.5.0",
            "_model_name": "ButtonModel",
            "_view_count": null,
            "_view_module": "@jupyter-widgets/controls",
            "_view_module_version": "1.5.0",
            "_view_name": "ButtonView",
            "button_style": "",
            "description": "Login",
            "disabled": false,
            "icon": "",
            "layout": "IPY_MODEL_30f133a5c11a47fea2f1c868aefef792",
            "style": "IPY_MODEL_5be8e0ffe03c40a6a753c2e51d606b76",
            "tooltip": ""
          }
        },
        "c2354e56a995427ca0796fb317c7674e": {
          "model_module": "@jupyter-widgets/controls",
          "model_name": "HTMLModel",
          "model_module_version": "1.5.0",
          "state": {
            "_dom_classes": [],
            "_model_module": "@jupyter-widgets/controls",
            "_model_module_version": "1.5.0",
            "_model_name": "HTMLModel",
            "_view_count": null,
            "_view_module": "@jupyter-widgets/controls",
            "_view_module_version": "1.5.0",
            "_view_name": "HTMLView",
            "description": "",
            "description_tooltip": null,
            "layout": "IPY_MODEL_e385dbd2a62d40b1a9712d314c221b6a",
            "placeholder": "​",
            "style": "IPY_MODEL_e74e6bd198434aa4ac3520281ea96a28",
            "value": "\n<b>Pro Tip:</b> If you don't already have one, you can create a dedicated\n'notebooks' token with 'write' access, that you can then easily reuse for all\nnotebooks. </center>"
          }
        },
        "60239947ad1645c8ac1d3331097ae82b": {
          "model_module": "@jupyter-widgets/base",
          "model_name": "LayoutModel",
          "model_module_version": "1.2.0",
          "state": {
            "_model_module": "@jupyter-widgets/base",
            "_model_module_version": "1.2.0",
            "_model_name": "LayoutModel",
            "_view_count": null,
            "_view_module": "@jupyter-widgets/base",
            "_view_module_version": "1.2.0",
            "_view_name": "LayoutView",
            "align_content": null,
            "align_items": "center",
            "align_self": null,
            "border": null,
            "bottom": null,
            "display": "flex",
            "flex": null,
            "flex_flow": "column",
            "grid_area": null,
            "grid_auto_columns": null,
            "grid_auto_flow": null,
            "grid_auto_rows": null,
            "grid_column": null,
            "grid_gap": null,
            "grid_row": null,
            "grid_template_areas": null,
            "grid_template_columns": null,
            "grid_template_rows": null,
            "height": null,
            "justify_content": null,
            "justify_items": null,
            "left": null,
            "margin": null,
            "max_height": null,
            "max_width": null,
            "min_height": null,
            "min_width": null,
            "object_fit": null,
            "object_position": null,
            "order": null,
            "overflow": null,
            "overflow_x": null,
            "overflow_y": null,
            "padding": null,
            "right": null,
            "top": null,
            "visibility": null,
            "width": "50%"
          }
        },
        "0ab72e406b704a97828f7343133e4266": {
          "model_module": "@jupyter-widgets/base",
          "model_name": "LayoutModel",
          "model_module_version": "1.2.0",
          "state": {
            "_model_module": "@jupyter-widgets/base",
            "_model_module_version": "1.2.0",
            "_model_name": "LayoutModel",
            "_view_count": null,
            "_view_module": "@jupyter-widgets/base",
            "_view_module_version": "1.2.0",
            "_view_name": "LayoutView",
            "align_content": null,
            "align_items": null,
            "align_self": null,
            "border": null,
            "bottom": null,
            "display": null,
            "flex": null,
            "flex_flow": null,
            "grid_area": null,
            "grid_auto_columns": null,
            "grid_auto_flow": null,
            "grid_auto_rows": null,
            "grid_column": null,
            "grid_gap": null,
            "grid_row": null,
            "grid_template_areas": null,
            "grid_template_columns": null,
            "grid_template_rows": null,
            "height": null,
            "justify_content": null,
            "justify_items": null,
            "left": null,
            "margin": null,
            "max_height": null,
            "max_width": null,
            "min_height": null,
            "min_width": null,
            "object_fit": null,
            "object_position": null,
            "order": null,
            "overflow": null,
            "overflow_x": null,
            "overflow_y": null,
            "padding": null,
            "right": null,
            "top": null,
            "visibility": null,
            "width": null
          }
        },
        "e43a37bdb1fc4f8bb4b62b73916a72f0": {
          "model_module": "@jupyter-widgets/controls",
          "model_name": "DescriptionStyleModel",
          "model_module_version": "1.5.0",
          "state": {
            "_model_module": "@jupyter-widgets/controls",
            "_model_module_version": "1.5.0",
            "_model_name": "DescriptionStyleModel",
            "_view_count": null,
            "_view_module": "@jupyter-widgets/base",
            "_view_module_version": "1.2.0",
            "_view_name": "StyleView",
            "description_width": ""
          }
        },
        "37b704e86abd4198a20e9b92182012dd": {
          "model_module": "@jupyter-widgets/base",
          "model_name": "LayoutModel",
          "model_module_version": "1.2.0",
          "state": {
            "_model_module": "@jupyter-widgets/base",
            "_model_module_version": "1.2.0",
            "_model_name": "LayoutModel",
            "_view_count": null,
            "_view_module": "@jupyter-widgets/base",
            "_view_module_version": "1.2.0",
            "_view_name": "LayoutView",
            "align_content": null,
            "align_items": null,
            "align_self": null,
            "border": null,
            "bottom": null,
            "display": null,
            "flex": null,
            "flex_flow": null,
            "grid_area": null,
            "grid_auto_columns": null,
            "grid_auto_flow": null,
            "grid_auto_rows": null,
            "grid_column": null,
            "grid_gap": null,
            "grid_row": null,
            "grid_template_areas": null,
            "grid_template_columns": null,
            "grid_template_rows": null,
            "height": null,
            "justify_content": null,
            "justify_items": null,
            "left": null,
            "margin": null,
            "max_height": null,
            "max_width": null,
            "min_height": null,
            "min_width": null,
            "object_fit": null,
            "object_position": null,
            "order": null,
            "overflow": null,
            "overflow_x": null,
            "overflow_y": null,
            "padding": null,
            "right": null,
            "top": null,
            "visibility": null,
            "width": null
          }
        },
        "825227d764494f23b613760e5a7e8d52": {
          "model_module": "@jupyter-widgets/controls",
          "model_name": "DescriptionStyleModel",
          "model_module_version": "1.5.0",
          "state": {
            "_model_module": "@jupyter-widgets/controls",
            "_model_module_version": "1.5.0",
            "_model_name": "DescriptionStyleModel",
            "_view_count": null,
            "_view_module": "@jupyter-widgets/base",
            "_view_module_version": "1.2.0",
            "_view_name": "StyleView",
            "description_width": ""
          }
        },
        "0a38ff94c2fa49a8bd40727dda5dfe7c": {
          "model_module": "@jupyter-widgets/base",
          "model_name": "LayoutModel",
          "model_module_version": "1.2.0",
          "state": {
            "_model_module": "@jupyter-widgets/base",
            "_model_module_version": "1.2.0",
            "_model_name": "LayoutModel",
            "_view_count": null,
            "_view_module": "@jupyter-widgets/base",
            "_view_module_version": "1.2.0",
            "_view_name": "LayoutView",
            "align_content": null,
            "align_items": null,
            "align_self": null,
            "border": null,
            "bottom": null,
            "display": null,
            "flex": null,
            "flex_flow": null,
            "grid_area": null,
            "grid_auto_columns": null,
            "grid_auto_flow": null,
            "grid_auto_rows": null,
            "grid_column": null,
            "grid_gap": null,
            "grid_row": null,
            "grid_template_areas": null,
            "grid_template_columns": null,
            "grid_template_rows": null,
            "height": null,
            "justify_content": null,
            "justify_items": null,
            "left": null,
            "margin": null,
            "max_height": null,
            "max_width": null,
            "min_height": null,
            "min_width": null,
            "object_fit": null,
            "object_position": null,
            "order": null,
            "overflow": null,
            "overflow_x": null,
            "overflow_y": null,
            "padding": null,
            "right": null,
            "top": null,
            "visibility": null,
            "width": null
          }
        },
        "ebbe4425d93c4dcf8f2cf40145fd845c": {
          "model_module": "@jupyter-widgets/controls",
          "model_name": "DescriptionStyleModel",
          "model_module_version": "1.5.0",
          "state": {
            "_model_module": "@jupyter-widgets/controls",
            "_model_module_version": "1.5.0",
            "_model_name": "DescriptionStyleModel",
            "_view_count": null,
            "_view_module": "@jupyter-widgets/base",
            "_view_module_version": "1.2.0",
            "_view_name": "StyleView",
            "description_width": ""
          }
        },
        "30f133a5c11a47fea2f1c868aefef792": {
          "model_module": "@jupyter-widgets/base",
          "model_name": "LayoutModel",
          "model_module_version": "1.2.0",
          "state": {
            "_model_module": "@jupyter-widgets/base",
            "_model_module_version": "1.2.0",
            "_model_name": "LayoutModel",
            "_view_count": null,
            "_view_module": "@jupyter-widgets/base",
            "_view_module_version": "1.2.0",
            "_view_name": "LayoutView",
            "align_content": null,
            "align_items": null,
            "align_self": null,
            "border": null,
            "bottom": null,
            "display": null,
            "flex": null,
            "flex_flow": null,
            "grid_area": null,
            "grid_auto_columns": null,
            "grid_auto_flow": null,
            "grid_auto_rows": null,
            "grid_column": null,
            "grid_gap": null,
            "grid_row": null,
            "grid_template_areas": null,
            "grid_template_columns": null,
            "grid_template_rows": null,
            "height": null,
            "justify_content": null,
            "justify_items": null,
            "left": null,
            "margin": null,
            "max_height": null,
            "max_width": null,
            "min_height": null,
            "min_width": null,
            "object_fit": null,
            "object_position": null,
            "order": null,
            "overflow": null,
            "overflow_x": null,
            "overflow_y": null,
            "padding": null,
            "right": null,
            "top": null,
            "visibility": null,
            "width": null
          }
        },
        "5be8e0ffe03c40a6a753c2e51d606b76": {
          "model_module": "@jupyter-widgets/controls",
          "model_name": "ButtonStyleModel",
          "model_module_version": "1.5.0",
          "state": {
            "_model_module": "@jupyter-widgets/controls",
            "_model_module_version": "1.5.0",
            "_model_name": "ButtonStyleModel",
            "_view_count": null,
            "_view_module": "@jupyter-widgets/base",
            "_view_module_version": "1.2.0",
            "_view_name": "StyleView",
            "button_color": null,
            "font_weight": ""
          }
        },
        "e385dbd2a62d40b1a9712d314c221b6a": {
          "model_module": "@jupyter-widgets/base",
          "model_name": "LayoutModel",
          "model_module_version": "1.2.0",
          "state": {
            "_model_module": "@jupyter-widgets/base",
            "_model_module_version": "1.2.0",
            "_model_name": "LayoutModel",
            "_view_count": null,
            "_view_module": "@jupyter-widgets/base",
            "_view_module_version": "1.2.0",
            "_view_name": "LayoutView",
            "align_content": null,
            "align_items": null,
            "align_self": null,
            "border": null,
            "bottom": null,
            "display": null,
            "flex": null,
            "flex_flow": null,
            "grid_area": null,
            "grid_auto_columns": null,
            "grid_auto_flow": null,
            "grid_auto_rows": null,
            "grid_column": null,
            "grid_gap": null,
            "grid_row": null,
            "grid_template_areas": null,
            "grid_template_columns": null,
            "grid_template_rows": null,
            "height": null,
            "justify_content": null,
            "justify_items": null,
            "left": null,
            "margin": null,
            "max_height": null,
            "max_width": null,
            "min_height": null,
            "min_width": null,
            "object_fit": null,
            "object_position": null,
            "order": null,
            "overflow": null,
            "overflow_x": null,
            "overflow_y": null,
            "padding": null,
            "right": null,
            "top": null,
            "visibility": null,
            "width": null
          }
        },
        "e74e6bd198434aa4ac3520281ea96a28": {
          "model_module": "@jupyter-widgets/controls",
          "model_name": "DescriptionStyleModel",
          "model_module_version": "1.5.0",
          "state": {
            "_model_module": "@jupyter-widgets/controls",
            "_model_module_version": "1.5.0",
            "_model_name": "DescriptionStyleModel",
            "_view_count": null,
            "_view_module": "@jupyter-widgets/base",
            "_view_module_version": "1.2.0",
            "_view_name": "StyleView",
            "description_width": ""
          }
        },
        "0f47f04bf3d343989eb8d4f4dcdd2bb7": {
          "model_module": "@jupyter-widgets/controls",
          "model_name": "LabelModel",
          "model_module_version": "1.5.0",
          "state": {
            "_dom_classes": [],
            "_model_module": "@jupyter-widgets/controls",
            "_model_module_version": "1.5.0",
            "_model_name": "LabelModel",
            "_view_count": null,
            "_view_module": "@jupyter-widgets/controls",
            "_view_module_version": "1.5.0",
            "_view_name": "LabelView",
            "description": "",
            "description_tooltip": null,
            "layout": "IPY_MODEL_b3df4a15cbc848b3bbfc5a09135edced",
            "placeholder": "​",
            "style": "IPY_MODEL_f77e7ebd766944c5939cbf963d84178a",
            "value": "Connecting..."
          }
        },
        "b3df4a15cbc848b3bbfc5a09135edced": {
          "model_module": "@jupyter-widgets/base",
          "model_name": "LayoutModel",
          "model_module_version": "1.2.0",
          "state": {
            "_model_module": "@jupyter-widgets/base",
            "_model_module_version": "1.2.0",
            "_model_name": "LayoutModel",
            "_view_count": null,
            "_view_module": "@jupyter-widgets/base",
            "_view_module_version": "1.2.0",
            "_view_name": "LayoutView",
            "align_content": null,
            "align_items": null,
            "align_self": null,
            "border": null,
            "bottom": null,
            "display": null,
            "flex": null,
            "flex_flow": null,
            "grid_area": null,
            "grid_auto_columns": null,
            "grid_auto_flow": null,
            "grid_auto_rows": null,
            "grid_column": null,
            "grid_gap": null,
            "grid_row": null,
            "grid_template_areas": null,
            "grid_template_columns": null,
            "grid_template_rows": null,
            "height": null,
            "justify_content": null,
            "justify_items": null,
            "left": null,
            "margin": null,
            "max_height": null,
            "max_width": null,
            "min_height": null,
            "min_width": null,
            "object_fit": null,
            "object_position": null,
            "order": null,
            "overflow": null,
            "overflow_x": null,
            "overflow_y": null,
            "padding": null,
            "right": null,
            "top": null,
            "visibility": null,
            "width": null
          }
        },
        "f77e7ebd766944c5939cbf963d84178a": {
          "model_module": "@jupyter-widgets/controls",
          "model_name": "DescriptionStyleModel",
          "model_module_version": "1.5.0",
          "state": {
            "_model_module": "@jupyter-widgets/controls",
            "_model_module_version": "1.5.0",
            "_model_name": "DescriptionStyleModel",
            "_view_count": null,
            "_view_module": "@jupyter-widgets/base",
            "_view_module_version": "1.2.0",
            "_view_name": "StyleView",
            "description_width": ""
          }
        },
        "bd357db4d4f047b3a63c7f475d3c43d2": {
          "model_module": "@jupyter-widgets/controls",
          "model_name": "HBoxModel",
          "model_module_version": "1.5.0",
          "state": {
            "_dom_classes": [],
            "_model_module": "@jupyter-widgets/controls",
            "_model_module_version": "1.5.0",
            "_model_name": "HBoxModel",
            "_view_count": null,
            "_view_module": "@jupyter-widgets/controls",
            "_view_module_version": "1.5.0",
            "_view_name": "HBoxView",
            "box_style": "",
            "children": [
              "IPY_MODEL_b6ba01734c6f4a589a5118e5c0952e42",
              "IPY_MODEL_c8827b007a00473d8ac4f2457a4aea87",
              "IPY_MODEL_aabb4a41994f44a8b5c81ebee74e9b93"
            ],
            "layout": "IPY_MODEL_d9329b42a74e4204ae8205c83460d167"
          }
        },
        "b6ba01734c6f4a589a5118e5c0952e42": {
          "model_module": "@jupyter-widgets/controls",
          "model_name": "HTMLModel",
          "model_module_version": "1.5.0",
          "state": {
            "_dom_classes": [],
            "_model_module": "@jupyter-widgets/controls",
            "_model_module_version": "1.5.0",
            "_model_name": "HTMLModel",
            "_view_count": null,
            "_view_module": "@jupyter-widgets/controls",
            "_view_module_version": "1.5.0",
            "_view_name": "HTMLView",
            "description": "",
            "description_tooltip": null,
            "layout": "IPY_MODEL_09e6000828b54219a7aea58033e8b15f",
            "placeholder": "​",
            "style": "IPY_MODEL_6998ee73182f499199ea834953fa3ff7",
            "value": "Uploading...: 100%"
          }
        },
        "c8827b007a00473d8ac4f2457a4aea87": {
          "model_module": "@jupyter-widgets/controls",
          "model_name": "FloatProgressModel",
          "model_module_version": "1.5.0",
          "state": {
            "_dom_classes": [],
            "_model_module": "@jupyter-widgets/controls",
            "_model_module_version": "1.5.0",
            "_model_name": "FloatProgressModel",
            "_view_count": null,
            "_view_module": "@jupyter-widgets/controls",
            "_view_module_version": "1.5.0",
            "_view_name": "ProgressView",
            "bar_style": "success",
            "description": "",
            "description_tooltip": null,
            "layout": "IPY_MODEL_8dcfff2d9c854fcd810450d8818f77d0",
            "max": 498059544,
            "min": 0,
            "orientation": "horizontal",
            "style": "IPY_MODEL_9e9f766aa1ae497f8940d2e79b5cd9bd",
            "value": 498059544
          }
        },
        "aabb4a41994f44a8b5c81ebee74e9b93": {
          "model_module": "@jupyter-widgets/controls",
          "model_name": "HTMLModel",
          "model_module_version": "1.5.0",
          "state": {
            "_dom_classes": [],
            "_model_module": "@jupyter-widgets/controls",
            "_model_module_version": "1.5.0",
            "_model_name": "HTMLModel",
            "_view_count": null,
            "_view_module": "@jupyter-widgets/controls",
            "_view_module_version": "1.5.0",
            "_view_name": "HTMLView",
            "description": "",
            "description_tooltip": null,
            "layout": "IPY_MODEL_7e09d132925b485a910eb08988ac635e",
            "placeholder": "​",
            "style": "IPY_MODEL_1ba9dd9506bd479bb0b4a700d07f10a2",
            "value": " 498M/498M [00:11&lt;00:00, 50.3MB/s]"
          }
        },
        "d9329b42a74e4204ae8205c83460d167": {
          "model_module": "@jupyter-widgets/base",
          "model_name": "LayoutModel",
          "model_module_version": "1.2.0",
          "state": {
            "_model_module": "@jupyter-widgets/base",
            "_model_module_version": "1.2.0",
            "_model_name": "LayoutModel",
            "_view_count": null,
            "_view_module": "@jupyter-widgets/base",
            "_view_module_version": "1.2.0",
            "_view_name": "LayoutView",
            "align_content": null,
            "align_items": null,
            "align_self": null,
            "border": null,
            "bottom": null,
            "display": null,
            "flex": null,
            "flex_flow": null,
            "grid_area": null,
            "grid_auto_columns": null,
            "grid_auto_flow": null,
            "grid_auto_rows": null,
            "grid_column": null,
            "grid_gap": null,
            "grid_row": null,
            "grid_template_areas": null,
            "grid_template_columns": null,
            "grid_template_rows": null,
            "height": null,
            "justify_content": null,
            "justify_items": null,
            "left": null,
            "margin": null,
            "max_height": null,
            "max_width": null,
            "min_height": null,
            "min_width": null,
            "object_fit": null,
            "object_position": null,
            "order": null,
            "overflow": null,
            "overflow_x": null,
            "overflow_y": null,
            "padding": null,
            "right": null,
            "top": null,
            "visibility": null,
            "width": null
          }
        },
        "09e6000828b54219a7aea58033e8b15f": {
          "model_module": "@jupyter-widgets/base",
          "model_name": "LayoutModel",
          "model_module_version": "1.2.0",
          "state": {
            "_model_module": "@jupyter-widgets/base",
            "_model_module_version": "1.2.0",
            "_model_name": "LayoutModel",
            "_view_count": null,
            "_view_module": "@jupyter-widgets/base",
            "_view_module_version": "1.2.0",
            "_view_name": "LayoutView",
            "align_content": null,
            "align_items": null,
            "align_self": null,
            "border": null,
            "bottom": null,
            "display": null,
            "flex": null,
            "flex_flow": null,
            "grid_area": null,
            "grid_auto_columns": null,
            "grid_auto_flow": null,
            "grid_auto_rows": null,
            "grid_column": null,
            "grid_gap": null,
            "grid_row": null,
            "grid_template_areas": null,
            "grid_template_columns": null,
            "grid_template_rows": null,
            "height": null,
            "justify_content": null,
            "justify_items": null,
            "left": null,
            "margin": null,
            "max_height": null,
            "max_width": null,
            "min_height": null,
            "min_width": null,
            "object_fit": null,
            "object_position": null,
            "order": null,
            "overflow": null,
            "overflow_x": null,
            "overflow_y": null,
            "padding": null,
            "right": null,
            "top": null,
            "visibility": null,
            "width": null
          }
        },
        "6998ee73182f499199ea834953fa3ff7": {
          "model_module": "@jupyter-widgets/controls",
          "model_name": "DescriptionStyleModel",
          "model_module_version": "1.5.0",
          "state": {
            "_model_module": "@jupyter-widgets/controls",
            "_model_module_version": "1.5.0",
            "_model_name": "DescriptionStyleModel",
            "_view_count": null,
            "_view_module": "@jupyter-widgets/base",
            "_view_module_version": "1.2.0",
            "_view_name": "StyleView",
            "description_width": ""
          }
        },
        "8dcfff2d9c854fcd810450d8818f77d0": {
          "model_module": "@jupyter-widgets/base",
          "model_name": "LayoutModel",
          "model_module_version": "1.2.0",
          "state": {
            "_model_module": "@jupyter-widgets/base",
            "_model_module_version": "1.2.0",
            "_model_name": "LayoutModel",
            "_view_count": null,
            "_view_module": "@jupyter-widgets/base",
            "_view_module_version": "1.2.0",
            "_view_name": "LayoutView",
            "align_content": null,
            "align_items": null,
            "align_self": null,
            "border": null,
            "bottom": null,
            "display": null,
            "flex": null,
            "flex_flow": null,
            "grid_area": null,
            "grid_auto_columns": null,
            "grid_auto_flow": null,
            "grid_auto_rows": null,
            "grid_column": null,
            "grid_gap": null,
            "grid_row": null,
            "grid_template_areas": null,
            "grid_template_columns": null,
            "grid_template_rows": null,
            "height": null,
            "justify_content": null,
            "justify_items": null,
            "left": null,
            "margin": null,
            "max_height": null,
            "max_width": null,
            "min_height": null,
            "min_width": null,
            "object_fit": null,
            "object_position": null,
            "order": null,
            "overflow": null,
            "overflow_x": null,
            "overflow_y": null,
            "padding": null,
            "right": null,
            "top": null,
            "visibility": null,
            "width": null
          }
        },
        "9e9f766aa1ae497f8940d2e79b5cd9bd": {
          "model_module": "@jupyter-widgets/controls",
          "model_name": "ProgressStyleModel",
          "model_module_version": "1.5.0",
          "state": {
            "_model_module": "@jupyter-widgets/controls",
            "_model_module_version": "1.5.0",
            "_model_name": "ProgressStyleModel",
            "_view_count": null,
            "_view_module": "@jupyter-widgets/base",
            "_view_module_version": "1.2.0",
            "_view_name": "StyleView",
            "bar_color": null,
            "description_width": ""
          }
        },
        "7e09d132925b485a910eb08988ac635e": {
          "model_module": "@jupyter-widgets/base",
          "model_name": "LayoutModel",
          "model_module_version": "1.2.0",
          "state": {
            "_model_module": "@jupyter-widgets/base",
            "_model_module_version": "1.2.0",
            "_model_name": "LayoutModel",
            "_view_count": null,
            "_view_module": "@jupyter-widgets/base",
            "_view_module_version": "1.2.0",
            "_view_name": "LayoutView",
            "align_content": null,
            "align_items": null,
            "align_self": null,
            "border": null,
            "bottom": null,
            "display": null,
            "flex": null,
            "flex_flow": null,
            "grid_area": null,
            "grid_auto_columns": null,
            "grid_auto_flow": null,
            "grid_auto_rows": null,
            "grid_column": null,
            "grid_gap": null,
            "grid_row": null,
            "grid_template_areas": null,
            "grid_template_columns": null,
            "grid_template_rows": null,
            "height": null,
            "justify_content": null,
            "justify_items": null,
            "left": null,
            "margin": null,
            "max_height": null,
            "max_width": null,
            "min_height": null,
            "min_width": null,
            "object_fit": null,
            "object_position": null,
            "order": null,
            "overflow": null,
            "overflow_x": null,
            "overflow_y": null,
            "padding": null,
            "right": null,
            "top": null,
            "visibility": null,
            "width": null
          }
        },
        "1ba9dd9506bd479bb0b4a700d07f10a2": {
          "model_module": "@jupyter-widgets/controls",
          "model_name": "DescriptionStyleModel",
          "model_module_version": "1.5.0",
          "state": {
            "_model_module": "@jupyter-widgets/controls",
            "_model_module_version": "1.5.0",
            "_model_name": "DescriptionStyleModel",
            "_view_count": null,
            "_view_module": "@jupyter-widgets/base",
            "_view_module_version": "1.2.0",
            "_view_name": "StyleView",
            "description_width": ""
          }
        }
      }
    }
  },
  "cells": [
    {
      "cell_type": "markdown",
      "source": [
        "# Import Library"
      ],
      "metadata": {
        "id": "kGl7IcTRNfBi"
      }
    },
    {
      "cell_type": "code",
      "execution_count": 1,
      "metadata": {
        "id": "VnpgK4i9NamW"
      },
      "outputs": [],
      "source": [
        "import pandas as pd\n",
        "import tensorflow as tf\n",
        "import matplotlib.pyplot as plt\n",
        "import seaborn as sns\n",
        "from sklearn.model_selection import train_test_split\n",
        "from transformers import TFAutoModelForSequenceClassification, AutoTokenizer\n",
        "from sklearn.metrics import classification_report, confusion_matrix\n",
        "from google.colab import files, drive\n",
        "import os\n",
        "import numpy as np"
      ]
    },
    {
      "cell_type": "markdown",
      "source": [
        "# Load Dataset"
      ],
      "metadata": {
        "id": "izNfgQ1DNjlH"
      }
    },
    {
      "cell_type": "code",
      "source": [
        "dataset_url = \"https://raw.githubusercontent.com/HAJAR-Enterprise/ML-Repo/refs/heads/main/Datasets/labeled_comments.csv\"\n",
        "\n",
        "df = pd.read_csv(dataset_url)\n",
        "texts = df['cleaned_comment'].astype(str).tolist()\n",
        "labels = df['label'].tolist()\n",
        "\n",
        "print(\"Distribusi Label:\")\n",
        "print(df['label'].value_counts())"
      ],
      "metadata": {
        "colab": {
          "base_uri": "https://localhost:8080/"
        },
        "id": "N429BHYEr2Ck",
        "outputId": "631671e2-8c32-4b7b-a7f0-1f3e8f8c9e92"
      },
      "execution_count": 2,
      "outputs": [
        {
          "output_type": "stream",
          "name": "stdout",
          "text": [
            "Distribusi Label:\n",
            "label\n",
            "0    8248\n",
            "1    7629\n",
            "Name: count, dtype: int64\n"
          ]
        }
      ]
    },
    {
      "cell_type": "code",
      "source": [
        "df.info()"
      ],
      "metadata": {
        "colab": {
          "base_uri": "https://localhost:8080/"
        },
        "id": "IJoFTIE4OJFQ",
        "outputId": "b4b4cc5a-cc39-43de-be26-0519ca61d1cf"
      },
      "execution_count": 3,
      "outputs": [
        {
          "output_type": "stream",
          "name": "stdout",
          "text": [
            "<class 'pandas.core.frame.DataFrame'>\n",
            "RangeIndex: 15877 entries, 0 to 15876\n",
            "Data columns (total 5 columns):\n",
            " #   Column              Non-Null Count  Dtype \n",
            "---  ------              --------------  ----- \n",
            " 0   author              15877 non-null  object\n",
            " 1   comment             15877 non-null  object\n",
            " 2   normalized_comment  15876 non-null  object\n",
            " 3   cleaned_comment     15873 non-null  object\n",
            " 4   label               15877 non-null  int64 \n",
            "dtypes: int64(1), object(4)\n",
            "memory usage: 620.3+ KB\n"
          ]
        }
      ]
    },
    {
      "cell_type": "code",
      "source": [
        "df.sample(10)"
      ],
      "metadata": {
        "colab": {
          "base_uri": "https://localhost:8080/",
          "height": 710
        },
        "id": "0kP9a_2VOO10",
        "outputId": "ceb2f057-8547-4289-8ae8-29893066affd"
      },
      "execution_count": 4,
      "outputs": [
        {
          "output_type": "execute_result",
          "data": {
            "text/plain": [
              "                       author  \\\n",
              "13851  @kierramichelledix-t2u   \n",
              "1339         @DaniWahyudi-b5k   \n",
              "5262             @kussvia6494   \n",
              "4222          @HermanSyah-u2m   \n",
              "10056          @kicaukopi1274   \n",
              "12334      @CarmanAnareta-n7r   \n",
              "3316         @AndiKartika-c3h   \n",
              "12033          @JayaSri-dm9eb   \n",
              "4818           @ajiajiaji2370   \n",
              "1272   @JacquelineCarlson-b8n   \n",
              "\n",
              "                                                 comment  \\\n",
              "13851  menurut gw sih situs adil yah di 🚩𝙎𝙂𝙄88🚩 soaln...   \n",
              "1339   ⭐𝘼𝙇𝙀𝙓𝙄𝙎17 emang paling top dah, ga pernah biki...   \n",
              "5262   logika hukum sederhananya, yg buat ijazah itu ...   \n",
              "4222   Kya Roy ini bikin gaduh Indonesian adu domba a...   \n",
              "10056       Lah, ini kan Lenis Kogoya, yang dulu.....😂😂😂   \n",
              "12334  Banyak pilihan game *GUNUNGWIN* emang situs pi...   \n",
              "3316   Literally auto cuan, di ALEXIS17 pola gacor-ny...   \n",
              "12033  Aku adalah pemenang, dan ❄️ *KYT4D* ❄️ adalah ...   \n",
              "4818    Roy Suryo cs sungguh Manusia yg tidak punya adab   \n",
              "1272   Udah coba banyak tempat, tapi  BERKAH99  pal...   \n",
              "\n",
              "                                      normalized_comment  \\\n",
              "13851  menurut saya sih situs adil yah di SGI88 soaln...   \n",
              "1339   ALEXIS17 emang paling top dah, tidak pernah me...   \n",
              "5262   logika hukum sederhananya, yang buat ijazah it...   \n",
              "4222   Kya Roy ini membuat gaduh Indonesian adu domba...   \n",
              "10056          Lah, ini kan Lenis Kogoya, yang dulu.....   \n",
              "12334  Banyak pilihan game *GUNUNGWIN* emang situs pi...   \n",
              "3316   Literally langsung cuan, di ALEXIS17 pola gaco...   \n",
              "12033  Aku adalah pemenang, dan *KYT4D* adalah keberu...   \n",
              "4818   Roy Suryo dan kawan kawan sungguh Manusia yang...   \n",
              "1272   sudah coba banyak tempat, tetapi BERKAH99 pali...   \n",
              "\n",
              "                                         cleaned_comment  label  \n",
              "13851  menurut saya sih situs adil yah di sgi88 soaln...      1  \n",
              "1339   alexis17 emang paling top dah tidak pernah mem...      1  \n",
              "5262   logika hukum sederhananya yang buat ijazah itu...      0  \n",
              "4222   kya roy ini membuat gaduh indonesian adu domba...      0  \n",
              "10056                 lah ini kan lenis kogoya yang dulu      0  \n",
              "12334  banyak pilihan game gunungwin emang situs pili...      1  \n",
              "3316   literally langsung cuan di alexis17 pola gacor...      1  \n",
              "12033  aku adalah pemenang dan kyt4d adalah keberuntu...      1  \n",
              "4818   roy suryo dan kawan kawan sungguh manusia yang...      0  \n",
              "1272   sudah coba banyak tempat tetapi berkah99 palin...      1  "
            ],
            "text/html": [
              "\n",
              "  <div id=\"df-0438f73b-2446-47dd-8947-80b8a08f425a\" class=\"colab-df-container\">\n",
              "    <div>\n",
              "<style scoped>\n",
              "    .dataframe tbody tr th:only-of-type {\n",
              "        vertical-align: middle;\n",
              "    }\n",
              "\n",
              "    .dataframe tbody tr th {\n",
              "        vertical-align: top;\n",
              "    }\n",
              "\n",
              "    .dataframe thead th {\n",
              "        text-align: right;\n",
              "    }\n",
              "</style>\n",
              "<table border=\"1\" class=\"dataframe\">\n",
              "  <thead>\n",
              "    <tr style=\"text-align: right;\">\n",
              "      <th></th>\n",
              "      <th>author</th>\n",
              "      <th>comment</th>\n",
              "      <th>normalized_comment</th>\n",
              "      <th>cleaned_comment</th>\n",
              "      <th>label</th>\n",
              "    </tr>\n",
              "  </thead>\n",
              "  <tbody>\n",
              "    <tr>\n",
              "      <th>13851</th>\n",
              "      <td>@kierramichelledix-t2u</td>\n",
              "      <td>menurut gw sih situs adil yah di 🚩𝙎𝙂𝙄88🚩 soaln...</td>\n",
              "      <td>menurut saya sih situs adil yah di SGI88 soaln...</td>\n",
              "      <td>menurut saya sih situs adil yah di sgi88 soaln...</td>\n",
              "      <td>1</td>\n",
              "    </tr>\n",
              "    <tr>\n",
              "      <th>1339</th>\n",
              "      <td>@DaniWahyudi-b5k</td>\n",
              "      <td>⭐𝘼𝙇𝙀𝙓𝙄𝙎17 emang paling top dah, ga pernah biki...</td>\n",
              "      <td>ALEXIS17 emang paling top dah, tidak pernah me...</td>\n",
              "      <td>alexis17 emang paling top dah tidak pernah mem...</td>\n",
              "      <td>1</td>\n",
              "    </tr>\n",
              "    <tr>\n",
              "      <th>5262</th>\n",
              "      <td>@kussvia6494</td>\n",
              "      <td>logika hukum sederhananya, yg buat ijazah itu ...</td>\n",
              "      <td>logika hukum sederhananya, yang buat ijazah it...</td>\n",
              "      <td>logika hukum sederhananya yang buat ijazah itu...</td>\n",
              "      <td>0</td>\n",
              "    </tr>\n",
              "    <tr>\n",
              "      <th>4222</th>\n",
              "      <td>@HermanSyah-u2m</td>\n",
              "      <td>Kya Roy ini bikin gaduh Indonesian adu domba a...</td>\n",
              "      <td>Kya Roy ini membuat gaduh Indonesian adu domba...</td>\n",
              "      <td>kya roy ini membuat gaduh indonesian adu domba...</td>\n",
              "      <td>0</td>\n",
              "    </tr>\n",
              "    <tr>\n",
              "      <th>10056</th>\n",
              "      <td>@kicaukopi1274</td>\n",
              "      <td>Lah, ini kan Lenis Kogoya, yang dulu.....😂😂😂</td>\n",
              "      <td>Lah, ini kan Lenis Kogoya, yang dulu.....</td>\n",
              "      <td>lah ini kan lenis kogoya yang dulu</td>\n",
              "      <td>0</td>\n",
              "    </tr>\n",
              "    <tr>\n",
              "      <th>12334</th>\n",
              "      <td>@CarmanAnareta-n7r</td>\n",
              "      <td>Banyak pilihan game *GUNUNGWIN* emang situs pi...</td>\n",
              "      <td>Banyak pilihan game *GUNUNGWIN* emang situs pi...</td>\n",
              "      <td>banyak pilihan game gunungwin emang situs pili...</td>\n",
              "      <td>1</td>\n",
              "    </tr>\n",
              "    <tr>\n",
              "      <th>3316</th>\n",
              "      <td>@AndiKartika-c3h</td>\n",
              "      <td>Literally auto cuan, di ALEXIS17 pola gacor-ny...</td>\n",
              "      <td>Literally langsung cuan, di ALEXIS17 pola gaco...</td>\n",
              "      <td>literally langsung cuan di alexis17 pola gacor...</td>\n",
              "      <td>1</td>\n",
              "    </tr>\n",
              "    <tr>\n",
              "      <th>12033</th>\n",
              "      <td>@JayaSri-dm9eb</td>\n",
              "      <td>Aku adalah pemenang, dan ❄️ *KYT4D* ❄️ adalah ...</td>\n",
              "      <td>Aku adalah pemenang, dan *KYT4D* adalah keberu...</td>\n",
              "      <td>aku adalah pemenang dan kyt4d adalah keberuntu...</td>\n",
              "      <td>1</td>\n",
              "    </tr>\n",
              "    <tr>\n",
              "      <th>4818</th>\n",
              "      <td>@ajiajiaji2370</td>\n",
              "      <td>Roy Suryo cs sungguh Manusia yg tidak punya adab</td>\n",
              "      <td>Roy Suryo dan kawan kawan sungguh Manusia yang...</td>\n",
              "      <td>roy suryo dan kawan kawan sungguh manusia yang...</td>\n",
              "      <td>0</td>\n",
              "    </tr>\n",
              "    <tr>\n",
              "      <th>1272</th>\n",
              "      <td>@JacquelineCarlson-b8n</td>\n",
              "      <td>Udah coba banyak tempat, tapi  BERKAH99  pal...</td>\n",
              "      <td>sudah coba banyak tempat, tetapi BERKAH99 pali...</td>\n",
              "      <td>sudah coba banyak tempat tetapi berkah99 palin...</td>\n",
              "      <td>1</td>\n",
              "    </tr>\n",
              "  </tbody>\n",
              "</table>\n",
              "</div>\n",
              "    <div class=\"colab-df-buttons\">\n",
              "\n",
              "  <div class=\"colab-df-container\">\n",
              "    <button class=\"colab-df-convert\" onclick=\"convertToInteractive('df-0438f73b-2446-47dd-8947-80b8a08f425a')\"\n",
              "            title=\"Convert this dataframe to an interactive table.\"\n",
              "            style=\"display:none;\">\n",
              "\n",
              "  <svg xmlns=\"http://www.w3.org/2000/svg\" height=\"24px\" viewBox=\"0 -960 960 960\">\n",
              "    <path d=\"M120-120v-720h720v720H120Zm60-500h600v-160H180v160Zm220 220h160v-160H400v160Zm0 220h160v-160H400v160ZM180-400h160v-160H180v160Zm440 0h160v-160H620v160ZM180-180h160v-160H180v160Zm440 0h160v-160H620v160Z\"/>\n",
              "  </svg>\n",
              "    </button>\n",
              "\n",
              "  <style>\n",
              "    .colab-df-container {\n",
              "      display:flex;\n",
              "      gap: 12px;\n",
              "    }\n",
              "\n",
              "    .colab-df-convert {\n",
              "      background-color: #E8F0FE;\n",
              "      border: none;\n",
              "      border-radius: 50%;\n",
              "      cursor: pointer;\n",
              "      display: none;\n",
              "      fill: #1967D2;\n",
              "      height: 32px;\n",
              "      padding: 0 0 0 0;\n",
              "      width: 32px;\n",
              "    }\n",
              "\n",
              "    .colab-df-convert:hover {\n",
              "      background-color: #E2EBFA;\n",
              "      box-shadow: 0px 1px 2px rgba(60, 64, 67, 0.3), 0px 1px 3px 1px rgba(60, 64, 67, 0.15);\n",
              "      fill: #174EA6;\n",
              "    }\n",
              "\n",
              "    .colab-df-buttons div {\n",
              "      margin-bottom: 4px;\n",
              "    }\n",
              "\n",
              "    [theme=dark] .colab-df-convert {\n",
              "      background-color: #3B4455;\n",
              "      fill: #D2E3FC;\n",
              "    }\n",
              "\n",
              "    [theme=dark] .colab-df-convert:hover {\n",
              "      background-color: #434B5C;\n",
              "      box-shadow: 0px 1px 3px 1px rgba(0, 0, 0, 0.15);\n",
              "      filter: drop-shadow(0px 1px 2px rgba(0, 0, 0, 0.3));\n",
              "      fill: #FFFFFF;\n",
              "    }\n",
              "  </style>\n",
              "\n",
              "    <script>\n",
              "      const buttonEl =\n",
              "        document.querySelector('#df-0438f73b-2446-47dd-8947-80b8a08f425a button.colab-df-convert');\n",
              "      buttonEl.style.display =\n",
              "        google.colab.kernel.accessAllowed ? 'block' : 'none';\n",
              "\n",
              "      async function convertToInteractive(key) {\n",
              "        const element = document.querySelector('#df-0438f73b-2446-47dd-8947-80b8a08f425a');\n",
              "        const dataTable =\n",
              "          await google.colab.kernel.invokeFunction('convertToInteractive',\n",
              "                                                    [key], {});\n",
              "        if (!dataTable) return;\n",
              "\n",
              "        const docLinkHtml = 'Like what you see? Visit the ' +\n",
              "          '<a target=\"_blank\" href=https://colab.research.google.com/notebooks/data_table.ipynb>data table notebook</a>'\n",
              "          + ' to learn more about interactive tables.';\n",
              "        element.innerHTML = '';\n",
              "        dataTable['output_type'] = 'display_data';\n",
              "        await google.colab.output.renderOutput(dataTable, element);\n",
              "        const docLink = document.createElement('div');\n",
              "        docLink.innerHTML = docLinkHtml;\n",
              "        element.appendChild(docLink);\n",
              "      }\n",
              "    </script>\n",
              "  </div>\n",
              "\n",
              "\n",
              "    <div id=\"df-5f06eb63-d4c1-47b8-a2d4-354a81d38461\">\n",
              "      <button class=\"colab-df-quickchart\" onclick=\"quickchart('df-5f06eb63-d4c1-47b8-a2d4-354a81d38461')\"\n",
              "                title=\"Suggest charts\"\n",
              "                style=\"display:none;\">\n",
              "\n",
              "<svg xmlns=\"http://www.w3.org/2000/svg\" height=\"24px\"viewBox=\"0 0 24 24\"\n",
              "     width=\"24px\">\n",
              "    <g>\n",
              "        <path d=\"M19 3H5c-1.1 0-2 .9-2 2v14c0 1.1.9 2 2 2h14c1.1 0 2-.9 2-2V5c0-1.1-.9-2-2-2zM9 17H7v-7h2v7zm4 0h-2V7h2v10zm4 0h-2v-4h2v4z\"/>\n",
              "    </g>\n",
              "</svg>\n",
              "      </button>\n",
              "\n",
              "<style>\n",
              "  .colab-df-quickchart {\n",
              "      --bg-color: #E8F0FE;\n",
              "      --fill-color: #1967D2;\n",
              "      --hover-bg-color: #E2EBFA;\n",
              "      --hover-fill-color: #174EA6;\n",
              "      --disabled-fill-color: #AAA;\n",
              "      --disabled-bg-color: #DDD;\n",
              "  }\n",
              "\n",
              "  [theme=dark] .colab-df-quickchart {\n",
              "      --bg-color: #3B4455;\n",
              "      --fill-color: #D2E3FC;\n",
              "      --hover-bg-color: #434B5C;\n",
              "      --hover-fill-color: #FFFFFF;\n",
              "      --disabled-bg-color: #3B4455;\n",
              "      --disabled-fill-color: #666;\n",
              "  }\n",
              "\n",
              "  .colab-df-quickchart {\n",
              "    background-color: var(--bg-color);\n",
              "    border: none;\n",
              "    border-radius: 50%;\n",
              "    cursor: pointer;\n",
              "    display: none;\n",
              "    fill: var(--fill-color);\n",
              "    height: 32px;\n",
              "    padding: 0;\n",
              "    width: 32px;\n",
              "  }\n",
              "\n",
              "  .colab-df-quickchart:hover {\n",
              "    background-color: var(--hover-bg-color);\n",
              "    box-shadow: 0 1px 2px rgba(60, 64, 67, 0.3), 0 1px 3px 1px rgba(60, 64, 67, 0.15);\n",
              "    fill: var(--button-hover-fill-color);\n",
              "  }\n",
              "\n",
              "  .colab-df-quickchart-complete:disabled,\n",
              "  .colab-df-quickchart-complete:disabled:hover {\n",
              "    background-color: var(--disabled-bg-color);\n",
              "    fill: var(--disabled-fill-color);\n",
              "    box-shadow: none;\n",
              "  }\n",
              "\n",
              "  .colab-df-spinner {\n",
              "    border: 2px solid var(--fill-color);\n",
              "    border-color: transparent;\n",
              "    border-bottom-color: var(--fill-color);\n",
              "    animation:\n",
              "      spin 1s steps(1) infinite;\n",
              "  }\n",
              "\n",
              "  @keyframes spin {\n",
              "    0% {\n",
              "      border-color: transparent;\n",
              "      border-bottom-color: var(--fill-color);\n",
              "      border-left-color: var(--fill-color);\n",
              "    }\n",
              "    20% {\n",
              "      border-color: transparent;\n",
              "      border-left-color: var(--fill-color);\n",
              "      border-top-color: var(--fill-color);\n",
              "    }\n",
              "    30% {\n",
              "      border-color: transparent;\n",
              "      border-left-color: var(--fill-color);\n",
              "      border-top-color: var(--fill-color);\n",
              "      border-right-color: var(--fill-color);\n",
              "    }\n",
              "    40% {\n",
              "      border-color: transparent;\n",
              "      border-right-color: var(--fill-color);\n",
              "      border-top-color: var(--fill-color);\n",
              "    }\n",
              "    60% {\n",
              "      border-color: transparent;\n",
              "      border-right-color: var(--fill-color);\n",
              "    }\n",
              "    80% {\n",
              "      border-color: transparent;\n",
              "      border-right-color: var(--fill-color);\n",
              "      border-bottom-color: var(--fill-color);\n",
              "    }\n",
              "    90% {\n",
              "      border-color: transparent;\n",
              "      border-bottom-color: var(--fill-color);\n",
              "    }\n",
              "  }\n",
              "</style>\n",
              "\n",
              "      <script>\n",
              "        async function quickchart(key) {\n",
              "          const quickchartButtonEl =\n",
              "            document.querySelector('#' + key + ' button');\n",
              "          quickchartButtonEl.disabled = true;  // To prevent multiple clicks.\n",
              "          quickchartButtonEl.classList.add('colab-df-spinner');\n",
              "          try {\n",
              "            const charts = await google.colab.kernel.invokeFunction(\n",
              "                'suggestCharts', [key], {});\n",
              "          } catch (error) {\n",
              "            console.error('Error during call to suggestCharts:', error);\n",
              "          }\n",
              "          quickchartButtonEl.classList.remove('colab-df-spinner');\n",
              "          quickchartButtonEl.classList.add('colab-df-quickchart-complete');\n",
              "        }\n",
              "        (() => {\n",
              "          let quickchartButtonEl =\n",
              "            document.querySelector('#df-5f06eb63-d4c1-47b8-a2d4-354a81d38461 button');\n",
              "          quickchartButtonEl.style.display =\n",
              "            google.colab.kernel.accessAllowed ? 'block' : 'none';\n",
              "        })();\n",
              "      </script>\n",
              "    </div>\n",
              "\n",
              "    </div>\n",
              "  </div>\n"
            ],
            "application/vnd.google.colaboratory.intrinsic+json": {
              "type": "dataframe",
              "summary": "{\n  \"name\": \"df\",\n  \"rows\": 10,\n  \"fields\": [\n    {\n      \"column\": \"author\",\n      \"properties\": {\n        \"dtype\": \"string\",\n        \"num_unique_values\": 10,\n        \"samples\": [\n          \"@ajiajiaji2370\",\n          \"@DaniWahyudi-b5k\",\n          \"@CarmanAnareta-n7r\"\n        ],\n        \"semantic_type\": \"\",\n        \"description\": \"\"\n      }\n    },\n    {\n      \"column\": \"comment\",\n      \"properties\": {\n        \"dtype\": \"string\",\n        \"num_unique_values\": 10,\n        \"samples\": [\n          \"Roy Suryo cs sungguh Manusia yg tidak punya adab\",\n          \"\\u2b50\\ud835\\ude3c\\ud835\\ude47\\ud835\\ude40\\ud835\\ude53\\ud835\\ude44\\ud835\\ude4e17 emang paling top dah, ga pernah bikin kecewa dari awal sampe sekarang\",\n          \"Banyak pilihan game *GUNUNGWIN* emang situs pilihan pemain para sultan kayak saya\"\n        ],\n        \"semantic_type\": \"\",\n        \"description\": \"\"\n      }\n    },\n    {\n      \"column\": \"normalized_comment\",\n      \"properties\": {\n        \"dtype\": \"string\",\n        \"num_unique_values\": 10,\n        \"samples\": [\n          \"Roy Suryo dan kawan kawan sungguh Manusia yang tidak punya adab\",\n          \"ALEXIS17 emang paling top dah, tidak pernah membuat kecewa dari awal sampai sekarang\",\n          \"Banyak pilihan game *GUNUNGWIN* emang situs pilihan pemain para sultan seperti saya\"\n        ],\n        \"semantic_type\": \"\",\n        \"description\": \"\"\n      }\n    },\n    {\n      \"column\": \"cleaned_comment\",\n      \"properties\": {\n        \"dtype\": \"string\",\n        \"num_unique_values\": 10,\n        \"samples\": [\n          \"roy suryo dan kawan kawan sungguh manusia yang tidak punya adab\",\n          \"alexis17 emang paling top dah tidak pernah membuat kecewa dari awal sampai sekarang\",\n          \"banyak pilihan game gunungwin emang situs pilihan pemain para sultan seperti saya\"\n        ],\n        \"semantic_type\": \"\",\n        \"description\": \"\"\n      }\n    },\n    {\n      \"column\": \"label\",\n      \"properties\": {\n        \"dtype\": \"number\",\n        \"std\": 0,\n        \"min\": 0,\n        \"max\": 1,\n        \"num_unique_values\": 2,\n        \"samples\": [\n          0,\n          1\n        ],\n        \"semantic_type\": \"\",\n        \"description\": \"\"\n      }\n    }\n  ]\n}"
            }
          },
          "metadata": {},
          "execution_count": 4
        }
      ]
    },
    {
      "cell_type": "markdown",
      "source": [
        "# Preprocessing"
      ],
      "metadata": {
        "id": "_03PNGxXsOmA"
      }
    },
    {
      "cell_type": "code",
      "source": [
        "# cek missing values\n",
        "print(\"Missing values sebelum dihapus:\")\n",
        "print(df.isnull().sum())\n",
        "\n",
        "# hapus missing values\n",
        "df.dropna(inplace=True)\n",
        "print(\"\\nMissing values setelah dihapus:\")\n",
        "print(df.isnull().sum())\n",
        "\n",
        "# cek dduplikat\n",
        "print(\"\\nData duplikat sebelum dihapus:\", df.duplicated().sum())\n",
        "\n",
        "# hapus duplikat\n",
        "df.drop_duplicates(inplace=True)\n",
        "print(\"Data duplikat setelah dihapus:\", df.duplicated().sum())"
      ],
      "metadata": {
        "colab": {
          "base_uri": "https://localhost:8080/"
        },
        "id": "MtI5DQmzsSfW",
        "outputId": "62fee0e2-ef91-431b-c997-f21313c5ca68"
      },
      "execution_count": 5,
      "outputs": [
        {
          "output_type": "stream",
          "name": "stdout",
          "text": [
            "Missing values sebelum dihapus:\n",
            "author                0\n",
            "comment               0\n",
            "normalized_comment    1\n",
            "cleaned_comment       4\n",
            "label                 0\n",
            "dtype: int64\n",
            "\n",
            "Missing values setelah dihapus:\n",
            "author                0\n",
            "comment               0\n",
            "normalized_comment    0\n",
            "cleaned_comment       0\n",
            "label                 0\n",
            "dtype: int64\n",
            "\n",
            "Data duplikat sebelum dihapus: 336\n",
            "Data duplikat setelah dihapus: 0\n"
          ]
        }
      ]
    },
    {
      "cell_type": "code",
      "source": [
        "print(\"\\nUkuran dataset setelah preprocessing:\", df.shape)"
      ],
      "metadata": {
        "colab": {
          "base_uri": "https://localhost:8080/"
        },
        "id": "Rl_8sy7gtJ8K",
        "outputId": "ac811ef3-e95b-4bf4-c808-b1df6d2e7c92"
      },
      "execution_count": 6,
      "outputs": [
        {
          "output_type": "stream",
          "name": "stdout",
          "text": [
            "\n",
            "Ukuran dataset setelah preprocessing: (15537, 5)\n"
          ]
        }
      ]
    },
    {
      "cell_type": "markdown",
      "source": [
        "## Data Splitting"
      ],
      "metadata": {
        "id": "C76noe7QOanT"
      }
    },
    {
      "cell_type": "code",
      "source": [
        "# Membagi dataset menjadi data latih (training) dan data validasi (validation)\n",
        "# - texts: daftar komentar yang sudah dibersihkan\n",
        "# - labels: label kelas dari komentar\n",
        "# - test_size=0.2: 20% data digunakan untuk validasi, sisanya 80% untuk training\n",
        "# - random_state=42: agar hasil split selalu sama setiap dijalankan (reproducible)\n",
        "# - stratify=labels: memastikan proporsi label di training dan validation tetap seimbang\n",
        "train_texts, val_texts, train_labels, val_labels = train_test_split(\n",
        "    texts, labels, test_size=0.2, random_state=42, stratify=labels\n",
        ")"
      ],
      "metadata": {
        "id": "FjrtKRc2OEaZ"
      },
      "execution_count": 7,
      "outputs": []
    },
    {
      "cell_type": "markdown",
      "source": [
        "## Load tokenizer dan model IndoBERT"
      ],
      "metadata": {
        "id": "P3ojXey9Of0D"
      }
    },
    {
      "cell_type": "code",
      "source": [
        "# Nama model IndoBERT yang akan digunakan dari Hugging Face\n",
        "model_name = \"indobenchmark/indobert-base-p1\"\n",
        "\n",
        "# Memuat tokenizer dari model IndoBERT\n",
        "# Tokenizer ini bertugas mengubah teks menjadi format token yang bisa diproses oleh model\n",
        "tokenizer = AutoTokenizer.from_pretrained(model_name)\n",
        "\n",
        "# Memuat model IndoBERT untuk tugas klasifikasi teks (sequence classification)\n",
        "# num_labels=2 berarti model ini akan memprediksi 2 kelas\n",
        "model = TFAutoModelForSequenceClassification.from_pretrained(model_name, num_labels=2)"
      ],
      "metadata": {
        "colab": {
          "base_uri": "https://localhost:8080/"
        },
        "id": "VTfWPUi9OcB3",
        "outputId": "05fbae54-638b-4ade-e905-cf4a7ad694c6"
      },
      "execution_count": 8,
      "outputs": [
        {
          "output_type": "stream",
          "name": "stderr",
          "text": [
            "/usr/local/lib/python3.11/dist-packages/huggingface_hub/utils/_auth.py:94: UserWarning: \n",
            "The secret `HF_TOKEN` does not exist in your Colab secrets.\n",
            "To authenticate with the Hugging Face Hub, create a token in your settings tab (https://huggingface.co/settings/tokens), set it as secret in your Google Colab and restart your session.\n",
            "You will be able to reuse this secret in all of your notebooks.\n",
            "Please note that authentication is recommended but still optional to access public models or datasets.\n",
            "  warnings.warn(\n",
            "All model checkpoint layers were used when initializing TFBertForSequenceClassification.\n",
            "\n",
            "Some layers of TFBertForSequenceClassification were not initialized from the model checkpoint at indobenchmark/indobert-base-p1 and are newly initialized: ['classifier']\n",
            "You should probably TRAIN this model on a down-stream task to be able to use it for predictions and inference.\n"
          ]
        }
      ]
    },
    {
      "cell_type": "markdown",
      "source": [
        "## Tokenisasi dan konversi ke tf.data.Dataset"
      ],
      "metadata": {
        "id": "TwNbMbZ-Om_9"
      }
    },
    {
      "cell_type": "code",
      "source": [
        "def tokenize(texts, labels):\n",
        "    # Tokenisasi teks menggunakan tokenizer IndoBERT\n",
        "    # truncation=True: memotong teks yang melebihi max_length\n",
        "    # padding=True: menambahkan padding agar semua input punya panjang yang sama\n",
        "    # max_length=128: panjang maksimum setiap input token\n",
        "    # return_tensors=\"tf\": hasil tokenisasi dikembalikan dalam format tensor TensorFlow\n",
        "    encodings = tokenizer(\n",
        "        texts, truncation=True, padding=True, max_length=128, return_tensors=\"tf\"\n",
        "    )\n",
        "\n",
        "    # Menggabungkan input token dan label menjadi format tf.data.Dataset\n",
        "    return tf.data.Dataset.from_tensor_slices((\n",
        "        dict(encodings),                     # input model berupa dictionary: input_ids, attention_mask, dll.\n",
        "        tf.convert_to_tensor(labels)        # label target sebagai tensor\n",
        "    ))\n",
        "\n",
        "# Membuat dataset training: diacak (shuffle) agar training tidak overfit urutan data, lalu dikelompokkan per batch\n",
        "train_dataset = tokenize(train_texts, train_labels).shuffle(1000).batch(16)\n",
        "\n",
        "# Membuat dataset validasi tanpa shuffle, hanya batching\n",
        "val_dataset = tokenize(val_texts, val_labels).batch(16)"
      ],
      "metadata": {
        "id": "UDgQhsLTOhYA"
      },
      "execution_count": 9,
      "outputs": []
    },
    {
      "cell_type": "markdown",
      "source": [
        "# Modeling"
      ],
      "metadata": {
        "id": "oTGqMfyaxxdz"
      }
    },
    {
      "cell_type": "markdown",
      "source": [
        "## Compile model"
      ],
      "metadata": {
        "id": "4xyG04JxOrJS"
      }
    },
    {
      "cell_type": "code",
      "source": [
        "# Menggunakan Adam optimizer dengan learning rate 5e-5 (umum untuk fine-tuning BERT)\n",
        "optimizer = tf.keras.optimizers.Adam(learning_rate=5e-5)\n",
        "\n",
        "# Menggunakan SparseCategoricalCrossentropy karena label dalam bentuk integer\n",
        "# from_logits=True karena output model belum melalui softmax\n",
        "loss = tf.keras.losses.SparseCategoricalCrossentropy(from_logits=True)\n",
        "\n",
        "# Metrik evaluasi: akurasi\n",
        "metrics = ['accuracy']\n",
        "\n",
        "# Menyusun (compile) model dengan optimizer, loss function, dan metrik\n",
        "model.compile(optimizer=optimizer, loss=loss, metrics=metrics)\n"
      ],
      "metadata": {
        "id": "o1m0wBJ4OoQ0"
      },
      "execution_count": 10,
      "outputs": []
    },
    {
      "cell_type": "markdown",
      "source": [
        "## Callbacks"
      ],
      "metadata": {
        "id": "GJJkh6_YOvom"
      }
    },
    {
      "cell_type": "code",
      "source": [
        "callbacks = [\n",
        "    # Hentikan training lebih awal jika val_loss tidak membaik selama 2 epoch berturut-turut\n",
        "    tf.keras.callbacks.EarlyStopping(patience=2, restore_best_weights=True),\n",
        "\n",
        "    # Simpan model terbaik (berdasarkan val_loss terendah) ke file 'best_model.keras'\n",
        "    tf.keras.callbacks.ModelCheckpoint('best_model.keras', save_best_only=True)\n",
        "]\n"
      ],
      "metadata": {
        "id": "b_yEya6gOtJ7"
      },
      "execution_count": 11,
      "outputs": []
    },
    {
      "cell_type": "markdown",
      "source": [
        "# Train model"
      ],
      "metadata": {
        "id": "9-_OiCpROzsr"
      }
    },
    {
      "cell_type": "code",
      "source": [
        "history = model.fit(\n",
        "    train_dataset,                  # Dataset untuk proses training\n",
        "    validation_data=val_dataset,    # Dataset untuk validasi di setiap akhir epoch\n",
        "    epochs=4,                       # Jumlah maksimum epoch untuk training\n",
        "    callbacks=callbacks             # Daftar callback untuk kontrol training\n",
        ")\n"
      ],
      "metadata": {
        "colab": {
          "base_uri": "https://localhost:8080/"
        },
        "id": "9rS0Nay1OuDm",
        "outputId": "9622414a-d71f-478e-b64e-1e719a8f1bd9"
      },
      "execution_count": 12,
      "outputs": [
        {
          "output_type": "stream",
          "name": "stdout",
          "text": [
            "Epoch 1/4\n",
            "794/794 [==============================] - ETA: 0s - loss: 0.0682 - accuracy: 0.9812"
          ]
        },
        {
          "output_type": "stream",
          "name": "stderr",
          "text": [
            "/usr/local/lib/python3.11/dist-packages/transformers/generation/tf_utils.py:465: UserWarning: `seed_generator` is deprecated and will be removed in a future version.\n",
            "  warnings.warn(\"`seed_generator` is deprecated and will be removed in a future version.\", UserWarning)\n"
          ]
        },
        {
          "output_type": "stream",
          "name": "stdout",
          "text": [
            "\b\b\b\b\b\b\b\b\b\b\b\b\b\b\b\b\b\b\b\b\b\b\b\b\b\b\b\b\b\b\b\b\b\b\b\b\b\b\b\b\b\b\b\b\b\b\b\b\b\b\b\b\b\b\b\b\b\b\b\b\b\b\b\b\b\b\b\b\b\b\b\b\b\b\b\b\b\b\b\b\b\b\b\b\r794/794 [==============================] - 438s 475ms/step - loss: 0.0682 - accuracy: 0.9812 - val_loss: 0.0496 - val_accuracy: 0.9899\n",
            "Epoch 2/4\n",
            "794/794 [==============================] - 358s 451ms/step - loss: 0.0403 - accuracy: 0.9914 - val_loss: 0.0525 - val_accuracy: 0.9874\n",
            "Epoch 3/4\n",
            "794/794 [==============================] - 419s 527ms/step - loss: 0.0287 - accuracy: 0.9946 - val_loss: 0.0416 - val_accuracy: 0.9934\n",
            "Epoch 4/4\n",
            "794/794 [==============================] - 344s 433ms/step - loss: 0.0911 - accuracy: 0.9798 - val_loss: 0.1215 - val_accuracy: 0.9726\n"
          ]
        }
      ]
    },
    {
      "cell_type": "markdown",
      "source": [
        "# Evaluasi"
      ],
      "metadata": {
        "id": "ns7LpwFVyDJI"
      }
    },
    {
      "cell_type": "markdown",
      "source": [
        "## Plot grafik akurasi dan loss"
      ],
      "metadata": {
        "id": "sa2MJ4lpWn5S"
      }
    },
    {
      "cell_type": "code",
      "source": [
        "def plot_history(history):\n",
        "    plt.figure(figsize=(12, 5))\n",
        "\n",
        "    plt.subplot(1, 2, 1)\n",
        "    plt.plot(history.history['accuracy'], label='Train')\n",
        "    plt.plot(history.history['val_accuracy'], label='Val')\n",
        "    plt.title('Akurasi')\n",
        "    plt.xlabel('Epoch')\n",
        "    plt.ylabel('Akurasi')\n",
        "    plt.legend()\n",
        "\n",
        "    plt.subplot(1, 2, 2)\n",
        "    plt.plot(history.history['loss'], label='Train')\n",
        "    plt.plot(history.history['val_loss'], label='Val')\n",
        "    plt.title('Loss')\n",
        "    plt.xlabel('Epoch')\n",
        "    plt.ylabel('Loss')\n",
        "    plt.legend()\n",
        "\n",
        "    plt.tight_layout()\n",
        "    plt.show()\n",
        "\n",
        "plot_history(history)"
      ],
      "metadata": {
        "colab": {
          "base_uri": "https://localhost:8080/",
          "height": 361
        },
        "id": "gSHOykeMO1Q2",
        "outputId": "018d94b5-762d-4a68-e5a4-db78b754fe36"
      },
      "execution_count": 13,
      "outputs": [
        {
          "output_type": "display_data",
          "data": {
            "text/plain": [
              "<Figure size 1200x500 with 2 Axes>"
            ],
            "image/png": "[encoded data removed]"
          },
          "metadata": {}
        }
      ]
    },
    {
      "cell_type": "markdown",
      "source": [
        "## Skor Akurasi"
      ],
      "metadata": {
        "id": "B4iG0kAmWxw1"
      }
    },
    {
      "cell_type": "code",
      "source": [
        "val_preds = np.argmax(model.predict(val_dataset).logits, axis=1)\n",
        "print(\"\\nClassification Report:\")\n",
        "print(classification_report(val_labels, val_preds, target_names=[\"Bukan Judi\", \"Judi\"]))\n",
        "\n",
        "conf_matrix = confusion_matrix(val_labels, val_preds)\n",
        "sns.heatmap(conf_matrix, annot=True, fmt='d', xticklabels=[\"Bukan Judi\", \"Judi\"], yticklabels=[\"Bukan Judi\", \"Judi\"])\n",
        "plt.title(\"Confusion Matrix\")\n",
        "plt.xlabel(\"Prediksi\")\n",
        "plt.ylabel(\"Aktual\")\n",
        "plt.show()"
      ],
      "metadata": {
        "colab": {
          "base_uri": "https://localhost:8080/",
          "height": 680
        },
        "id": "kN7eKns7WvyN",
        "outputId": "efae8e80-7fbb-49ce-e6f2-d5f7a1fc3624"
      },
      "execution_count": 14,
      "outputs": [
        {
          "output_type": "stream",
          "name": "stdout",
          "text": [
            "199/199 [==============================] - 32s 141ms/step\n",
            "\n",
            "Classification Report:\n",
            "              precision    recall  f1-score   support\n",
            "\n",
            "  Bukan Judi       0.99      1.00      0.99      1650\n",
            "        Judi       1.00      0.99      0.99      1526\n",
            "\n",
            "    accuracy                           0.99      3176\n",
            "   macro avg       0.99      0.99      0.99      3176\n",
            "weighted avg       0.99      0.99      0.99      3176\n",
            "\n"
          ]
        },
        {
          "output_type": "display_data",
          "data": {
            "text/plain": [
              "<Figure size 640x480 with 2 Axes>"
            ],
            "image/png": "[encoded data removed]"
          },
          "metadata": {}
        }
      ]
    },
    {
      "cell_type": "markdown",
      "source": [
        "# Push model ke huggingface"
      ],
      "metadata": {
        "id": "MzxnS6duXUNr"
      }
    },
    {
      "cell_type": "code",
      "source": [
        "!pip install huggingface_hub\n",
        "from huggingface_hub import notebook_login\n",
        "\n",
        "notebook_login()"
      ],
      "metadata": {
        "colab": {
          "base_uri": "https://localhost:8080/",
          "height": 263,
          "referenced_widgets": [
            "3ef52d5a22654027af0ac13b9e7ac1d6",
            "7454dd8f007c40e79130922eab56941d",
            "28a414f915224408a1fe7164bdcf154b",
            "764485acfd654a2da2ccb13a0994e040",
            "68afe27fd101435f8ca54d5342a21873",
            "c2354e56a995427ca0796fb317c7674e",
            "60239947ad1645c8ac1d3331097ae82b",
            "0ab72e406b704a97828f7343133e4266",
            "e43a37bdb1fc4f8bb4b62b73916a72f0",
            "37b704e86abd4198a20e9b92182012dd",
            "825227d764494f23b613760e5a7e8d52",
            "0a38ff94c2fa49a8bd40727dda5dfe7c",
            "ebbe4425d93c4dcf8f2cf40145fd845c",
            "30f133a5c11a47fea2f1c868aefef792",
            "5be8e0ffe03c40a6a753c2e51d606b76",
            "e385dbd2a62d40b1a9712d314c221b6a",
            "e74e6bd198434aa4ac3520281ea96a28",
            "0f47f04bf3d343989eb8d4f4dcdd2bb7",
            "b3df4a15cbc848b3bbfc5a09135edced",
            "f77e7ebd766944c5939cbf963d84178a"
          ]
        },
        "id": "rTa7_5iKXWJX",
        "outputId": "296f6ebd-a07e-41f0-aec3-aa19c6d5eb6a"
      },
      "execution_count": 15,
      "outputs": [
        {
          "output_type": "stream",
          "name": "stdout",
          "text": [
            "Requirement already satisfied: huggingface_hub in /usr/local/lib/python3.11/dist-packages (0.32.4)\n",
            "Requirement already satisfied: filelock in /usr/local/lib/python3.11/dist-packages (from huggingface_hub) (3.18.0)\n",
            "Requirement already satisfied: fsspec>=2023.5.0 in /usr/local/lib/python3.11/dist-packages (from huggingface_hub) (2025.3.2)\n",
            "Requirement already satisfied: packaging>=20.9 in /usr/local/lib/python3.11/dist-packages (from huggingface_hub) (24.2)\n",
            "Requirement already satisfied: pyyaml>=5.1 in /usr/local/lib/python3.11/dist-packages (from huggingface_hub) (6.0.2)\n",
            "Requirement already satisfied: requests in /usr/local/lib/python3.11/dist-packages (from huggingface_hub) (2.32.3)\n",
            "Requirement already satisfied: tqdm>=4.42.1 in /usr/local/lib/python3.11/dist-packages (from huggingface_hub) (4.67.1)\n",
            "Requirement already satisfied: typing-extensions>=3.7.4.3 in /usr/local/lib/python3.11/dist-packages (from huggingface_hub) (4.14.0)\n",
            "Requirement already satisfied: hf-xet<2.0.0,>=1.1.2 in /usr/local/lib/python3.11/dist-packages (from huggingface_hub) (1.1.2)\n",
            "Requirement already satisfied: charset-normalizer<4,>=2 in /usr/local/lib/python3.11/dist-packages (from requests->huggingface_hub) (3.4.2)\n",
            "Requirement already satisfied: idna<4,>=2.5 in /usr/local/lib/python3.11/dist-packages (from requests->huggingface_hub) (3.10)\n",
            "Requirement already satisfied: urllib3<3,>=1.21.1 in /usr/local/lib/python3.11/dist-packages (from requests->huggingface_hub) (2.4.0)\n",
            "Requirement already satisfied: certifi>=2017.4.17 in /usr/local/lib/python3.11/dist-packages (from requests->huggingface_hub) (2025.4.26)\n"
          ]
        },
        {
          "output_type": "display_data",
          "data": {
            "text/plain": [
              "VBox(children=(HTML(value='<center> <img\\nsrc=https://huggingface.co/front/assets/huggingface_logo-noborder.sv…"
            ],
            "application/vnd.jupyter.widget-view+json": {
              "version_major": 2,
              "version_minor": 0,
              "model_id": "3ef52d5a22654027af0ac13b9e7ac1d6"
            }
          },
          "metadata": {}
        }
      ]
    },
    {
      "cell_type": "code",
      "source": [
        "model.save_pretrained(\"indobert-finetuned-judi\")\n",
        "tokenizer.save_pretrained(\"indobert-finetuned-judi\")"
      ],
      "metadata": {
        "colab": {
          "base_uri": "https://localhost:8080/"
        },
        "id": "YljBdo6_0XTU",
        "outputId": "14cf2875-eee5-444a-b5ca-1532630c5e05"
      },
      "execution_count": 16,
      "outputs": [
        {
          "output_type": "execute_result",
          "data": {
            "text/plain": [
              "('indobert-finetuned-judi/tokenizer_config.json',\n",
              " 'indobert-finetuned-judi/special_tokens_map.json',\n",
              " 'indobert-finetuned-judi/vocab.txt',\n",
              " 'indobert-finetuned-judi/added_tokens.json',\n",
              " 'indobert-finetuned-judi/tokenizer.json')"
            ]
          },
          "metadata": {},
          "execution_count": 16
        }
      ]
    },
    {
      "cell_type": "code",
      "source": [
        "from huggingface_hub import HfApi, HfFolder, Repository, create_repo, upload_folder\n",
        "\n",
        "repo_name = \"indobert-finetuned-judi\"\n",
        "# Buat repo\n",
        "create_repo(repo_name, private=False)\n",
        "\n",
        "# Upload isi folder ke repo tersebut\n",
        "upload_folder(\n",
        "    folder_path=\"indobert-finetuned-judi\",\n",
        "    repo_id=f\"fhru/{repo_name}\",\n",
        "    commit_message=\"Upload fine-tuned IndoBERT for comment classification\"\n",
        ")\n"
      ],
      "metadata": {
        "colab": {
          "base_uri": "https://localhost:8080/",
          "height": 136,
          "referenced_widgets": [
            "bd357db4d4f047b3a63c7f475d3c43d2",
            "b6ba01734c6f4a589a5118e5c0952e42",
            "c8827b007a00473d8ac4f2457a4aea87",
            "aabb4a41994f44a8b5c81ebee74e9b93",
            "d9329b42a74e4204ae8205c83460d167",
            "09e6000828b54219a7aea58033e8b15f",
            "6998ee73182f499199ea834953fa3ff7",
            "8dcfff2d9c854fcd810450d8818f77d0",
            "9e9f766aa1ae497f8940d2e79b5cd9bd",
            "7e09d132925b485a910eb08988ac635e",
            "1ba9dd9506bd479bb0b4a700d07f10a2"
          ]
        },
        "id": "sGP8lzi10ciA",
        "outputId": "a7737884-8777-4212-c30a-65ce3905bd00"
      },
      "execution_count": 18,
      "outputs": [
        {
          "output_type": "display_data",
          "data": {
            "text/plain": [
              "Uploading...:   0%|          | 0.00/498M [00:00<?, ?B/s]"
            ],
            "application/vnd.jupyter.widget-view+json": {
              "version_major": 2,
              "version_minor": 0,
              "model_id": "bd357db4d4f047b3a63c7f475d3c43d2"
            }
          },
          "metadata": {}
        },
        {
          "output_type": "execute_result",
          "data": {
            "text/plain": [
              "CommitInfo(commit_url='https://huggingface.co/fhru/indobert-finetuned-judi/commit/d31712f02baee26e80a0d50f89bb9981e95ed3e0', commit_message='Upload fine-tuned IndoBERT for comment classification', commit_description='', oid='d31712f02baee26e80a0d50f89bb9981e95ed3e0', pr_url=None, repo_url=RepoUrl('https://huggingface.co/fhru/indobert-finetuned-judi', endpoint='https://huggingface.co', repo_type='model', repo_id='fhru/indobert-finetuned-judi'), pr_revision=None, pr_num=None)"
            ],
            "application/vnd.google.colaboratory.intrinsic+json": {
              "type": "string"
            }
          },
          "metadata": {},
          "execution_count": 18
        }
      ]
    },
    {
      "cell_type": "markdown",
      "source": [
        "## Test Load model"
      ],
      "metadata": {
        "id": "c0jDUan3_Fex"
      }
    },
    {
      "cell_type": "code",
      "source": [
        "loaded_model = TFAutoModelForSequenceClassification.from_pretrained(\"fhru/indobert-finetuned-judi\")\n",
        "loaded_tokenizer = AutoTokenizer.from_pretrained(\"fhru/indobert-finetuned-judi\")"
      ],
      "metadata": {
        "colab": {
          "base_uri": "https://localhost:8080/"
        },
        "id": "JsW-1gCp-Uqa",
        "outputId": "6c69ee77-2a12-4733-9ff9-f317d883b6e7"
      },
      "execution_count": 24,
      "outputs": [
        {
          "output_type": "stream",
          "name": "stderr",
          "text": [
            "Some layers from the model checkpoint at fhru/indobert-finetuned-judi were not used when initializing TFBertForSequenceClassification: ['dropout_37']\n",
            "- This IS expected if you are initializing TFBertForSequenceClassification from the checkpoint of a model trained on another task or with another architecture (e.g. initializing a BertForSequenceClassification model from a BertForPreTraining model).\n",
            "- This IS NOT expected if you are initializing TFBertForSequenceClassification from the checkpoint of a model that you expect to be exactly identical (initializing a BertForSequenceClassification model from a BertForSequenceClassification model).\n",
            "All the layers of TFBertForSequenceClassification were initialized from the model checkpoint at fhru/indobert-finetuned-judi.\n",
            "If your task is similar to the task the model of the checkpoint was trained on, you can already use TFBertForSequenceClassification for predictions without further training.\n"
          ]
        }
      ]
    },
    {
      "cell_type": "markdown",
      "source": [
        "# Inference"
      ],
      "metadata": {
        "id": "EYc5TVWmX4NC"
      }
    },
    {
      "cell_type": "code",
      "source": [
        "def predict(texts):\n",
        "    inputs = loaded_tokenizer(\n",
        "        texts, padding=True, truncation=True, max_length=128, return_tensors=\"tf\"\n",
        "    )\n",
        "    outputs = loaded_model(inputs)\n",
        "    logits = outputs.logits\n",
        "    probs = tf.nn.softmax(logits, axis=1).numpy()\n",
        "    preds = np.argmax(probs, axis=1)\n",
        "    confidences = np.max(probs, axis=1)\n",
        "\n",
        "    labels = [\"Bukan Judi Online\", \"Judi Online\"]\n",
        "    results = [\n",
        "        f\"{labels[pred]} (Confidence: {confidence:.2f})\"\n",
        "        for pred, confidence in zip(preds, confidences)\n",
        "    ]\n",
        "    return results"
      ],
      "metadata": {
        "id": "v14BliK0XpHB"
      },
      "execution_count": 25,
      "outputs": []
    },
    {
      "cell_type": "code",
      "source": [
        "sample_texts = [\n",
        "    \"roy suryo itu kan penjahat yang keluar dari penjara kok membuat ulah lagi\",\n",
        "    \"ya alloh ya rob penjarakan orang munafik\",\n",
        "    \"kerennn contentnya kakak cari situs yang benar itu weton88\",\n",
        "    \"weton88 tempat paling uhuy\"\n",
        "]\n",
        "\n",
        "predictions = predict(sample_texts)\n",
        "for text, result in zip(sample_texts, predictions):\n",
        "    print(f\"Komentar: \\\"{text}\\\" -> Prediksi: {result}\")"
      ],
      "metadata": {
        "colab": {
          "base_uri": "https://localhost:8080/"
        },
        "id": "sYURFaqNXvIQ",
        "outputId": "5e1e822c-259d-4235-e2fe-07bae8d3a953"
      },
      "execution_count": 26,
      "outputs": [
        {
          "output_type": "stream",
          "name": "stdout",
          "text": [
            "Komentar: \"roy suryo itu kan penjahat yang keluar dari penjara kok membuat ulah lagi\" -> Prediksi: Bukan Judi Online (Confidence: 1.00)\n",
            "Komentar: \"ya alloh ya rob penjarakan orang munafik\" -> Prediksi: Bukan Judi Online (Confidence: 1.00)\n",
            "Komentar: \"kerennn contentnya kakak cari situs yang benar itu weton88\" -> Prediksi: Judi Online (Confidence: 1.00)\n",
            "Komentar: \"weton88 tempat paling uhuy\" -> Prediksi: Judi Online (Confidence: 1.00)\n"
          ]
        }
      ]
    }
  ]
}